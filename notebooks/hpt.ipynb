{
 "cells": [
  {
   "cell_type": "markdown",
   "metadata": {},
   "source": [
    "# Kats 204 Forecasting with Meta-Learning"
   ]
  },
  {
   "cell_type": "markdown",
   "metadata": {},
   "source": [
    "This tutorial will introduce the meta-learning framework for forecasting in Kats.  The table of contents for Kats 204 is as follows:\n",
    "\n",
    "1.  Overview of Meta-Learning Framework For Forecasting         \n",
    "2.  Introduction to `GetMetaData`\n",
    "3.  Determining Predictability with `MetaLearnPredictability`\n",
    "4.  Model Selection with `MetaLearnModelSelect`       \n",
    "5.  Hyperparameter Tuning with `MetaLearnHPT`              \n",
    "    5.1. Initializing `MetaLearnHPT`             \n",
    "    5.2. `MetaLearnHPT` with Default Neural Network Model Structure      \n",
    "    5.3. `MetaLearnHPT` with Custom Neural Network Model Structure\n",
    " \n",
    "# For the details of methodology of meta-learning framework and our experiment results, please see the reference https://arxiv.org/pdf/2102.05740.pdf ."
   ]
  },
  {
   "cell_type": "markdown",
   "metadata": {},
   "source": [
    "**Note:** We provide two types of tutorial notebooks\n",
    "- **Kats 101**, basic data structure and functionalities in Kats \n",
    "- **Kats 20x**, advanced topics, including advanced forecasting techniques, advanced detection algorithms, `TsFeatures`, meta-learning, etc. "
   ]
  },
  {
   "cell_type": "markdown",
   "metadata": {},
   "source": [
    "## 1. Overview of Meta-Learning Framework For Forecasting\n",
    "\n",
    "Suppose we have a time series and we are looking to build the best possible forecast (with respect to a predefined error metric such as mean absolute error) from the following list of candidate models (and possibly other forecasting models in Kats too):\n",
    "* ARIMA\n",
    "* SARIMA\n",
    "* Holt-Winters\n",
    "* Prophet\n",
    "* Theta\n",
    "* STLF\n",
    "\n",
    "\n",
    "\n",
    "For a single time series, it is straightforward to to do hyperparameter tuning for each of the candidate models with this time series, calculate the error metric, and choose the model that minimizes the error metric.  We have discussed this methodology in detail in Kats 201.  Our basic metadata object, `GetMetaData`, which we will introduce below, also does this calculation to find the best forecasting model for a single time series.\n",
    "\n",
    "However, when we are working with a large number of time series, repeating this process quickly becomes intractable, and for that, we include a meta-learning framework for forecasting.  There are two key model classes, plus one optional one, in our meta-learning framework:\n",
    "\n",
    "1. `MetaLearnModelSelect`: Given the metadata for a time series, predict the best model family (from the candidate models of interest) to forecast the series.  This model is a random forest by default.\n",
    "2. `MetaLearnHPT`: Given a time series and a model type, predict the best parameters for this model.  This model is a neutral network.  \n",
    "3. `MetaLearnPredictability` (optional): Given the metadata for a time series, predict if it is \"predictable\", i.e. if it is possible to forecast with a threshold error.  This model is a random forest by default.\n",
    "\n",
    "For each of these models, you can use labeled training data to build a model or you load a pre-trained model from a file path.  \n",
    "\n",
    "We use the `GetMetaData` object to represent the metadata for a time series in `MetaLearnModelSelect` and `MetaLearnPredictability`.  This tutorial begins with an introduction to the `GetMetaData` object.  Since this object is heavily dependent on `TsFeatures`, if you are not familiar `TsFeatures`, you should check out Kats 203 prior to continuing with this tutorial.  \n",
    "\n",
    "Next we will use labeled time series data from the `m3_meta_data.csv` file to show how to use the `MetaLearnPredictability`, `MetaLearnModelSelect` and `MetaLearnPredictability`.  \n",
    "\n",
    "\n",
    "The sample data in `m3_meta_data.csv` is very small, with 78 labeled examples, so the examples we provide here will not be highly accurate, but they will show you the proper workflow for using the meta-learning framework for forecasting in Kats.\n",
    "\n",
    "\n",
    "The full table of contents for Kats 204 is as follow"
   ]
  },
  {
   "cell_type": "markdown",
   "metadata": {},
   "source": [
    "## 2. Introduction to `GetMetaData`\n",
    "\n",
    "The `GetMetaData` class generates the metadata for any time series.  There are three key components to the the metadata for a time series:\n",
    "1. `features`: the `TsFeatures` dictionary for the time series\n",
    "2. `hpt_res`: a dictionary giving the best hyperparameters for each candidate model and the corresponding error metric for the time series \n",
    "3. `best_model`: the name of the model with the smallest error metric\n",
    "\n",
    "The default error metric is mean absolute error (mae) but this can be controlled with the `error_method` argument in `GetMetaData`.  \n",
    "\n",
    "The list of candidate models that we consider is controlled by the `all_models` argument in `GetMetaData`, which is a dictionary with string names of the candidate models as keys and corresponding model classes as value.\n",
    "\n",
    "with keys equal to the string names of the models as keys  and values equal to the corresponding model class.  The keys in `hpt_res` and the value of `best_model` come from the keys of the `all_models` dictionary.  The default value of `all_models` will include the following six models.\n",
    "\n",
    "1. ARIMA\n",
    "2. SARIMA\n",
    "3. Holt-Winters\n",
    "4. Prophet`\n",
    "5. Theta\n",
    "6. STLF"
   ]
  },
  {
   "cell_type": "markdown",
   "metadata": {},
   "source": [
    "Our first example uses the `air_passengers` data set.  We show how to get the metadata for this time series.  We start by loading the time series into a `TimeSeriesData` object."
   ]
  },
  {
   "cell_type": "code",
   "execution_count": 4,
   "metadata": {},
   "outputs": [],
   "source": [
    "# %%capture\n",
    "# # For Google Colab:\n",
    "# !pip install kats\n",
    "# !wget https://raw.githubusercontent.com/facebookresearch/Kats/main/kats/data/air_passengers.csv\n",
    "# !wget https://raw.githubusercontent.com/facebookresearch/Kats/main/kats/data/m3_meta_data.csv"
   ]
  },
  {
   "cell_type": "code",
   "execution_count": 5,
   "metadata": {},
   "outputs": [],
   "source": [
    "import pandas as pd\n",
    "import numpy as np\n",
    "import sys\n",
    "import matplotlib.pyplot as plt\n",
    "import warnings\n",
    "\n",
    "warnings.simplefilter(action='ignore')\n",
    "sys.path.append(\"../\")\n",
    "\n",
    "from kats.consts import TimeSeriesData\n",
    "\n",
    "try: # If running on Jupyter\n",
    "    air_passengers_df = pd.read_csv(\"../data/air_passengers.csv\")\n",
    "except FileNotFoundError: # If running on colab\n",
    "    air_passengers_df = pd.read_csv(\"air_passengers.csv\")\n",
    "    \n",
    "air_passengers_df.columns = [\"time\", \"value\"]\n",
    "air_passengers_ts = TimeSeriesData(air_passengers_df)"
   ]
  },
  {
   "cell_type": "markdown",
   "metadata": {},
   "source": [
    "Now we can construct the `GetMetaData` object for the `air_passengers` data set time series like follows.  We use all of the default settings except that we use mean absolute percentage error (mape) as our error metric rather than the default of mean absolute error (mae) "
   ]
  },
  {
   "cell_type": "code",
   "execution_count": 6,
   "metadata": {},
   "outputs": [],
   "source": [
    "from kats.models.metalearner.get_metadata import GetMetaData\n",
    "\n",
    "# create an object MD of class GetMetaData with error method mean absolute percentage error (mape)\n",
    "MD = GetMetaData(data=air_passengers_ts, error_method='mape')"
   ]
  },
  {
   "cell_type": "markdown",
   "metadata": {},
   "source": [
    "Let's take a look at the `all_models` dictionary that is used by default here.  You are allowed to specify your own `all_models` dictionary as long as all the values are classes that extends the abstract class `kats.models.Model`."
   ]
  },
  {
   "cell_type": "code",
   "execution_count": 7,
   "metadata": {},
   "outputs": [
    {
     "data": {
      "text/plain": [
       "{'arima': kats.models.arima.ARIMAModel,\n",
       " 'holtwinters': kats.models.holtwinters.HoltWintersModel,\n",
       " 'prophet': kats.models.prophet.ProphetModel,\n",
       " 'theta': kats.models.theta.ThetaModel,\n",
       " 'stlf': kats.models.stlf.STLFModel,\n",
       " 'sarima': kats.models.sarima.SARIMAModel}"
      ]
     },
     "execution_count": 7,
     "metadata": {},
     "output_type": "execute_result"
    }
   ],
   "source": [
    "MD.all_models"
   ]
  },
  {
   "cell_type": "markdown",
   "metadata": {},
   "source": [
    "The `all_params` dictionary will have the same keys as the `all_models` dictionary, and the values are the corresponding parameter class (i.e. a class that extends the class `kats.const.Params`)"
   ]
  },
  {
   "cell_type": "code",
   "execution_count": 8,
   "metadata": {},
   "outputs": [
    {
     "data": {
      "text/plain": [
       "{'arima': kats.models.arima.ARIMAParams,\n",
       " 'holtwinters': kats.models.holtwinters.HoltWintersParams,\n",
       " 'prophet': kats.models.prophet.ProphetParams,\n",
       " 'theta': kats.models.theta.ThetaParams,\n",
       " 'stlf': kats.models.stlf.STLFParams,\n",
       " 'sarima': kats.models.sarima.SARIMAParams}"
      ]
     },
     "execution_count": 8,
     "metadata": {},
     "output_type": "execute_result"
    }
   ],
   "source": [
    "MD.all_params"
   ]
  },
  {
   "cell_type": "markdown",
   "metadata": {},
   "source": [
    "Now we can use the `get_meta_data` function to calculate all the metadata and output the result as a dictionary."
   ]
  },
  {
   "cell_type": "code",
   "execution_count": 9,
   "metadata": {},
   "outputs": [
    {
     "name": "stdout",
     "output_type": "stream",
     "text": [
      "RUNNING THE L-BFGS-B CODE\n",
      "\n",
      "           * * *\n",
      "\n",
      "Machine precision = 2.220D-16\n",
      " N =           10     M =           12\n",
      "\n",
      "At X0         0 variables are exactly at the bounds\n",
      "\n",
      "At iterate    0    f= -2.06291D+00    |proj g|=  4.34657D+00\n",
      "\n",
      "At iterate    5    f= -2.06380D+00    |proj g|=  5.59738D-01\n",
      "\n",
      "At iterate   10    f= -2.06523D+00    |proj g|=  3.03566D+00\n",
      "\n",
      "At iterate   15    f= -2.06570D+00    |proj g|=  2.45659D-01\n",
      "\n",
      "At iterate   20    f= -2.06632D+00    |proj g|=  1.49260D+00\n"
     ]
    },
    {
     "name": "stderr",
     "output_type": "stream",
     "text": [
      " This problem is unconstrained.\n"
     ]
    },
    {
     "name": "stdout",
     "output_type": "stream",
     "text": [
      "\n",
      "At iterate   25    f= -2.06691D+00    |proj g|=  1.63433D-01\n",
      "\n",
      "At iterate   30    f= -2.06699D+00    |proj g|=  2.00792D-01\n",
      "\n",
      "At iterate   35    f= -2.06869D+00    |proj g|=  8.79699D-01\n",
      "\n",
      "At iterate   40    f= -2.06966D+00    |proj g|=  1.41038D-02\n",
      "\n",
      "At iterate   45    f= -2.07010D+00    |proj g|=  9.35611D-02\n",
      "\n",
      "At iterate   50    f= -2.07060D+00    |proj g|=  5.01889D-02\n",
      "\n",
      "At iterate   55    f= -2.07076D+00    |proj g|=  2.26065D-02\n",
      "\n",
      "At iterate   60    f= -2.07092D+00    |proj g|=  2.01618D-02\n",
      "\n",
      "At iterate   65    f= -2.07093D+00    |proj g|=  1.62470D-01\n",
      "\n",
      "At iterate   70    f= -2.07131D+00    |proj g|=  5.24708D-01\n",
      "\n",
      "At iterate   75    f= -2.07166D+00    |proj g|=  3.85783D-01\n",
      "\n",
      "At iterate   80    f= -2.07169D+00    |proj g|=  1.33358D-01\n",
      "\n",
      "At iterate   85    f= -2.07170D+00    |proj g|=  1.16134D-03\n",
      "\n",
      "At iterate   90    f= -2.07170D+00    |proj g|=  1.49214D-05\n",
      "\n",
      "At iterate   95    f= -2.07170D+00    |proj g|=  9.54792D-06\n",
      "\n",
      "           * * *\n",
      "\n",
      "Tit   = total number of iterations\n",
      "Tnf   = total number of function evaluations\n",
      "Tnint = total number of segments explored during Cauchy searches\n",
      "Skip  = number of BFGS updates skipped\n",
      "Nact  = number of active bounds at final generalized Cauchy point\n",
      "Projg = norm of the final projected gradient\n",
      "F     = final function value\n",
      "\n",
      "           * * *\n",
      "\n",
      "   N    Tit     Tnf  Tnint  Skip  Nact     Projg        F\n",
      "   10     95    120      1     0     0   9.548D-06  -2.072D+00\n",
      "  F =  -2.0716953897515484     \n",
      "\n",
      "CONVERGENCE: REL_REDUCTION_OF_F_<=_FACTR*EPSMCH             \n",
      "RUNNING THE L-BFGS-B CODE\n",
      "\n",
      "           * * *\n",
      "\n",
      "Machine precision = 2.220D-16\n",
      " N =            7     M =           12\n",
      "\n",
      "At X0         0 variables are exactly at the bounds\n",
      "\n",
      "At iterate    0    f= -1.81064D+00    |proj g|=  2.87390D+00\n",
      "\n",
      "At iterate    5    f= -1.81066D+00    |proj g|=  1.35247D+00\n",
      "\n",
      "At iterate   10    f= -1.81122D+00    |proj g|=  1.54819D+01\n",
      "\n",
      "At iterate   15    f= -1.81268D+00    |proj g|=  8.46045D-02\n",
      "\n",
      "At iterate   20    f= -1.81531D+00    |proj g|=  1.66418D-02\n",
      "\n",
      "At iterate   25    f= -1.81600D+00    |proj g|=  2.47113D+00\n",
      "\n",
      "At iterate   30    f= -1.81689D+00    |proj g|=  1.44428D-01\n",
      "\n",
      "At iterate   35    f= -1.81690D+00    |proj g|=  2.09270D-01\n"
     ]
    },
    {
     "name": "stderr",
     "output_type": "stream",
     "text": [
      " This problem is unconstrained.\n"
     ]
    },
    {
     "name": "stdout",
     "output_type": "stream",
     "text": [
      "\n",
      "At iterate   40    f= -1.81703D+00    |proj g|=  1.79257D-01\n",
      "\n",
      "At iterate   45    f= -1.81703D+00    |proj g|=  3.30143D-02\n",
      "\n",
      "At iterate   50    f= -1.81703D+00    |proj g|=  1.73694D-03\n",
      "\n",
      "           * * *\n",
      "\n",
      "Tit   = total number of iterations\n",
      "Tnf   = total number of function evaluations\n",
      "Tnint = total number of segments explored during Cauchy searches\n",
      "Skip  = number of BFGS updates skipped\n",
      "Nact  = number of active bounds at final generalized Cauchy point\n",
      "Projg = norm of the final projected gradient\n",
      "F     = final function value\n",
      "\n",
      "           * * *\n",
      "\n",
      "   N    Tit     Tnf  Tnint  Skip  Nact     Projg        F\n",
      "    7     54     67      1     0     0   2.358D-05  -1.817D+00\n",
      "  F =  -1.8170319863295508     \n",
      "\n",
      "CONVERGENCE: REL_REDUCTION_OF_F_<=_FACTR*EPSMCH             \n",
      "RUNNING THE L-BFGS-B CODE\n",
      "\n",
      "           * * *\n",
      "\n",
      "Machine precision = 2.220D-16\n",
      " N =            4     M =           12\n",
      "\n",
      "At X0         0 variables are exactly at the bounds\n",
      "\n",
      "At iterate    0    f= -1.87829D+00    |proj g|=  3.90799D+01\n",
      "\n",
      "At iterate    5    f= -1.88851D+00    |proj g|=  7.89691D-02\n",
      "\n",
      "At iterate   10    f= -1.88853D+00    |proj g|=  1.54995D+00\n",
      "\n",
      "At iterate   15    f= -1.88883D+00    |proj g|=  7.02917D-01\n",
      "\n",
      "At iterate   20    f= -1.88883D+00    |proj g|=  7.45566D-03\n",
      "\n",
      "At iterate   25    f= -1.88883D+00    |proj g|=  1.73592D-01\n",
      "\n",
      "At iterate   30    f= -1.88885D+00    |proj g|=  5.83710D-01\n",
      "\n",
      "At iterate   35    f= -1.88885D+00    |proj g|=  1.82521D-05\n",
      "\n",
      "           * * *\n",
      "\n",
      "Tit   = total number of iterations\n",
      "Tnf   = total number of function evaluations\n",
      "Tnint = total number of segments explored during Cauchy searches\n",
      "Skip  = number of BFGS updates skipped\n",
      "Nact  = number of active bounds at final generalized Cauchy point\n",
      "Projg = norm of the final projected gradient\n",
      "F     = final function value\n",
      "\n",
      "           * * *\n",
      "\n",
      "   N    Tit     Tnf  Tnint  Skip  Nact     Projg        F\n",
      "    4     36     46      1     0     0   5.129D-06  -1.889D+00\n",
      "  F =  -1.8888517860471457     \n",
      "\n",
      "CONVERGENCE: REL_REDUCTION_OF_F_<=_FACTR*EPSMCH             \n",
      "RUNNING THE L-BFGS-B CODE\n",
      "\n",
      "           * * *\n",
      "\n",
      "Machine precision = 2.220D-16\n",
      " N =            4     M =           12\n",
      "\n",
      "At X0         0 variables are exactly at the bounds\n",
      "\n",
      "At iterate    0    f= -1.76275D+00    |proj g|=  8.07468D+01\n"
     ]
    },
    {
     "name": "stderr",
     "output_type": "stream",
     "text": [
      " This problem is unconstrained.\n",
      " This problem is unconstrained.\n"
     ]
    },
    {
     "name": "stdout",
     "output_type": "stream",
     "text": [
      "\n",
      "At iterate    5    f= -1.76868D+00    |proj g|=  6.36423D-02\n",
      "\n",
      "At iterate   10    f= -1.76868D+00    |proj g|=  1.17223D+00\n",
      "\n",
      "At iterate   15    f= -1.76883D+00    |proj g|=  1.14006D+01\n",
      "\n",
      "At iterate   20    f= -1.76941D+00    |proj g|=  4.98468D-02\n",
      "\n",
      "At iterate   25    f= -1.76941D+00    |proj g|=  1.44938D-02\n",
      "\n",
      "At iterate   30    f= -1.76941D+00    |proj g|=  2.18956D-01\n",
      "\n",
      "At iterate   35    f= -1.76941D+00    |proj g|=  1.43069D+00\n",
      "\n",
      "At iterate   40    f= -1.76942D+00    |proj g|=  1.80276D-03\n",
      "\n",
      "           * * *\n",
      "\n",
      "Tit   = total number of iterations\n",
      "Tnf   = total number of function evaluations\n",
      "Tnint = total number of segments explored during Cauchy searches\n",
      "Skip  = number of BFGS updates skipped\n",
      "Nact  = number of active bounds at final generalized Cauchy point\n",
      "Projg = norm of the final projected gradient\n",
      "F     = final function value\n",
      "\n",
      "           * * *\n",
      "\n",
      "   N    Tit     Tnf  Tnint  Skip  Nact     Projg        F\n",
      "    4     44     54      1     0     0   4.174D-05  -1.769D+00\n",
      "  F =  -1.7694192192890801     \n",
      "\n",
      "CONVERGENCE: REL_REDUCTION_OF_F_<=_FACTR*EPSMCH             \n",
      "RUNNING THE L-BFGS-B CODE\n",
      "\n",
      "           * * *\n",
      "\n",
      "Machine precision = 2.220D-16\n",
      " N =            7     M =           12\n",
      "\n",
      "At X0         0 variables are exactly at the bounds\n",
      "\n",
      "At iterate    0    f= -1.80317D+00    |proj g|=  1.34477D+02\n",
      "\n",
      "At iterate    5    f= -1.81466D+00    |proj g|=  2.64692D-01\n",
      "\n",
      "At iterate   10    f= -1.81468D+00    |proj g|=  5.37177D+00\n",
      "\n",
      "At iterate   15    f= -1.81601D+00    |proj g|=  3.04942D+01\n",
      "\n",
      "At iterate   20    f= -1.81680D+00    |proj g|=  1.70395D-02\n",
      "\n",
      "At iterate   25    f= -1.81680D+00    |proj g|=  3.90658D-01\n",
      "\n",
      "At iterate   30    f= -1.81685D+00    |proj g|=  4.48287D+00\n"
     ]
    },
    {
     "name": "stderr",
     "output_type": "stream",
     "text": [
      " This problem is unconstrained.\n"
     ]
    },
    {
     "name": "stdout",
     "output_type": "stream",
     "text": [
      "\n",
      "At iterate   35    f= -1.81747D+00    |proj g|=  3.59314D+00\n",
      "\n",
      "At iterate   40    f= -1.81748D+00    |proj g|=  1.79589D-02\n",
      "\n",
      "At iterate   45    f= -1.81748D+00    |proj g|=  3.25125D-01\n",
      "\n",
      "At iterate   50    f= -1.81750D+00    |proj g|=  2.95402D+00\n",
      "\n",
      "At iterate   55    f= -1.81755D+00    |proj g|=  3.75416D-02\n",
      "\n",
      "At iterate   60    f= -1.81755D+00    |proj g|=  1.11399D-02\n",
      "\n",
      "At iterate   65    f= -1.81755D+00    |proj g|=  1.51512D-01\n",
      "\n",
      "At iterate   70    f= -1.81755D+00    |proj g|=  2.79525D-01\n",
      "\n",
      "At iterate   75    f= -1.81755D+00    |proj g|=  5.30123D-03\n",
      "\n",
      "At iterate   80    f= -1.81755D+00    |proj g|=  5.94002D-02\n",
      "\n",
      "At iterate   85    f= -1.81755D+00    |proj g|=  1.37418D-01\n",
      "\n",
      "At iterate   90    f= -1.81756D+00    |proj g|=  2.07485D-02\n",
      "\n",
      "At iterate   95    f= -1.81756D+00    |proj g|=  9.43214D-03\n",
      "\n",
      "At iterate  100    f= -1.81756D+00    |proj g|=  7.83357D-02\n",
      "\n",
      "At iterate  105    f= -1.81756D+00    |proj g|=  6.98175D-04\n",
      "\n",
      "At iterate  110    f= -1.81756D+00    |proj g|=  3.38036D-03\n",
      "\n",
      "At iterate  115    f= -1.81756D+00    |proj g|=  2.83942D-03\n",
      "\n",
      "At iterate  120    f= -1.81756D+00    |proj g|=  3.35132D-04\n",
      "\n",
      "           * * *\n",
      "\n",
      "Tit   = total number of iterations\n",
      "Tnf   = total number of function evaluations\n",
      "Tnint = total number of segments explored during Cauchy searches\n",
      "Skip  = number of BFGS updates skipped\n",
      "Nact  = number of active bounds at final generalized Cauchy point\n",
      "Projg = norm of the final projected gradient\n",
      "F     = final function value\n",
      "\n",
      "           * * *\n",
      "\n",
      "   N    Tit     Tnf  Tnint  Skip  Nact     Projg        F\n",
      "    7    124    156      1     0     0   3.991D-04  -1.818D+00\n",
      "  F =  -1.8175555623785327     \n",
      "\n",
      "CONVERGENCE: REL_REDUCTION_OF_F_<=_FACTR*EPSMCH             \n"
     ]
    },
    {
     "name": "stderr",
     "output_type": "stream",
     "text": [
      "\n",
      " Warning:  more than 10 function and gradient\n",
      "   evaluations in the last line search.  Termination\n",
      "   may possibly be caused by a bad search direction.\n",
      " This problem is unconstrained.\n"
     ]
    },
    {
     "name": "stdout",
     "output_type": "stream",
     "text": [
      "RUNNING THE L-BFGS-B CODE\n",
      "\n",
      "           * * *\n",
      "\n",
      "Machine precision = 2.220D-16\n",
      " N =            8     M =           12\n",
      "\n",
      "At X0         0 variables are exactly at the bounds\n",
      "\n",
      "At iterate    0    f= -1.94702D+00    |proj g|=  1.51425D+02\n",
      "\n",
      "At iterate    5    f= -1.94733D+00    |proj g|=  8.87820D-01\n",
      "\n",
      "At iterate   10    f= -1.94734D+00    |proj g|=  1.39677D+01\n",
      "\n",
      "At iterate   15    f= -1.94762D+00    |proj g|=  1.25156D+02\n",
      "\n",
      "At iterate   20    f= -1.94840D+00    |proj g|=  9.38786D-02\n",
      "\n",
      "At iterate   25    f= -1.94840D+00    |proj g|=  6.96681D+00\n",
      "\n",
      "At iterate   30    f= -1.94857D+00    |proj g|=  8.89702D+01\n",
      "\n",
      "At iterate   35    f= -1.95040D+00    |proj g|=  3.94246D+01\n",
      "\n",
      "At iterate   40    f= -1.95048D+00    |proj g|=  9.50668D-03\n",
      "\n",
      "At iterate   45    f= -1.95048D+00    |proj g|=  1.69294D-01\n",
      "\n",
      "At iterate   50    f= -1.95051D+00    |proj g|=  8.93731D+00\n",
      "\n",
      "At iterate   55    f= -1.95090D+00    |proj g|=  3.03867D+00\n",
      "\n",
      "At iterate   60    f= -1.95091D+00    |proj g|=  2.02500D-02\n",
      "\n",
      "At iterate   65    f= -1.95092D+00    |proj g|=  1.14621D+00\n",
      "\n",
      "At iterate   70    f= -1.95175D+00    |proj g|=  7.70936D+00\n",
      "\n",
      "At iterate   75    f= -1.95224D+00    |proj g|=  6.21338D-02\n",
      "\n",
      "At iterate   80    f= -1.95225D+00    |proj g|=  1.03022D-02\n",
      "\n",
      "At iterate   85    f= -1.95225D+00    |proj g|=  2.25565D-01\n",
      "\n",
      "At iterate   90    f= -1.95225D+00    |proj g|=  3.00043D+00\n",
      "\n",
      "At iterate   95    f= -1.95225D+00    |proj g|=  2.98653D+00\n",
      "\n",
      "At iterate  100    f= -1.95225D+00    |proj g|=  4.09890D-01\n",
      "\n",
      "At iterate  105    f= -1.95225D+00    |proj g|=  4.37899D+00\n",
      "\n",
      "At iterate  110    f= -1.95233D+00    |proj g|=  6.39357D+01\n",
      "\n",
      "At iterate  115    f= -1.95449D+00    |proj g|=  4.96995D+01\n",
      "\n",
      "At iterate  120    f= -1.95526D+00    |proj g|=  1.77490D+01\n",
      "\n",
      "At iterate  125    f= -1.95552D+00    |proj g|=  7.97178D+01\n",
      "\n",
      "At iterate  130    f= -1.95590D+00    |proj g|=  1.63580D+00\n",
      "\n",
      "At iterate  135    f= -1.95591D+00    |proj g|=  1.99919D+00\n",
      "\n",
      "At iterate  140    f= -1.95591D+00    |proj g|=  3.71752D-01\n",
      "\n",
      "At iterate  145    f= -1.95591D+00    |proj g|=  1.15211D-01\n",
      "\n",
      "At iterate  150    f= -1.95591D+00    |proj g|=  8.09187D-02\n",
      "\n",
      "           * * *\n",
      "\n",
      "Tit   = total number of iterations\n",
      "Tnf   = total number of function evaluations\n",
      "Tnint = total number of segments explored during Cauchy searches\n",
      "Skip  = number of BFGS updates skipped\n",
      "Nact  = number of active bounds at final generalized Cauchy point\n",
      "Projg = norm of the final projected gradient\n",
      "F     = final function value\n",
      "\n",
      "           * * *\n",
      "\n",
      "   N    Tit     Tnf  Tnint  Skip  Nact     Projg        F\n",
      "    8    151    190      1     0     0   8.091D-02  -1.956D+00\n",
      "  F =  -1.9559127709252286     \n",
      "\n",
      "CONVERGENCE: REL_REDUCTION_OF_F_<=_FACTR*EPSMCH             \n",
      "RUNNING THE L-BFGS-B CODE\n",
      "\n",
      "           * * *\n",
      "\n",
      "Machine precision = 2.220D-16\n",
      " N =            5     M =           12\n",
      "\n",
      "At X0         0 variables are exactly at the bounds\n",
      "\n",
      "At iterate    0    f= -1.79497D+00    |proj g|=  8.82624D+01\n",
      "\n",
      "At iterate    5    f= -1.80523D+00    |proj g|=  8.44265D-02\n",
      "\n",
      "At iterate   10    f= -1.80523D+00    |proj g|=  1.99322D+00\n",
      "\n",
      "At iterate   15    f= -1.80544D+00    |proj g|=  4.36813D+00\n",
      "\n",
      "At iterate   20    f= -1.80546D+00    |proj g|=  4.08085D-03\n",
      "\n",
      "At iterate   25    f= -1.80546D+00    |proj g|=  1.89280D-01\n",
      "\n",
      "At iterate   30    f= -1.80549D+00    |proj g|=  1.96970D+00\n",
      "\n",
      "At iterate   35    f= -1.80565D+00    |proj g|=  4.83377D-02\n",
      "\n",
      "At iterate   40    f= -1.80565D+00    |proj g|=  6.21710D-02\n",
      "\n",
      "At iterate   45    f= -1.80566D+00    |proj g|=  1.03215D+00\n",
      "\n",
      "At iterate   50    f= -1.80596D+00    |proj g|=  6.41439D+00\n"
     ]
    },
    {
     "name": "stderr",
     "output_type": "stream",
     "text": [
      " This problem is unconstrained.\n"
     ]
    },
    {
     "name": "stdout",
     "output_type": "stream",
     "text": [
      "\n",
      "At iterate   55    f= -1.80619D+00    |proj g|=  1.27156D-02\n",
      "\n",
      "At iterate   60    f= -1.80619D+00    |proj g|=  4.21643D-02\n",
      "\n",
      "At iterate   65    f= -1.80619D+00    |proj g|=  2.05835D-05\n",
      "\n",
      "           * * *\n",
      "\n",
      "Tit   = total number of iterations\n",
      "Tnf   = total number of function evaluations\n",
      "Tnint = total number of segments explored during Cauchy searches\n",
      "Skip  = number of BFGS updates skipped\n",
      "Nact  = number of active bounds at final generalized Cauchy point\n",
      "Projg = norm of the final projected gradient\n",
      "F     = final function value\n",
      "\n",
      "           * * *\n",
      "\n",
      "   N    Tit     Tnf  Tnint  Skip  Nact     Projg        F\n",
      "    5     67     96      1     0     0   5.240D-06  -1.806D+00\n",
      "  F =  -1.8061900768786734     \n",
      "\n",
      "CONVERGENCE: REL_REDUCTION_OF_F_<=_FACTR*EPSMCH             \n",
      "RUNNING THE L-BFGS-B CODE\n",
      "\n",
      "           * * *\n",
      "\n",
      "Machine precision = 2.220D-16\n",
      " N =            8     M =           12\n",
      "\n",
      "At X0         0 variables are exactly at the bounds\n",
      "\n",
      "At iterate    0    f=          NaN    |proj g|=          NaN\n"
     ]
    },
    {
     "name": "stderr",
     "output_type": "stream",
     "text": [
      " This problem is unconstrained.\n"
     ]
    },
    {
     "name": "stdout",
     "output_type": "stream",
     "text": [
      "RUNNING THE L-BFGS-B CODE\n",
      "\n",
      "           * * *\n",
      "\n",
      "Machine precision = 2.220D-16\n",
      " N =            8     M =           12\n",
      "\n",
      "At X0         0 variables are exactly at the bounds\n",
      "\n",
      "At iterate    0    f= -1.87687D+00    |proj g|=  4.03373D+00\n",
      "\n",
      "At iterate    5    f= -1.87690D+00    |proj g|=  9.45460D-01\n",
      "\n",
      "At iterate   10    f= -1.87724D+00    |proj g|=  1.38355D+01\n",
      "\n",
      "At iterate   15    f= -1.87969D+00    |proj g|=  1.10272D-01\n",
      "\n",
      "At iterate   20    f= -1.87981D+00    |proj g|=  6.30605D-01\n",
      "\n",
      "At iterate   25    f= -1.88046D+00    |proj g|=  7.81511D-02\n"
     ]
    },
    {
     "name": "stderr",
     "output_type": "stream",
     "text": [
      " This problem is unconstrained.\n"
     ]
    },
    {
     "name": "stdout",
     "output_type": "stream",
     "text": [
      "\n",
      "At iterate   30    f= -1.88152D+00    |proj g|=  6.66729D-03\n",
      "\n",
      "At iterate   35    f= -1.88152D+00    |proj g|=  4.12289D-01\n",
      "\n",
      "At iterate   40    f= -1.88157D+00    |proj g|=  4.80405D+00\n",
      "\n",
      "At iterate   45    f= -1.88253D+00    |proj g|=  4.54644D+00\n",
      "\n",
      "At iterate   50    f= -1.88262D+00    |proj g|=  2.44783D-02\n",
      "\n",
      "At iterate   55    f= -1.88262D+00    |proj g|=  2.81225D-02\n",
      "\n",
      "At iterate   60    f= -1.88262D+00    |proj g|=  1.40378D-01\n",
      "\n",
      "At iterate   65    f= -1.88262D+00    |proj g|=  5.37739D-03\n",
      "\n",
      "At iterate   70    f= -1.88262D+00    |proj g|=  2.42584D-01\n",
      "\n",
      "At iterate   75    f= -1.88273D+00    |proj g|=  1.27127D+00\n",
      "\n",
      "At iterate   80    f= -1.88370D+00    |proj g|=  3.09217D-01\n",
      "\n",
      "At iterate   85    f= -1.88371D+00    |proj g|=  1.31686D-03\n",
      "\n",
      "           * * *\n",
      "\n",
      "Tit   = total number of iterations\n",
      "Tnf   = total number of function evaluations\n",
      "Tnint = total number of segments explored during Cauchy searches\n",
      "Skip  = number of BFGS updates skipped\n",
      "Nact  = number of active bounds at final generalized Cauchy point\n",
      "Projg = norm of the final projected gradient\n",
      "F     = final function value\n",
      "\n",
      "           * * *\n",
      "\n",
      "   N    Tit     Tnf  Tnint  Skip  Nact     Projg        F\n",
      "    8     89    120      1     0     0   3.772D-04  -1.884D+00\n",
      "  F =  -1.8837119530206121     \n",
      "\n",
      "CONVERGENCE: REL_REDUCTION_OF_F_<=_FACTR*EPSMCH             \n",
      "RUNNING THE L-BFGS-B CODE\n",
      "\n",
      "           * * *\n",
      "\n",
      "Machine precision = 2.220D-16\n",
      " N =            7     M =           12\n",
      "\n",
      "At X0         0 variables are exactly at the bounds\n",
      "\n",
      "At iterate    0    f= -1.91532D+00    |proj g|=  4.99315D+00\n",
      "\n",
      "At iterate    5    f= -1.91595D+00    |proj g|=  1.66972D+00\n",
      "\n",
      "At iterate   10    f= -1.91782D+00    |proj g|=  5.12217D-01\n",
      "\n",
      "At iterate   15    f= -1.91789D+00    |proj g|=  2.45311D-01\n",
      "\n",
      "At iterate   20    f= -1.91925D+00    |proj g|=  2.31930D+00\n",
      "\n",
      "At iterate   25    f= -1.91949D+00    |proj g|=  9.38170D-01\n",
      "\n",
      "At iterate   30    f= -1.92109D+00    |proj g|=  1.36467D-02\n"
     ]
    },
    {
     "name": "stderr",
     "output_type": "stream",
     "text": [
      " This problem is unconstrained.\n"
     ]
    },
    {
     "name": "stdout",
     "output_type": "stream",
     "text": [
      "\n",
      "At iterate   35    f= -1.92110D+00    |proj g|=  3.22544D-02\n",
      "\n",
      "At iterate   40    f= -1.92111D+00    |proj g|=  4.39346D-01\n",
      "\n",
      "At iterate   45    f= -1.92115D+00    |proj g|=  5.71314D-02\n",
      "\n",
      "At iterate   50    f= -1.92115D+00    |proj g|=  1.51753D-02\n",
      "\n",
      "At iterate   55    f= -1.92115D+00    |proj g|=  1.63742D-03\n",
      "\n",
      "At iterate   60    f= -1.92115D+00    |proj g|=  1.82787D-02\n",
      "\n",
      "At iterate   65    f= -1.92115D+00    |proj g|=  1.11220D-03\n",
      "\n",
      "At iterate   70    f= -1.92115D+00    |proj g|=  3.08402D-02\n",
      "\n",
      "At iterate   75    f= -1.92115D+00    |proj g|=  6.15175D-04\n",
      "\n",
      "At iterate   80    f= -1.92115D+00    |proj g|=  8.93841D-04\n",
      "\n",
      "At iterate   85    f= -1.92115D+00    |proj g|=  3.40408D-03\n",
      "\n",
      "At iterate   90    f= -1.92115D+00    |proj g|=  2.60370D-02\n",
      "\n",
      "At iterate   95    f= -1.92115D+00    |proj g|=  4.39049D-04\n",
      "\n",
      "           * * *\n",
      "\n",
      "Tit   = total number of iterations\n",
      "Tnf   = total number of function evaluations\n",
      "Tnint = total number of segments explored during Cauchy searches\n",
      "Skip  = number of BFGS updates skipped\n",
      "Nact  = number of active bounds at final generalized Cauchy point\n",
      "Projg = norm of the final projected gradient\n",
      "F     = final function value\n",
      "\n",
      "           * * *\n",
      "\n",
      "   N    Tit     Tnf  Tnint  Skip  Nact     Projg        F\n",
      "    7     95    117      1     0     0   4.390D-04  -1.921D+00\n",
      "  F =  -1.9211481487621926     \n",
      "\n",
      "CONVERGENCE: REL_REDUCTION_OF_F_<=_FACTR*EPSMCH             \n"
     ]
    },
    {
     "name": "stderr",
     "output_type": "stream",
     "text": [
      " This problem is unconstrained.\n"
     ]
    },
    {
     "name": "stdout",
     "output_type": "stream",
     "text": [
      "RUNNING THE L-BFGS-B CODE\n",
      "\n",
      "           * * *\n",
      "\n",
      "Machine precision = 2.220D-16\n",
      " N =            5     M =           12\n",
      "\n",
      "At X0         0 variables are exactly at the bounds\n",
      "\n",
      "At iterate    0    f= -1.80205D+00    |proj g|=  1.81811D+01\n",
      "\n",
      "At iterate    5    f= -1.80245D+00    |proj g|=  6.56462D-01\n",
      "\n",
      "At iterate   10    f= -1.80256D+00    |proj g|=  8.46113D+00\n",
      "\n",
      "At iterate   15    f= -1.80296D+00    |proj g|=  9.39455D-03\n",
      "\n",
      "At iterate   20    f= -1.80299D+00    |proj g|=  2.11336D+00\n",
      "\n",
      "At iterate   25    f= -1.80481D+00    |proj g|=  1.21183D+01\n",
      "\n",
      "At iterate   30    f= -1.80571D+00    |proj g|=  8.31108D-02\n",
      "\n",
      "At iterate   35    f= -1.80571D+00    |proj g|=  3.67470D-01\n",
      "\n",
      "At iterate   40    f= -1.80571D+00    |proj g|=  9.98979D-05\n",
      "\n",
      "           * * *\n",
      "\n",
      "Tit   = total number of iterations\n",
      "Tnf   = total number of function evaluations\n",
      "Tnint = total number of segments explored during Cauchy searches\n",
      "Skip  = number of BFGS updates skipped\n",
      "Nact  = number of active bounds at final generalized Cauchy point\n",
      "Projg = norm of the final projected gradient\n",
      "F     = final function value\n",
      "\n",
      "           * * *\n",
      "\n",
      "   N    Tit     Tnf  Tnint  Skip  Nact     Projg        F\n",
      "    5     40     57      1     0     0   9.990D-05  -1.806D+00\n",
      "  F =  -1.8057118040333278     \n",
      "\n",
      "CONVERGENCE: REL_REDUCTION_OF_F_<=_FACTR*EPSMCH             \n",
      "RUNNING THE L-BFGS-B CODE\n",
      "\n",
      "           * * *\n",
      "\n",
      "Machine precision = 2.220D-16\n",
      " N =            8     M =           12\n",
      "\n",
      "At X0         0 variables are exactly at the bounds\n",
      "\n",
      "At iterate    0    f= -1.99263D+00    |proj g|=  3.34223D+01\n",
      "\n",
      "At iterate    5    f= -1.99847D+00    |proj g|=  3.99803D+00\n",
      "\n",
      "At iterate   10    f= -2.00081D+00    |proj g|=  1.42741D+00\n",
      "\n",
      "At iterate   15    f= -2.00474D+00    |proj g|=  2.00018D+00\n",
      "\n",
      "At iterate   20    f= -2.00777D+00    |proj g|=  1.00779D-02\n",
      "\n",
      "At iterate   25    f= -2.00850D+00    |proj g|=  7.45182D-03\n"
     ]
    },
    {
     "name": "stderr",
     "output_type": "stream",
     "text": [
      " This problem is unconstrained.\n"
     ]
    },
    {
     "name": "stdout",
     "output_type": "stream",
     "text": [
      "\n",
      "At iterate   30    f= -2.00863D+00    |proj g|=  6.42251D-02\n",
      "\n",
      "At iterate   35    f= -2.00863D+00    |proj g|=  6.19993D-04\n",
      "\n",
      "At iterate   40    f= -2.00863D+00    |proj g|=  3.15303D-06\n",
      "\n",
      "           * * *\n",
      "\n",
      "Tit   = total number of iterations\n",
      "Tnf   = total number of function evaluations\n",
      "Tnint = total number of segments explored during Cauchy searches\n",
      "Skip  = number of BFGS updates skipped\n",
      "Nact  = number of active bounds at final generalized Cauchy point\n",
      "Projg = norm of the final projected gradient\n",
      "F     = final function value\n",
      "\n",
      "           * * *\n",
      "\n",
      "   N    Tit     Tnf  Tnint  Skip  Nact     Projg        F\n",
      "    8     41     54      1     0     0   7.017D-06  -2.009D+00\n",
      "  F =  -2.0086315744196312     \n",
      "\n",
      "CONVERGENCE: REL_REDUCTION_OF_F_<=_FACTR*EPSMCH             \n",
      "RUNNING THE L-BFGS-B CODE\n",
      "\n",
      "           * * *\n",
      "\n",
      "Machine precision = 2.220D-16\n",
      " N =            6     M =           12\n",
      "\n",
      "At X0         0 variables are exactly at the bounds\n",
      "\n",
      "At iterate    0    f= -1.89807D+00    |proj g|=  7.48226D+00\n",
      "\n",
      "At iterate    5    f= -1.89926D+00    |proj g|=  5.99800D-01\n",
      "\n",
      "At iterate   10    f= -1.90071D+00    |proj g|=  7.17093D+00\n",
      "\n",
      "At iterate   15    f= -1.90447D+00    |proj g|=  5.44237D+00\n",
      "\n",
      "At iterate   20    f= -1.90576D+00    |proj g|=  1.49166D-01\n",
      "\n",
      "At iterate   25    f= -1.90576D+00    |proj g|=  2.33803D-01\n",
      "\n",
      "At iterate   30    f= -1.90611D+00    |proj g|=  2.86936D+00\n",
      "\n",
      "At iterate   35    f= -1.90648D+00    |proj g|=  8.59572D-03\n",
      "\n",
      "At iterate   40    f= -1.90648D+00    |proj g|=  1.03418D-01\n",
      "\n",
      "At iterate   45    f= -1.90683D+00    |proj g|=  5.98525D-01\n",
      "\n",
      "At iterate   50    f= -1.90731D+00    |proj g|=  6.03484D-02\n"
     ]
    },
    {
     "name": "stderr",
     "output_type": "stream",
     "text": [
      " This problem is unconstrained.\n"
     ]
    },
    {
     "name": "stdout",
     "output_type": "stream",
     "text": [
      "\n",
      "At iterate   55    f= -1.90732D+00    |proj g|=  5.29554D-04\n",
      "\n",
      "At iterate   60    f= -1.90732D+00    |proj g|=  3.51412D-03\n",
      "\n",
      "At iterate   65    f= -1.90732D+00    |proj g|=  2.65672D-01\n",
      "\n",
      "At iterate   70    f= -1.90741D+00    |proj g|=  1.43268D+00\n",
      "\n",
      "At iterate   75    f= -1.90746D+00    |proj g|=  1.16802D-03\n",
      "\n",
      "At iterate   80    f= -1.90746D+00    |proj g|=  1.29041D-01\n",
      "\n",
      "At iterate   85    f= -1.90747D+00    |proj g|=  1.98440D-02\n",
      "\n",
      "At iterate   90    f= -1.90748D+00    |proj g|=  4.19961D-02\n",
      "\n",
      "At iterate   95    f= -1.90751D+00    |proj g|=  1.14689D-01\n",
      "\n",
      "At iterate  100    f= -1.90751D+00    |proj g|=  2.94671D-02\n",
      "\n",
      "At iterate  105    f= -1.90751D+00    |proj g|=  1.00330D-01\n",
      "\n",
      "At iterate  110    f= -1.90751D+00    |proj g|=  4.66337D-02\n",
      "\n",
      "At iterate  115    f= -1.90752D+00    |proj g|=  4.04801D-03\n",
      "\n",
      "At iterate  120    f= -1.90752D+00    |proj g|=  5.23561D-03\n",
      "\n",
      "At iterate  125    f= -1.90752D+00    |proj g|=  1.80980D-02\n",
      "\n",
      "At iterate  130    f= -1.90752D+00    |proj g|=  1.43290D-03\n",
      "\n",
      "           * * *\n",
      "\n",
      "Tit   = total number of iterations\n",
      "Tnf   = total number of function evaluations\n",
      "Tnint = total number of segments explored during Cauchy searches\n",
      "Skip  = number of BFGS updates skipped\n",
      "Nact  = number of active bounds at final generalized Cauchy point\n",
      "Projg = norm of the final projected gradient\n",
      "F     = final function value\n",
      "\n",
      "           * * *\n",
      "\n",
      "   N    Tit     Tnf  Tnint  Skip  Nact     Projg        F\n",
      "    6    134    174      1     0     0   8.419D-04  -1.908D+00\n",
      "  F =  -1.9075151622209916     \n",
      "\n",
      "CONVERGENCE: REL_REDUCTION_OF_F_<=_FACTR*EPSMCH             \n",
      "RUNNING THE L-BFGS-B CODE\n",
      "\n",
      "           * * *\n",
      "\n",
      "Machine precision = 2.220D-16\n",
      " N =           11     M =           12\n",
      "\n",
      "At X0         0 variables are exactly at the bounds\n",
      "\n",
      "At iterate    0    f= -1.95111D+00    |proj g|=  6.35023D+01\n",
      "\n",
      "At iterate    5    f= -1.95473D+00    |proj g|=  9.86145D-01\n",
      "\n",
      "At iterate   10    f= -1.95494D+00    |proj g|=  1.42665D+01\n",
      "\n",
      "At iterate   15    f= -1.95663D+00    |proj g|=  1.16485D+00\n"
     ]
    },
    {
     "name": "stderr",
     "output_type": "stream",
     "text": [
      " This problem is unconstrained.\n"
     ]
    },
    {
     "name": "stdout",
     "output_type": "stream",
     "text": [
      "\n",
      "At iterate   20    f= -1.95748D+00    |proj g|=  1.71654D+00\n",
      "\n",
      "At iterate   25    f= -1.95755D+00    |proj g|=  4.90265D+00\n",
      "\n",
      "At iterate   30    f= -1.95782D+00    |proj g|=  1.23272D-02\n",
      "\n",
      "At iterate   35    f= -1.95782D+00    |proj g|=  8.81383D-01\n",
      "\n",
      "At iterate   40    f= -1.95803D+00    |proj g|=  2.58051D+00\n",
      "\n",
      "At iterate   45    f= -1.95819D+00    |proj g|=  4.01835D-02\n",
      "\n",
      "At iterate   50    f= -1.95903D+00    |proj g|=  2.06623D+00\n",
      "\n",
      "At iterate   55    f= -1.98013D+00    |proj g|=  2.34007D+00\n",
      "\n",
      "At iterate   60    f= -1.98470D+00    |proj g|=  5.18148D+00\n",
      "\n",
      "At iterate   65    f= -1.98506D+00    |proj g|=  9.34338D-01\n",
      "\n",
      "At iterate   70    f= -1.98518D+00    |proj g|=  1.41230D-02\n",
      "\n",
      "At iterate   75    f= -1.98518D+00    |proj g|=  7.04164D-02\n",
      "\n",
      "At iterate   80    f= -1.98525D+00    |proj g|=  4.26027D-01\n",
      "\n",
      "At iterate   85    f= -1.98534D+00    |proj g|=  4.22746D-02\n",
      "\n",
      "At iterate   90    f= -1.98534D+00    |proj g|=  1.80704D-02\n",
      "\n",
      "At iterate   95    f= -1.98534D+00    |proj g|=  6.07470D-03\n",
      "\n",
      "At iterate  100    f= -1.98534D+00    |proj g|=  7.81661D-03\n",
      "\n",
      "At iterate  105    f= -1.98534D+00    |proj g|=  4.27743D-02\n",
      "\n",
      "At iterate  110    f= -1.98534D+00    |proj g|=  2.60205D-01\n",
      "\n",
      "At iterate  115    f= -1.98535D+00    |proj g|=  6.97338D-03\n",
      "\n",
      "At iterate  120    f= -1.98535D+00    |proj g|=  2.23636D-01\n",
      "\n",
      "At iterate  125    f= -1.98536D+00    |proj g|=  9.82818D-03\n",
      "\n",
      "At iterate  130    f= -1.98536D+00    |proj g|=  2.79576D-01\n",
      "\n",
      "At iterate  135    f= -1.98538D+00    |proj g|=  1.40101D+00\n",
      "\n",
      "At iterate  140    f= -1.98539D+00    |proj g|=  3.04133D-02\n",
      "\n",
      "At iterate  145    f= -1.98539D+00    |proj g|=  1.39220D-02\n",
      "\n",
      "At iterate  150    f= -1.98539D+00    |proj g|=  2.06855D-03\n",
      "\n",
      "At iterate  155    f= -1.98539D+00    |proj g|=  1.50523D-02\n",
      "\n",
      "At iterate  160    f= -1.98539D+00    |proj g|=  3.65378D-02\n",
      "\n",
      "At iterate  165    f= -1.98540D+00    |proj g|=  1.24250D-01\n",
      "\n",
      "At iterate  170    f= -1.98540D+00    |proj g|=  2.42709D-02\n",
      "\n",
      "At iterate  175    f= -1.98540D+00    |proj g|=  3.25285D-02\n",
      "\n",
      "At iterate  180    f= -1.98540D+00    |proj g|=  1.95754D-02\n",
      "\n",
      "At iterate  185    f= -1.98540D+00    |proj g|=  1.85949D-02\n",
      "\n",
      "At iterate  190    f= -1.98540D+00    |proj g|=  6.10196D-03\n",
      "\n",
      "At iterate  195    f= -1.98540D+00    |proj g|=  6.75716D-02\n",
      "\n",
      "At iterate  200    f= -1.98540D+00    |proj g|=  7.84597D-02\n",
      "\n",
      "At iterate  205    f= -1.98540D+00    |proj g|=  2.97565D-02\n",
      "\n",
      "At iterate  210    f= -1.98540D+00    |proj g|=  2.69728D-02\n",
      "\n",
      "At iterate  215    f= -1.98540D+00    |proj g|=  1.02786D-01\n",
      "\n",
      "At iterate  220    f= -1.98540D+00    |proj g|=  3.63909D-03\n",
      "\n",
      "At iterate  225    f= -1.98540D+00    |proj g|=  3.87814D-03\n",
      "\n",
      "At iterate  230    f= -1.98540D+00    |proj g|=  1.64210D-01\n",
      "\n",
      "At iterate  235    f= -1.98540D+00    |proj g|=  4.13082D-02\n",
      "\n",
      "At iterate  240    f= -1.98541D+00    |proj g|=  2.09766D-01\n",
      "\n",
      "At iterate  245    f= -1.98542D+00    |proj g|=  1.83223D-01\n",
      "\n",
      "At iterate  250    f= -1.98542D+00    |proj g|=  9.21810D-02\n",
      "\n",
      "At iterate  255    f= -1.98549D+00    |proj g|=  4.54533D+00\n",
      "\n",
      "At iterate  260    f= -1.98558D+00    |proj g|=  9.25113D-02\n"
     ]
    },
    {
     "name": "stderr",
     "output_type": "stream",
     "text": [
      "\n",
      " Bad direction in the line search;\n",
      "   refresh the lbfgs memory and restart the iteration.\n"
     ]
    },
    {
     "name": "stdout",
     "output_type": "stream",
     "text": [
      "\n",
      "At iterate  265    f= -1.98564D+00    |proj g|=  6.50298D-01\n",
      "\n",
      "At iterate  270    f= -1.98564D+00    |proj g|=  6.74374D-03\n",
      "\n",
      "At iterate  275    f= -1.98564D+00    |proj g|=  1.48290D-01\n",
      "\n",
      "At iterate  280    f= -1.98565D+00    |proj g|=  6.74009D-01\n",
      "\n",
      "At iterate  285    f= -1.98565D+00    |proj g|=  7.09732D-03\n",
      "\n",
      "At iterate  290    f= -1.98566D+00    |proj g|=  5.61942D-01\n",
      "\n",
      "At iterate  295    f= -1.98567D+00    |proj g|=  2.93028D-02\n",
      "\n",
      "At iterate  300    f= -1.98567D+00    |proj g|=  8.02785D-01\n",
      "\n",
      "At iterate  305    f= -1.98567D+00    |proj g|=  4.47931D-03\n",
      "\n",
      "At iterate  310    f= -1.98567D+00    |proj g|=  1.64084D-03\n",
      "\n",
      "At iterate  315    f= -1.98567D+00    |proj g|=  3.07709D-03\n",
      "\n",
      "At iterate  320    f= -1.98567D+00    |proj g|=  7.24785D-03\n",
      "\n",
      "At iterate  325    f= -1.98567D+00    |proj g|=  9.71272D-02\n",
      "\n",
      "At iterate  330    f= -1.98568D+00    |proj g|=  8.89150D-02\n",
      "\n",
      "At iterate  335    f= -1.98569D+00    |proj g|=  3.15223D-03\n",
      "\n",
      "           * * *\n",
      "\n",
      "Tit   = total number of iterations\n",
      "Tnf   = total number of function evaluations\n",
      "Tnint = total number of segments explored during Cauchy searches\n",
      "Skip  = number of BFGS updates skipped\n",
      "Nact  = number of active bounds at final generalized Cauchy point\n",
      "Projg = norm of the final projected gradient\n",
      "F     = final function value\n",
      "\n",
      "           * * *\n",
      "\n",
      "   N    Tit     Tnf  Tnint  Skip  Nact     Projg        F\n",
      "   11    335    456      2     0     0   3.152D-03  -1.986D+00\n",
      "  F =  -1.9856883642844163     \n",
      "\n",
      "CONVERGENCE: REL_REDUCTION_OF_F_<=_FACTR*EPSMCH             \n"
     ]
    },
    {
     "name": "stderr",
     "output_type": "stream",
     "text": [
      "\n",
      " Warning:  more than 10 function and gradient\n",
      "   evaluations in the last line search.  Termination\n",
      "   may possibly be caused by a bad search direction.\n"
     ]
    },
    {
     "name": "stdout",
     "output_type": "stream",
     "text": [
      "RUNNING THE L-BFGS-B CODE\n",
      "\n",
      "           * * *\n",
      "\n",
      "Machine precision = 2.220D-16\n",
      " N =            9     M =           12\n",
      "\n",
      "At X0         0 variables are exactly at the bounds\n",
      "\n",
      "At iterate    0    f= -1.90068D+00    |proj g|=  6.56601D+01\n",
      "\n",
      "At iterate    5    f= -1.91667D+00    |proj g|=  2.48898D+00\n",
      "\n",
      "At iterate   10    f= -1.91668D+00    |proj g|=  2.26028D+00\n"
     ]
    },
    {
     "name": "stderr",
     "output_type": "stream",
     "text": [
      " This problem is unconstrained.\n",
      "\n",
      " Warning:  more than 10 function and gradient\n",
      "   evaluations in the last line search.  Termination\n",
      "   may possibly be caused by a bad search direction.\n"
     ]
    },
    {
     "name": "stdout",
     "output_type": "stream",
     "text": [
      "\n",
      "           * * *\n",
      "\n",
      "Tit   = total number of iterations\n",
      "Tnf   = total number of function evaluations\n",
      "Tnint = total number of segments explored during Cauchy searches\n",
      "Skip  = number of BFGS updates skipped\n",
      "Nact  = number of active bounds at final generalized Cauchy point\n",
      "Projg = norm of the final projected gradient\n",
      "F     = final function value\n",
      "\n",
      "           * * *\n",
      "\n",
      "   N    Tit     Tnf  Tnint  Skip  Nact     Projg        F\n",
      "    9     14     63      1     0     0   3.452D+00  -1.917D+00\n",
      "  F =  -1.9166824088759002     \n",
      "\n",
      "CONVERGENCE: REL_REDUCTION_OF_F_<=_FACTR*EPSMCH             \n"
     ]
    },
    {
     "name": "stderr",
     "output_type": "stream",
     "text": [
      " This problem is unconstrained.\n"
     ]
    },
    {
     "name": "stdout",
     "output_type": "stream",
     "text": [
      "RUNNING THE L-BFGS-B CODE\n",
      "\n",
      "           * * *\n",
      "\n",
      "Machine precision = 2.220D-16\n",
      " N =            8     M =           12\n",
      "\n",
      "At X0         0 variables are exactly at the bounds\n",
      "\n",
      "At iterate    0    f= -1.96838D+00    |proj g|=  5.12130D+01\n",
      "\n",
      "At iterate    5    f= -1.97711D+00    |proj g|=  2.47243D-01\n",
      "\n",
      "At iterate   10    f= -1.97845D+00    |proj g|=  2.59634D+00\n",
      "\n",
      "At iterate   15    f= -1.98032D+00    |proj g|=  1.40732D+00\n",
      "\n",
      "At iterate   20    f= -1.98070D+00    |proj g|=  9.75958D-02\n",
      "  ys=-1.719E-14  -gs= 1.747E-14 BFGS update SKIPPED\n",
      "\n",
      "At iterate   25    f= -1.98070D+00    |proj g|=  5.37453D-02\n",
      "\n",
      "At iterate   30    f= -1.98081D+00    |proj g|=  8.79834D-02\n"
     ]
    },
    {
     "name": "stderr",
     "output_type": "stream",
     "text": [
      "\n",
      " Bad direction in the line search;\n",
      "   refresh the lbfgs memory and restart the iteration.\n"
     ]
    },
    {
     "name": "stdout",
     "output_type": "stream",
     "text": [
      "\n",
      "At iterate   35    f= -1.98296D+00    |proj g|=  1.41752D-01\n",
      "\n",
      "At iterate   40    f= -1.98320D+00    |proj g|=  5.76328D-01\n",
      "\n",
      "At iterate   45    f= -1.98333D+00    |proj g|=  8.01177D-02\n",
      "\n",
      "At iterate   50    f= -1.98443D+00    |proj g|=  2.67372D+00\n",
      "\n",
      "At iterate   55    f= -1.98629D+00    |proj g|=  1.58331D+01\n",
      "\n",
      "At iterate   60    f= -1.98772D+00    |proj g|=  3.60596D-01\n",
      "\n",
      "At iterate   65    f= -1.98772D+00    |proj g|=  7.71415D-02\n",
      "\n",
      "At iterate   70    f= -1.98774D+00    |proj g|=  1.53457D-01\n",
      "\n",
      "At iterate   75    f= -1.98811D+00    |proj g|=  1.71351D+00\n",
      "\n",
      "At iterate   80    f= -1.98908D+00    |proj g|=  3.81842D+00\n",
      "\n",
      "At iterate   85    f= -1.98974D+00    |proj g|=  4.09499D+00\n",
      "\n",
      "At iterate   90    f= -1.98980D+00    |proj g|=  2.36451D-02\n",
      "\n",
      "At iterate   95    f= -1.98982D+00    |proj g|=  1.45468D+00\n",
      "\n",
      "At iterate  100    f= -1.99048D+00    |proj g|=  1.71070D+00\n",
      "\n",
      "At iterate  105    f= -1.99061D+00    |proj g|=  1.25981D+00\n",
      "\n",
      "At iterate  110    f= -2.00203D+00    |proj g|=  1.29795D+01\n",
      "\n",
      "At iterate  115    f= -2.01407D+00    |proj g|=  1.68647D+01\n",
      "\n",
      "At iterate  120    f= -2.01831D+00    |proj g|=  2.55885D-01\n",
      "\n",
      "At iterate  125    f= -2.02013D+00    |proj g|=  2.83273D+00\n",
      "\n",
      "At iterate  130    f= -2.02390D+00    |proj g|=  3.35211D+00\n",
      "\n",
      "At iterate  135    f= -2.02686D+00    |proj g|=  9.71161D-03\n",
      "\n",
      "At iterate  140    f= -2.02689D+00    |proj g|=  7.92082D-03\n",
      "\n",
      "           * * *\n",
      "\n",
      "Tit   = total number of iterations\n",
      "Tnf   = total number of function evaluations\n",
      "Tnint = total number of segments explored during Cauchy searches\n",
      "Skip  = number of BFGS updates skipped\n",
      "Nact  = number of active bounds at final generalized Cauchy point\n",
      "Projg = norm of the final projected gradient\n",
      "F     = final function value\n",
      "\n",
      "           * * *\n",
      "\n",
      "   N    Tit     Tnf  Tnint  Skip  Nact     Projg        F\n",
      "    8    144    245      2     1     0   2.629D-05  -2.027D+00\n",
      "  F =  -2.0268949634707623     \n",
      "\n",
      "CONVERGENCE: REL_REDUCTION_OF_F_<=_FACTR*EPSMCH             \n",
      "RUNNING THE L-BFGS-B CODE\n",
      "\n",
      "           * * *\n",
      "\n",
      "Machine precision = 2.220D-16\n",
      " N =            3     M =           12\n",
      "\n",
      "At X0         0 variables are exactly at the bounds\n",
      "\n",
      "At iterate    0    f= -1.73965D+00    |proj g|=  5.00490D+01\n",
      "\n",
      "At iterate    5    f= -1.74545D+00    |proj g|=  1.12491D+00\n",
      "\n",
      "At iterate   10    f= -1.74574D+00    |proj g|=  2.20776D+00\n",
      "\n",
      "At iterate   15    f= -1.74576D+00    |proj g|=  3.58424D-01\n",
      "\n",
      "At iterate   20    f= -1.74680D+00    |proj g|=  3.20868D+00\n",
      "\n",
      "At iterate   25    f= -1.74805D+00    |proj g|=  3.41980D-01\n",
      "\n",
      "At iterate   30    f= -1.74813D+00    |proj g|=  5.57100D-02\n",
      "\n",
      "At iterate   35    f= -1.74813D+00    |proj g|=  1.16946D-01\n",
      "\n",
      "At iterate   40    f= -1.74813D+00    |proj g|=  1.81361D-02\n",
      "\n",
      "At iterate   45    f= -1.74813D+00    |proj g|=  1.15402D-02\n",
      "\n",
      "           * * *\n",
      "\n",
      "Tit   = total number of iterations\n",
      "Tnf   = total number of function evaluations\n",
      "Tnint = total number of segments explored during Cauchy searches\n",
      "Skip  = number of BFGS updates skipped\n",
      "Nact  = number of active bounds at final generalized Cauchy point\n",
      "Projg = norm of the final projected gradient\n",
      "F     = final function value\n",
      "\n",
      "           * * *\n",
      "\n",
      "   N    Tit     Tnf  Tnint  Skip  Nact     Projg        F\n",
      "    3     45     89      1     0     0   1.154D-02  -1.748D+00\n",
      "  F =  -1.7481341633442016     \n",
      "\n",
      "CONVERGENCE: REL_REDUCTION_OF_F_<=_FACTR*EPSMCH             \n"
     ]
    },
    {
     "name": "stderr",
     "output_type": "stream",
     "text": [
      " This problem is unconstrained.\n",
      "\n",
      " Warning:  more than 10 function and gradient\n",
      "   evaluations in the last line search.  Termination\n",
      "   may possibly be caused by a bad search direction.\n"
     ]
    },
    {
     "name": "stdout",
     "output_type": "stream",
     "text": [
      "RUNNING THE L-BFGS-B CODE\n",
      "\n",
      "           * * *\n",
      "\n",
      "Machine precision = 2.220D-16\n",
      " N =            6     M =           12\n",
      "\n",
      "At X0         0 variables are exactly at the bounds\n",
      "\n",
      "At iterate    0    f= -1.79947D+00    |proj g|=  5.73252D+01\n",
      "\n",
      "At iterate    5    f= -1.80274D+00    |proj g|=  5.10944D-01\n",
      "\n",
      "At iterate   10    f= -1.80279D+00    |proj g|=  6.98340D+00\n",
      "\n",
      "At iterate   15    f= -1.80373D+00    |proj g|=  3.65332D+00\n",
      "\n",
      "At iterate   20    f= -1.80377D+00    |proj g|=  2.19253D+00\n",
      "\n",
      "At iterate   25    f= -1.80908D+00    |proj g|=  4.48318D+01\n",
      "\n",
      "At iterate   30    f= -1.81167D+00    |proj g|=  7.07644D-02\n",
      "\n",
      "At iterate   35    f= -1.81592D+00    |proj g|=  2.53837D+00\n",
      "\n",
      "At iterate   40    f= -1.81595D+00    |proj g|=  1.11549D-03\n",
      "\n",
      "At iterate   45    f= -1.81595D+00    |proj g|=  4.03844D-02\n",
      "\n",
      "At iterate   50    f= -1.81595D+00    |proj g|=  5.11854D-01\n"
     ]
    },
    {
     "name": "stderr",
     "output_type": "stream",
     "text": [
      " This problem is unconstrained.\n"
     ]
    },
    {
     "name": "stdout",
     "output_type": "stream",
     "text": [
      "\n",
      "At iterate   55    f= -1.81597D+00    |proj g|=  1.66534D-01\n",
      "\n",
      "At iterate   60    f= -1.81635D+00    |proj g|=  1.99211D+00\n",
      "\n",
      "At iterate   65    f= -1.81651D+00    |proj g|=  6.13242D-01\n",
      "\n",
      "At iterate   70    f= -1.81652D+00    |proj g|=  3.70359D-02\n",
      "\n",
      "At iterate   75    f= -1.81653D+00    |proj g|=  6.52340D-03\n",
      "\n",
      "At iterate   80    f= -1.81653D+00    |proj g|=  6.81350D-02\n",
      "\n",
      "At iterate   85    f= -1.81653D+00    |proj g|=  5.72280D-02\n",
      "\n",
      "At iterate   90    f= -1.81653D+00    |proj g|=  9.86420D-03\n",
      "\n",
      "           * * *\n",
      "\n",
      "Tit   = total number of iterations\n",
      "Tnf   = total number of function evaluations\n",
      "Tnint = total number of segments explored during Cauchy searches\n",
      "Skip  = number of BFGS updates skipped\n",
      "Nact  = number of active bounds at final generalized Cauchy point\n",
      "Projg = norm of the final projected gradient\n",
      "F     = final function value\n",
      "\n",
      "           * * *\n",
      "\n",
      "   N    Tit     Tnf  Tnint  Skip  Nact     Projg        F\n",
      "    6     93    125      1     0     0   1.712D-03  -1.817D+00\n",
      "  F =  -1.8165257733469931     \n",
      "\n",
      "CONVERGENCE: REL_REDUCTION_OF_F_<=_FACTR*EPSMCH             \n",
      "RUNNING THE L-BFGS-B CODE\n",
      "\n",
      "           * * *\n",
      "\n",
      "Machine precision = 2.220D-16\n",
      " N =            8     M =           12\n",
      "\n",
      "At X0         0 variables are exactly at the bounds\n",
      "\n",
      "At iterate    0    f= -1.99865D+00    |proj g|=  8.06353D+00\n",
      "\n",
      "At iterate    5    f= -1.99961D+00    |proj g|=  5.32012D-01\n",
      "\n",
      "At iterate   10    f= -2.00001D+00    |proj g|=  2.32804D+00\n",
      "\n",
      "At iterate   15    f= -2.00018D+00    |proj g|=  1.74226D-01\n",
      "\n",
      "At iterate   20    f= -2.00410D+00    |proj g|=  4.84608D-01\n"
     ]
    },
    {
     "name": "stderr",
     "output_type": "stream",
     "text": [
      " This problem is unconstrained.\n"
     ]
    },
    {
     "name": "stdout",
     "output_type": "stream",
     "text": [
      "\n",
      "At iterate   25    f= -2.00422D+00    |proj g|=  9.60379D-01\n",
      "\n",
      "At iterate   30    f= -2.00611D+00    |proj g|=  4.28632D-01\n",
      "\n",
      "At iterate   35    f= -2.00613D+00    |proj g|=  4.47082D-02\n",
      "\n",
      "At iterate   40    f= -2.00614D+00    |proj g|=  2.52857D-01\n",
      "\n",
      "At iterate   45    f= -2.00665D+00    |proj g|=  4.27234D+00\n",
      "\n",
      "At iterate   50    f= -2.00718D+00    |proj g|=  1.09962D+00\n",
      "\n",
      "At iterate   55    f= -2.00779D+00    |proj g|=  2.20939D+00\n",
      "\n",
      "At iterate   60    f= -2.00816D+00    |proj g|=  8.33026D-01\n",
      "\n",
      "At iterate   65    f= -2.00817D+00    |proj g|=  5.70344D-03\n",
      "\n",
      "At iterate   70    f= -2.00825D+00    |proj g|=  1.33557D-01\n"
     ]
    },
    {
     "name": "stderr",
     "output_type": "stream",
     "text": [
      "\n",
      " Bad direction in the line search;\n",
      "   refresh the lbfgs memory and restart the iteration.\n"
     ]
    },
    {
     "name": "stdout",
     "output_type": "stream",
     "text": [
      "\n",
      "At iterate   75    f= -2.00854D+00    |proj g|=  8.64379D-01\n",
      "\n",
      "At iterate   80    f= -2.00854D+00    |proj g|=  1.74627D-02\n",
      "\n",
      "At iterate   85    f= -2.00854D+00    |proj g|=  3.50209D-01\n",
      "\n",
      "At iterate   90    f= -2.00856D+00    |proj g|=  2.43333D-02\n",
      "\n",
      "At iterate   95    f= -2.00856D+00    |proj g|=  7.74301D-03\n",
      "\n",
      "At iterate  100    f= -2.00856D+00    |proj g|=  1.78476D-01\n",
      "\n",
      "At iterate  105    f= -2.00857D+00    |proj g|=  5.70198D-01\n",
      "\n",
      "At iterate  110    f= -2.00857D+00    |proj g|=  5.17977D-03\n",
      "\n",
      "At iterate  115    f= -2.00857D+00    |proj g|=  9.95914D-04\n",
      "\n",
      "At iterate  120    f= -2.00857D+00    |proj g|=  3.18519D-02\n",
      "\n",
      "At iterate  125    f= -2.00857D+00    |proj g|=  1.11540D-02\n",
      "\n",
      "At iterate  130    f= -2.00857D+00    |proj g|=  5.94489D-02\n",
      "\n",
      "At iterate  135    f= -2.00857D+00    |proj g|=  1.89626D-04\n",
      "\n",
      "At iterate  140    f= -2.00857D+00    |proj g|=  7.67830D-04\n",
      "\n",
      "At iterate  145    f= -2.00857D+00    |proj g|=  3.38400D-03\n",
      "\n",
      "At iterate  150    f= -2.00857D+00    |proj g|=  2.27523D-02\n",
      "\n",
      "At iterate  155    f= -2.00857D+00    |proj g|=  1.89138D-04\n",
      "\n",
      "           * * *\n",
      "\n",
      "Tit   = total number of iterations\n",
      "Tnf   = total number of function evaluations\n",
      "Tnint = total number of segments explored during Cauchy searches\n",
      "Skip  = number of BFGS updates skipped\n",
      "Nact  = number of active bounds at final generalized Cauchy point\n",
      "Projg = norm of the final projected gradient\n",
      "F     = final function value\n",
      "\n",
      "           * * *\n",
      "\n",
      "   N    Tit     Tnf  Tnint  Skip  Nact     Projg        F\n",
      "    8    159    218      2     0     0   3.262D-04  -2.009D+00\n",
      "  F =  -2.0085717648510943     \n",
      "\n",
      "CONVERGENCE: REL_REDUCTION_OF_F_<=_FACTR*EPSMCH             \n"
     ]
    },
    {
     "name": "stderr",
     "output_type": "stream",
     "text": [
      " This problem is unconstrained.\n"
     ]
    },
    {
     "name": "stdout",
     "output_type": "stream",
     "text": [
      "RUNNING THE L-BFGS-B CODE\n",
      "\n",
      "           * * *\n",
      "\n",
      "Machine precision = 2.220D-16\n",
      " N =            7     M =           12\n",
      "\n",
      "At X0         0 variables are exactly at the bounds\n",
      "\n",
      "At iterate    0    f=          NaN    |proj g|=          NaN\n",
      "Initial log joint probability = -3.40261\n",
      "    Iter      log prob        ||dx||      ||grad||       alpha      alpha0  # evals  Notes \n",
      "      99       422.246     0.0180658       213.125      0.4914           1      133   \n",
      "    Iter      log prob        ||dx||      ||grad||       alpha      alpha0  # evals  Notes \n",
      "     199       429.759     0.0165888       337.073      0.3576           1      245   \n",
      "    Iter      log prob        ||dx||      ||grad||       alpha      alpha0  # evals  Notes \n",
      "     299       435.263    0.00952663       135.141           1           1      362   \n",
      "    Iter      log prob        ||dx||      ||grad||       alpha      alpha0  # evals  Notes \n",
      "     399       437.191    0.00232536       195.578      0.1515           1      476   \n",
      "    Iter      log prob        ||dx||      ||grad||       alpha      alpha0  # evals  Notes \n",
      "     499       438.141     0.0103104       81.1091           1           1      594   \n",
      "    Iter      log prob        ||dx||      ||grad||       alpha      alpha0  # evals  Notes \n",
      "     599       440.077     0.0174294       143.337           1           1      708   \n",
      "    Iter      log prob        ||dx||      ||grad||       alpha      alpha0  # evals  Notes \n",
      "     699       441.234     0.0115039       70.6227      0.3859           1      825   \n",
      "    Iter      log prob        ||dx||      ||grad||       alpha      alpha0  # evals  Notes \n",
      "     799       442.011    0.00126007       47.6914      0.2236      0.2236      935   \n",
      "    Iter      log prob        ||dx||      ||grad||       alpha      alpha0  # evals  Notes \n",
      "     899       442.707    0.00192823       14.3096           1           1     1047   \n",
      "    Iter      log prob        ||dx||      ||grad||       alpha      alpha0  # evals  Notes \n",
      "     999       443.074   0.000277759       13.0815           1           1     1156   \n",
      "    Iter      log prob        ||dx||      ||grad||       alpha      alpha0  # evals  Notes \n",
      "    1099       443.175    0.00129842        17.419           1           1     1272   \n",
      "    Iter      log prob        ||dx||      ||grad||       alpha      alpha0  # evals  Notes \n",
      "    1199        443.29   5.99517e-05        16.677      0.4183      0.4183     1396   \n",
      "    Iter      log prob        ||dx||      ||grad||       alpha      alpha0  # evals  Notes \n",
      "    1299       443.398    0.00142161         18.26      0.3439           1     1509   \n",
      "    Iter      log prob        ||dx||      ||grad||       alpha      alpha0  # evals  Notes \n",
      "    1399       443.442   0.000238385       16.9802      0.3265           1     1626   \n",
      "    Iter      log prob        ||dx||      ||grad||       alpha      alpha0  # evals  Notes \n",
      "    1499       443.491   0.000158174       13.0312           1           1     1742   \n",
      "    Iter      log prob        ||dx||      ||grad||       alpha      alpha0  # evals  Notes \n",
      "    1599       443.556   0.000137857       12.9055      0.4452           1     1858   \n",
      "    Iter      log prob        ||dx||      ||grad||       alpha      alpha0  # evals  Notes \n",
      "    1650       443.593   3.28286e-06       2.55096   3.816e-07       0.001     1962  LS failed, Hessian reset \n",
      "    1699         443.6   9.20764e-05       7.84621           1           1     2021   \n",
      "    Iter      log prob        ||dx||      ||grad||       alpha      alpha0  # evals  Notes \n",
      "    1799       443.613   0.000205462       2.88502      0.3835      0.3835     2150   \n",
      "    Iter      log prob        ||dx||      ||grad||       alpha      alpha0  # evals  Notes \n",
      "    1899       443.667   6.67002e-05       16.0733      0.8235      0.8235     2259   \n",
      "    Iter      log prob        ||dx||      ||grad||       alpha      alpha0  # evals  Notes \n",
      "    1999         443.7    0.00191602       12.2063           1           1     2371   \n",
      "    Iter      log prob        ||dx||      ||grad||       alpha      alpha0  # evals  Notes \n",
      "    2099       443.735   0.000583343       16.0357      0.3469           1     2504   \n",
      "    Iter      log prob        ||dx||      ||grad||       alpha      alpha0  # evals  Notes \n",
      "    2166       443.739   6.58437e-06       4.73889   3.716e-07       0.001     2629  LS failed, Hessian reset \n",
      "    2193        443.74   2.00569e-05        10.071   6.068e-06       0.001     2700  LS failed, Hessian reset \n",
      "    2199        443.74   2.39628e-06       2.77013      0.6956      0.6956     2706   \n",
      "    Iter      log prob        ||dx||      ||grad||       alpha      alpha0  # evals  Notes \n",
      "    2225        443.74   2.49124e-06       1.45312      0.6853      0.6853     2733   \n",
      "Optimization terminated normally: \n",
      "  Convergence detected: relative gradient magnitude is below tolerance\n"
     ]
    },
    {
     "name": "stderr",
     "output_type": "stream",
     "text": [
      "WARNING:fbprophet.models:Optimization terminated abnormally. Falling back to Newton.\n"
     ]
    },
    {
     "name": "stdout",
     "output_type": "stream",
     "text": [
      "Initial log joint probability = -3.40261\n",
      "    Iter      log prob        ||dx||      ||grad||       alpha      alpha0  # evals  Notes \n",
      "       1      -3.40261           nan       119.845       1e-12       0.001       19   \n",
      "Optimization terminated with error: \n",
      "  Line search failed to achieve a sufficient decrease, no more progress can be made\n",
      "\n",
      "Initial log joint probability = -23.4284\n",
      "Iteration  1. Log joint probability =    108.265. Improved by 131.694.\n",
      "Iteration  2. Log joint probability =    172.823. Improved by 64.5578.\n",
      "Iteration  3. Log joint probability =    184.734. Improved by 11.9109.\n",
      "Iteration  4. Log joint probability =    297.255. Improved by 112.521.\n",
      "Iteration  5. Log joint probability =    299.179. Improved by 1.92456.\n",
      "Iteration  6. Log joint probability =    306.469. Improved by 7.28984.\n",
      "Iteration  7. Log joint probability =      312.1. Improved by 5.63039.\n",
      "Iteration  8. Log joint probability =    312.866. Improved by 0.766318.\n",
      "Iteration  9. Log joint probability =    312.965. Improved by 0.0988496.\n",
      "Iteration 10. Log joint probability =    313.063. Improved by 0.0978498.\n",
      "Iteration 11. Log joint probability =    313.516. Improved by 0.453353.\n",
      "Iteration 12. Log joint probability =    313.664. Improved by 0.1479.\n",
      "Iteration 13. Log joint probability =    313.887. Improved by 0.223476.\n",
      "Iteration 14. Log joint probability =    313.941. Improved by 0.0531341.\n",
      "Iteration 15. Log joint probability =    314.091. Improved by 0.150455.\n",
      "Iteration 16. Log joint probability =    314.153. Improved by 0.0624168.\n",
      "Iteration 17. Log joint probability =    314.191. Improved by 0.0376943.\n",
      "Iteration 18. Log joint probability =    314.192. Improved by 0.00113459.\n",
      "Iteration 19. Log joint probability =    314.197. Improved by 0.00514653.\n",
      "Iteration 20. Log joint probability =    314.217. Improved by 0.0194493.\n",
      "Iteration 21. Log joint probability =    314.226. Improved by 0.00912417.\n",
      "Iteration 22. Log joint probability =     314.23. Improved by 0.00452123.\n",
      "Iteration 23. Log joint probability =    314.232. Improved by 0.0017122.\n",
      "Iteration 24. Log joint probability =    314.233. Improved by 0.000556153.\n",
      "Iteration 25. Log joint probability =    314.234. Improved by 0.00106344.\n",
      "Iteration 26. Log joint probability =    314.234. Improved by 0.000223447.\n",
      "Iteration 27. Log joint probability =    314.235. Improved by 0.00056558.\n",
      "Iteration 28. Log joint probability =    314.235. Improved by 0.000218388.\n",
      "Iteration 29. Log joint probability =    314.235. Improved by 4.93373e-05.\n",
      "Iteration 30. Log joint probability =    314.235. Improved by 0.00012793.\n",
      "Iteration 31. Log joint probability =    314.235. Improved by 1.84798e-05.\n",
      "Iteration 32. Log joint probability =    314.235. Improved by 6.96539e-05.\n",
      "Iteration 33. Log joint probability =    314.235. Improved by 4.30985e-05.\n",
      "Iteration 34. Log joint probability =    314.235. Improved by 1.22685e-05.\n",
      "Iteration 35. Log joint probability =    314.235. Improved by 3.45562e-06.\n",
      "Iteration 36. Log joint probability =    314.235. Improved by 2.79405e-07.\n",
      "Iteration 37. Log joint probability =    314.235. Improved by 8.78106e-06.\n",
      "Iteration 38. Log joint probability =    314.235. Improved by 3.85537e-07.\n",
      "Iteration 39. Log joint probability =    314.235. Improved by 4.26257e-06.\n",
      "Iteration 40. Log joint probability =    314.235. Improved by 7.34654e-07.\n",
      "Iteration 41. Log joint probability =    314.235. Improved by 2.33972e-06.\n",
      "Iteration 42. Log joint probability =    314.235. Improved by 1.16607e-06.\n",
      "Iteration 43. Log joint probability =    314.235. Improved by 4.69985e-07.\n",
      "Iteration 44. Log joint probability =    314.235. Improved by 2.33518e-08.\n",
      "Iteration 45. Log joint probability =    314.235. Improved by 3.8721e-08.\n",
      "Iteration 46. Log joint probability =    314.235. Improved by 1.70722e-07.\n",
      "Iteration 47. Log joint probability =    314.235. Improved by 1.91942e-07.\n",
      "Iteration 48. Log joint probability =    314.235. Improved by 6.1265e-08.\n",
      "Iteration 49. Log joint probability =    314.235. Improved by 2.22184e-09.\n",
      "Initial log joint probability = -3.40261\n",
      "    Iter      log prob        ||dx||      ||grad||       alpha      alpha0  # evals  Notes \n",
      "      99       243.471   0.000199396       79.9906     0.03145           1      138   \n",
      "    Iter      log prob        ||dx||      ||grad||       alpha      alpha0  # evals  Notes \n",
      "     143       243.494   3.39315e-05       68.4452   3.953e-07       0.001      236  LS failed, Hessian reset \n",
      "     192       243.495    4.4859e-07       77.1024   6.398e-09       0.001      345  LS failed, Hessian reset \n",
      "     199       243.495   1.74889e-08       70.6466     0.09259      0.4248      355   \n",
      "    Iter      log prob        ||dx||      ||grad||       alpha      alpha0  # evals  Notes \n",
      "     200       243.495   8.67359e-09       71.3276      0.1047      0.1047      356   \n",
      "Optimization terminated normally: \n",
      "  Convergence detected: absolute parameter change was below tolerance\n",
      "Initial log joint probability = -3.40261\n",
      "    Iter      log prob        ||dx||      ||grad||       alpha      alpha0  # evals  Notes \n",
      "      99       356.574    0.00160177       160.891       0.684       0.684      121   \n",
      "    Iter      log prob        ||dx||      ||grad||       alpha      alpha0  # evals  Notes \n",
      "     110       357.262    0.00032208       158.847   1.505e-06       0.001      169  LS failed, Hessian reset \n",
      "     152       358.167   7.67061e-05       91.5417   9.383e-07       0.001      269  LS failed, Hessian reset \n",
      "     199       358.178   8.83965e-06       73.0102           1           1      328   \n",
      "    Iter      log prob        ||dx||      ||grad||       alpha      alpha0  # evals  Notes \n",
      "     223       358.334   0.000179983       104.921   1.931e-06       0.001      390  LS failed, Hessian reset \n",
      "     295       358.458   8.06875e-06       73.6456   1.181e-07       0.001      532  LS failed, Hessian reset \n",
      "     299       358.458   3.62358e-06       68.7149           1           1      537   \n",
      "    Iter      log prob        ||dx||      ||grad||       alpha      alpha0  # evals  Notes \n",
      "     331       358.459   3.09701e-07       71.2458   4.029e-09       0.001      621  LS failed, Hessian reset \n",
      "     342       358.459   5.90099e-09       73.1174      0.2668      0.2668      634   \n",
      "Optimization terminated normally: \n",
      "  Convergence detected: absolute parameter change was below tolerance\n"
     ]
    },
    {
     "name": "stderr",
     "output_type": "stream",
     "text": [
      "WARNING:fbprophet.models:Optimization terminated abnormally. Falling back to Newton.\n"
     ]
    },
    {
     "name": "stdout",
     "output_type": "stream",
     "text": [
      "Initial log joint probability = -3.40261\n",
      "    Iter      log prob        ||dx||      ||grad||       alpha      alpha0  # evals  Notes \n",
      "       1      -3.40261           nan       119.655       1e-12       0.001       22   \n",
      "Optimization terminated with error: \n",
      "  Line search failed to achieve a sufficient decrease, no more progress can be made\n",
      "\n",
      "Initial log joint probability = -41.99\n",
      "Iteration  1. Log joint probability =    72.3333. Improved by 114.323.\n",
      "Iteration  2. Log joint probability =    157.165. Improved by 84.8319.\n",
      "Iteration  3. Log joint probability =    217.404. Improved by 60.2384.\n",
      "Iteration  4. Log joint probability =    243.143. Improved by 25.7397.\n",
      "Iteration  5. Log joint probability =    292.801. Improved by 49.6573.\n",
      "Iteration  6. Log joint probability =    336.461. Improved by 43.6602.\n",
      "Iteration  7. Log joint probability =    338.198. Improved by 1.73737.\n",
      "Iteration  8. Log joint probability =     340.01. Improved by 1.81167.\n",
      "Iteration  9. Log joint probability =    340.763. Improved by 0.753641.\n",
      "Iteration 10. Log joint probability =    341.366. Improved by 0.602519.\n",
      "Iteration 11. Log joint probability =    342.961. Improved by 1.59494.\n",
      "Iteration 12. Log joint probability =    344.223. Improved by 1.26233.\n",
      "Iteration 13. Log joint probability =    344.515. Improved by 0.291865.\n",
      "Iteration 14. Log joint probability =     348.16. Improved by 3.64441.\n",
      "Iteration 15. Log joint probability =    348.482. Improved by 0.322807.\n",
      "Iteration 16. Log joint probability =    349.977. Improved by 1.49511.\n",
      "Iteration 17. Log joint probability =    352.293. Improved by 2.31533.\n",
      "Iteration 18. Log joint probability =    353.145. Improved by 0.851821.\n",
      "Iteration 19. Log joint probability =    353.186. Improved by 0.0418109.\n",
      "Iteration 20. Log joint probability =     353.31. Improved by 0.123291.\n",
      "Iteration 21. Log joint probability =    353.428. Improved by 0.118559.\n",
      "Iteration 22. Log joint probability =    353.518. Improved by 0.0894613.\n",
      "Iteration 23. Log joint probability =    353.952. Improved by 0.433909.\n",
      "Iteration 24. Log joint probability =    354.046. Improved by 0.094122.\n",
      "Iteration 25. Log joint probability =    354.186. Improved by 0.140284.\n",
      "Iteration 26. Log joint probability =    354.295. Improved by 0.109282.\n",
      "Iteration 27. Log joint probability =    354.331. Improved by 0.0354578.\n",
      "Iteration 28. Log joint probability =    354.364. Improved by 0.0335556.\n",
      "Iteration 29. Log joint probability =    354.389. Improved by 0.0247234.\n",
      "Iteration 30. Log joint probability =    354.394. Improved by 0.00452745.\n",
      "Iteration 31. Log joint probability =    354.402. Improved by 0.00845095.\n",
      "Iteration 32. Log joint probability =    354.412. Improved by 0.00979826.\n",
      "Iteration 33. Log joint probability =    354.423. Improved by 0.0112496.\n",
      "Iteration 34. Log joint probability =    354.429. Improved by 0.00624894.\n",
      "Iteration 35. Log joint probability =     354.43. Improved by 0.000307511.\n",
      "Iteration 36. Log joint probability =    354.434. Improved by 0.00409366.\n",
      "Iteration 37. Log joint probability =    354.436. Improved by 0.00181549.\n",
      "Iteration 38. Log joint probability =    354.439. Improved by 0.00369194.\n",
      "Iteration 39. Log joint probability =     354.44. Improved by 0.00121699.\n",
      "Iteration 40. Log joint probability =    354.444. Improved by 0.00350465.\n",
      "Iteration 41. Log joint probability =    354.446. Improved by 0.00241939.\n",
      "Iteration 42. Log joint probability =    354.447. Improved by 0.000725179.\n",
      "Iteration 43. Log joint probability =    354.452. Improved by 0.00444978.\n",
      "Iteration 44. Log joint probability =    354.454. Improved by 0.00235991.\n",
      "Iteration 45. Log joint probability =    354.456. Improved by 0.00258189.\n",
      "Iteration 46. Log joint probability =    354.457. Improved by 0.000334645.\n",
      "Iteration 47. Log joint probability =    354.462. Improved by 0.00519776.\n",
      "Iteration 48. Log joint probability =    354.468. Improved by 0.00638403.\n",
      "Iteration 49. Log joint probability =    354.469. Improved by 0.000863661.\n",
      "Iteration 50. Log joint probability =    354.471. Improved by 0.00128798.\n",
      "Iteration 51. Log joint probability =    354.472. Improved by 0.00108597.\n",
      "Iteration 52. Log joint probability =    354.473. Improved by 0.00169344.\n",
      "Iteration 53. Log joint probability =    354.478. Improved by 0.00424274.\n",
      "Iteration 54. Log joint probability =    354.479. Improved by 0.00117469.\n",
      "Iteration 55. Log joint probability =    354.479. Improved by 0.000461786.\n",
      "Iteration 56. Log joint probability =     354.48. Improved by 0.00064642.\n",
      "Iteration 57. Log joint probability =    354.481. Improved by 0.000869919.\n",
      "Iteration 58. Log joint probability =    354.481. Improved by 0.000268636.\n",
      "Iteration 59. Log joint probability =    354.481. Improved by 0.000174853.\n",
      "Iteration 60. Log joint probability =    354.481. Improved by 9.21305e-05.\n",
      "Iteration 61. Log joint probability =    354.481. Improved by 3.91371e-06.\n",
      "Iteration 62. Log joint probability =    354.481. Improved by 0.000163106.\n",
      "Iteration 63. Log joint probability =    354.482. Improved by 9.95739e-05.\n",
      "Iteration 64. Log joint probability =    354.482. Improved by 0.00026471.\n",
      "Iteration 65. Log joint probability =    354.482. Improved by 3.31604e-05.\n",
      "Iteration 66. Log joint probability =    354.482. Improved by 8.4422e-05.\n",
      "Iteration 67. Log joint probability =    354.482. Improved by 7.95497e-06.\n",
      "Iteration 68. Log joint probability =    354.482. Improved by 5.70877e-05.\n",
      "Iteration 69. Log joint probability =    354.482. Improved by 6.51714e-06.\n",
      "Iteration 70. Log joint probability =    354.482. Improved by 2.2091e-06.\n",
      "Iteration 71. Log joint probability =    354.482. Improved by 2.25059e-05.\n",
      "Iteration 72. Log joint probability =    354.482. Improved by 1.66271e-05.\n",
      "Iteration 73. Log joint probability =    354.482. Improved by 1.28495e-05.\n",
      "Iteration 74. Log joint probability =    354.482. Improved by 7.16118e-06.\n",
      "Iteration 75. Log joint probability =    354.482. Improved by 1.16053e-05.\n",
      "Iteration 76. Log joint probability =    354.482. Improved by 1.2383e-06.\n",
      "Iteration 77. Log joint probability =    354.482. Improved by 6.41675e-06.\n",
      "Iteration 78. Log joint probability =    354.482. Improved by 3.40831e-07.\n",
      "Iteration 79. Log joint probability =    354.482. Improved by 6.2748e-06.\n",
      "Iteration 80. Log joint probability =    354.482. Improved by 2.56278e-06.\n",
      "Iteration 81. Log joint probability =    354.482. Improved by 1.53959e-06.\n",
      "Iteration 82. Log joint probability =    354.482. Improved by 2.90733e-06.\n",
      "Iteration 83. Log joint probability =    354.482. Improved by 1.74149e-06.\n",
      "Iteration 84. Log joint probability =    354.482. Improved by 1.10625e-08.\n",
      "Iteration 85. Log joint probability =    354.482. Improved by 5.28584e-07.\n",
      "Iteration 86. Log joint probability =    354.482. Improved by 1.46383e-07.\n",
      "Iteration 87. Log joint probability =    354.482. Improved by 1.1835e-06.\n",
      "Iteration 88. Log joint probability =    354.482. Improved by 2.5098e-07.\n",
      "Iteration 89. Log joint probability =    354.482. Improved by 1.65107e-06.\n",
      "Iteration 90. Log joint probability =    354.482. Improved by 5.15555e-07.\n",
      "Iteration 91. Log joint probability =    354.482. Improved by 1.80632e-07.\n",
      "Iteration 92. Log joint probability =    354.482. Improved by 3.91094e-07.\n",
      "Iteration 93. Log joint probability =    354.482. Improved by 3.43435e-07.\n",
      "Iteration 94. Log joint probability =    354.482. Improved by 7.01369e-07.\n",
      "Iteration 95. Log joint probability =    354.482. Improved by 3.42953e-07.\n",
      "Iteration 96. Log joint probability =    354.482. Improved by 1.96838e-07.\n",
      "Iteration 97. Log joint probability =    354.482. Improved by 3.10175e-07.\n",
      "Iteration 98. Log joint probability =    354.482. Improved by 1.62824e-07.\n",
      "Iteration 99. Log joint probability =    354.482. Improved by 8.20056e-08.\n",
      "Iteration 100. Log joint probability =    354.482. Improved by 8.04142e-08.\n",
      "Iteration 101. Log joint probability =    354.482. Improved by 4.42157e-09.\n",
      "Initial log joint probability = -3.40261\n",
      "    Iter      log prob        ||dx||      ||grad||       alpha      alpha0  # evals  Notes \n",
      "      99       326.106   0.000483702       16.5259           1           1      120   \n",
      "    Iter      log prob        ||dx||      ||grad||       alpha      alpha0  # evals  Notes \n",
      "     199       327.687    0.00201516        32.139      0.7288      0.7288      236   \n",
      "    Iter      log prob        ||dx||      ||grad||       alpha      alpha0  # evals  Notes \n",
      "     299       328.307   0.000304501       26.3624      0.5619      0.5619      360   \n",
      "    Iter      log prob        ||dx||      ||grad||       alpha      alpha0  # evals  Notes \n",
      "     356       328.453   6.77638e-05       23.4597   2.104e-06       0.001      472  LS failed, Hessian reset \n",
      "     399       328.562   0.000190361       7.98425      0.5748      0.5748      528   \n",
      "    Iter      log prob        ||dx||      ||grad||       alpha      alpha0  # evals  Notes \n",
      "     499       328.721    0.00029659       9.14369       0.577       0.577      657   \n",
      "    Iter      log prob        ||dx||      ||grad||       alpha      alpha0  # evals  Notes \n",
      "     599       328.786   1.65535e-05        6.6722      0.7932      0.7932      772   \n",
      "    Iter      log prob        ||dx||      ||grad||       alpha      alpha0  # evals  Notes \n",
      "     676       328.807   3.52292e-05       12.9909   2.126e-06       0.001      896  LS failed, Hessian reset \n",
      "     699        328.81   2.40687e-05       8.11848           1           1      925   \n",
      "    Iter      log prob        ||dx||      ||grad||       alpha      alpha0  # evals  Notes \n",
      "     757       328.811   1.55054e-07       7.53412     0.07938           1     1007   \n",
      "Optimization terminated normally: \n",
      "  Convergence detected: relative gradient magnitude is below tolerance\n"
     ]
    },
    {
     "name": "stdout",
     "output_type": "stream",
     "text": [
      "Initial log joint probability = -3.40261\n",
      "    Iter      log prob        ||dx||      ||grad||       alpha      alpha0  # evals  Notes \n",
      "      99       367.732   1.30916e-05       346.615       9.199      0.9199      142   \n",
      "    Iter      log prob        ||dx||      ||grad||       alpha      alpha0  # evals  Notes \n",
      "     141       367.752   7.40871e-06       301.394   2.203e-08       0.001      242  LS failed, Hessian reset \n",
      "     183       367.753   4.55652e-08        260.81   1.136e-10       0.001      335  LS failed, Hessian reset \n",
      "     186       367.753   3.42757e-09       329.247      0.2073      0.2073      339   \n",
      "Optimization terminated normally: \n",
      "  Convergence detected: absolute parameter change was below tolerance\n",
      "Initial log joint probability = -3.40261\n",
      "    Iter      log prob        ||dx||      ||grad||       alpha      alpha0  # evals  Notes \n",
      "      99       245.053     0.0127993       50.6167      0.6666           1      138   \n",
      "    Iter      log prob        ||dx||      ||grad||       alpha      alpha0  # evals  Notes \n",
      "     100       245.083    0.00120347        55.156   2.378e-05       0.001      177  LS failed, Hessian reset \n",
      "     153       245.122   0.000109306       37.2021   2.702e-06       0.001      279  LS failed, Hessian reset \n",
      "     188       245.128    3.1431e-05       30.5009   6.759e-07       0.001      362  LS failed, Hessian reset \n",
      "     199       245.128   4.78739e-07       33.4478      0.2655      0.2655      375   \n",
      "    Iter      log prob        ||dx||      ||grad||       alpha      alpha0  # evals  Notes \n",
      "     299       245.129   1.63723e-06       50.3347           1           1      497   \n",
      "    Iter      log prob        ||dx||      ||grad||       alpha      alpha0  # evals  Notes \n",
      "     350       245.138   8.94808e-06       28.5728   3.178e-07       0.001      652  LS failed, Hessian reset \n",
      "     399       245.144   3.70885e-06       41.1921      0.8672      0.8672      711   \n",
      "    Iter      log prob        ||dx||      ||grad||       alpha      alpha0  # evals  Notes \n",
      "     423       245.145   4.61352e-06       35.8009   1.208e-07       0.001      787  LS failed, Hessian reset \n",
      "     458       245.145   1.49441e-08        35.071       0.608       0.608      831   \n",
      "Optimization terminated normally: \n",
      "  Convergence detected: relative gradient magnitude is below tolerance\n"
     ]
    },
    {
     "name": "stderr",
     "output_type": "stream",
     "text": [
      "WARNING:fbprophet.models:Optimization terminated abnormally. Falling back to Newton.\n"
     ]
    },
    {
     "name": "stdout",
     "output_type": "stream",
     "text": [
      "Initial log joint probability = -3.40261\n",
      "    Iter      log prob        ||dx||      ||grad||       alpha      alpha0  # evals  Notes \n",
      "       1      -3.40261           nan       121.461       1e-12       0.001       19   \n",
      "Optimization terminated with error: \n",
      "  Line search failed to achieve a sufficient decrease, no more progress can be made\n",
      "\n",
      "Initial log joint probability = 60.3732\n",
      "Iteration  1. Log joint probability =    36.3777. Improved by -23.9955.\n",
      "Iteration  2. Log joint probability =    89.9266. Improved by 53.5489.\n",
      "Iteration  3. Log joint probability =    174.311. Improved by 84.3843.\n",
      "Iteration  4. Log joint probability =    231.357. Improved by 57.0463.\n",
      "Iteration  5. Log joint probability =    233.285. Improved by 1.92796.\n",
      "Iteration  6. Log joint probability =     242.28. Improved by 8.99527.\n",
      "Iteration  7. Log joint probability =    242.366. Improved by 0.0853861.\n",
      "Iteration  8. Log joint probability =    242.613. Improved by 0.247144.\n",
      "Iteration  9. Log joint probability =    242.638. Improved by 0.0246647.\n",
      "Iteration 10. Log joint probability =    242.713. Improved by 0.0757986.\n",
      "Iteration 11. Log joint probability =      242.8. Improved by 0.0869544.\n",
      "Iteration 12. Log joint probability =    242.877. Improved by 0.0768433.\n",
      "Iteration 13. Log joint probability =    242.915. Improved by 0.0375487.\n",
      "Iteration 14. Log joint probability =     242.93. Improved by 0.014889.\n",
      "Iteration 15. Log joint probability =    242.968. Improved by 0.0381868.\n",
      "Iteration 16. Log joint probability =    242.986. Improved by 0.0183968.\n",
      "Iteration 17. Log joint probability =    242.994. Improved by 0.00750186.\n",
      "Iteration 18. Log joint probability =    242.995. Improved by 0.0012668.\n",
      "Iteration 19. Log joint probability =        243. Improved by 0.00525777.\n",
      "Iteration 20. Log joint probability =    243.002. Improved by 0.00154296.\n",
      "Iteration 21. Log joint probability =    243.002. Improved by 0.000448758.\n",
      "Iteration 22. Log joint probability =    243.004. Improved by 0.00122731.\n",
      "Iteration 23. Log joint probability =    243.004. Improved by 0.00034182.\n",
      "Iteration 24. Log joint probability =    243.004. Improved by 0.000245874.\n",
      "Iteration 25. Log joint probability =    243.004. Improved by 0.000249489.\n",
      "Iteration 26. Log joint probability =    243.004. Improved by 7.86274e-05.\n",
      "Iteration 27. Log joint probability =    243.004. Improved by 5.66346e-05.\n",
      "Iteration 28. Log joint probability =    243.005. Improved by 4.88595e-05.\n",
      "Iteration 29. Log joint probability =    243.005. Improved by 7.49829e-06.\n",
      "Iteration 30. Log joint probability =    243.005. Improved by 3.54678e-05.\n",
      "Iteration 31. Log joint probability =    243.005. Improved by 3.49044e-06.\n",
      "Iteration 32. Log joint probability =    243.005. Improved by 1.8558e-05.\n",
      "Iteration 33. Log joint probability =    243.005. Improved by 9.05729e-08.\n",
      "Iteration 34. Log joint probability =    243.005. Improved by 1.29632e-06.\n",
      "Iteration 35. Log joint probability =    243.005. Improved by 9.71266e-06.\n",
      "Iteration 36. Log joint probability =    243.005. Improved by 4.57547e-06.\n",
      "Iteration 37. Log joint probability =    243.005. Improved by 2.50008e-06.\n",
      "Iteration 38. Log joint probability =    243.005. Improved by 1.25614e-06.\n",
      "Iteration 39. Log joint probability =    243.005. Improved by 4.51737e-07.\n",
      "Iteration 40. Log joint probability =    243.005. Improved by 3.08865e-07.\n",
      "Iteration 41. Log joint probability =    243.005. Improved by 1.23838e-07.\n",
      "Iteration 42. Log joint probability =    243.005. Improved by 6.17787e-08.\n",
      "Iteration 43. Log joint probability =    243.005. Improved by 2.30495e-08.\n",
      "Iteration 44. Log joint probability =    243.005. Improved by 3.82553e-08.\n",
      "Iteration 45. Log joint probability =    243.005. Improved by 4.40258e-09.\n"
     ]
    },
    {
     "name": "stderr",
     "output_type": "stream",
     "text": [
      "WARNING:fbprophet.models:Optimization terminated abnormally. Falling back to Newton.\n"
     ]
    },
    {
     "name": "stdout",
     "output_type": "stream",
     "text": [
      "Initial log joint probability = -3.40261\n",
      "    Iter      log prob        ||dx||      ||grad||       alpha      alpha0  # evals  Notes \n",
      "       1      -3.40261           nan       119.415       1e-12       0.001       21   \n",
      "Optimization terminated with error: \n",
      "  Line search failed to achieve a sufficient decrease, no more progress can be made\n",
      "\n",
      "Initial log joint probability = 40.0832\n",
      "Iteration  1. Log joint probability =    85.5613. Improved by 45.4781.\n",
      "Iteration  2. Log joint probability =    179.393. Improved by 93.8316.\n",
      "Iteration  3. Log joint probability =    225.606. Improved by 46.2134.\n",
      "Iteration  4. Log joint probability =    228.973. Improved by 3.36698.\n",
      "Iteration  5. Log joint probability =    234.648. Improved by 5.67461.\n",
      "Iteration  6. Log joint probability =    239.475. Improved by 4.82716.\n",
      "Iteration  7. Log joint probability =    240.143. Improved by 0.667579.\n",
      "Iteration  8. Log joint probability =    241.389. Improved by 1.24593.\n",
      "Iteration  9. Log joint probability =    241.847. Improved by 0.458682.\n",
      "Iteration 10. Log joint probability =    241.945. Improved by 0.0977678.\n",
      "Iteration 11. Log joint probability =    242.029. Improved by 0.0840047.\n",
      "Iteration 12. Log joint probability =    242.147. Improved by 0.118293.\n",
      "Iteration 13. Log joint probability =     242.24. Improved by 0.0923456.\n",
      "Iteration 14. Log joint probability =    242.259. Improved by 0.0190078.\n",
      "Iteration 15. Log joint probability =    242.274. Improved by 0.0150981.\n",
      "Iteration 16. Log joint probability =    242.284. Improved by 0.00998624.\n",
      "Iteration 17. Log joint probability =    242.289. Improved by 0.00535721.\n",
      "Iteration 18. Log joint probability =    242.297. Improved by 0.00833413.\n",
      "Iteration 19. Log joint probability =    242.301. Improved by 0.00396034.\n",
      "Iteration 20. Log joint probability =    242.302. Improved by 0.000216625.\n",
      "Iteration 21. Log joint probability =    242.304. Improved by 0.00247554.\n",
      "Iteration 22. Log joint probability =    242.306. Improved by 0.00141937.\n",
      "Iteration 23. Log joint probability =    242.306. Improved by 0.000303486.\n",
      "Iteration 24. Log joint probability =    242.306. Improved by 0.000117479.\n",
      "Iteration 25. Log joint probability =    242.306. Improved by 0.000231861.\n",
      "Iteration 26. Log joint probability =    242.306. Improved by 4.86332e-05.\n",
      "Iteration 27. Log joint probability =    242.306. Improved by 9.49008e-05.\n",
      "Iteration 28. Log joint probability =    242.306. Improved by 7.36159e-05.\n",
      "Iteration 29. Log joint probability =    242.306. Improved by 6.23523e-05.\n",
      "Iteration 30. Log joint probability =    242.306. Improved by 1.07654e-05.\n",
      "Iteration 31. Log joint probability =    242.306. Improved by 1.40414e-05.\n",
      "Iteration 32. Log joint probability =    242.307. Improved by 9.09816e-06.\n",
      "Iteration 33. Log joint probability =    242.307. Improved by 6.8946e-06.\n",
      "Iteration 34. Log joint probability =    242.307. Improved by 7.09905e-06.\n",
      "Iteration 35. Log joint probability =    242.307. Improved by 4.64571e-06.\n",
      "Iteration 36. Log joint probability =    242.307. Improved by 1.76967e-06.\n",
      "Iteration 37. Log joint probability =    242.307. Improved by 4.11982e-07.\n",
      "Iteration 38. Log joint probability =    242.307. Improved by 1.10608e-06.\n",
      "Iteration 39. Log joint probability =    242.307. Improved by 4.08923e-07.\n",
      "Iteration 40. Log joint probability =    242.307. Improved by 1.90489e-07.\n",
      "Iteration 41. Log joint probability =    242.307. Improved by 1.94119e-07.\n",
      "Iteration 42. Log joint probability =    242.307. Improved by 2.98084e-08.\n",
      "Iteration 43. Log joint probability =    242.307. Improved by 1.24466e-07.\n",
      "Iteration 44. Log joint probability =    242.307. Improved by 2.43291e-08.\n",
      "Iteration 45. Log joint probability =    242.307. Improved by 7.97679e-08.\n",
      "Iteration 46. Log joint probability =    242.307. Improved by 2.84241e-08.\n",
      "Iteration 47. Log joint probability =    242.307. Improved by 1.55974e-08.\n",
      "Iteration 48. Log joint probability =    242.307. Improved by 8.49701e-09.\n"
     ]
    },
    {
     "name": "stderr",
     "output_type": "stream",
     "text": [
      "WARNING:fbprophet.models:Optimization terminated abnormally. Falling back to Newton.\n"
     ]
    },
    {
     "name": "stdout",
     "output_type": "stream",
     "text": [
      "Initial log joint probability = -3.40261\n",
      "    Iter      log prob        ||dx||      ||grad||       alpha      alpha0  # evals  Notes \n",
      "       1      -3.40261           nan       121.383       1e-12       0.001       24   \n",
      "Optimization terminated with error: \n",
      "  Line search failed to achieve a sufficient decrease, no more progress can be made\n",
      "\n",
      "Initial log joint probability = 49.6697\n",
      "Iteration  1. Log joint probability =    37.5425. Improved by -12.1272.\n",
      "Iteration  2. Log joint probability =    92.8688. Improved by 55.3263.\n",
      "Iteration  3. Log joint probability =    193.363. Improved by 100.494.\n",
      "Iteration  4. Log joint probability =    255.288. Improved by 61.9256.\n",
      "Iteration  5. Log joint probability =    331.912. Improved by 76.624.\n",
      "Iteration  6. Log joint probability =    347.105. Improved by 15.1927.\n",
      "Iteration  7. Log joint probability =    349.107. Improved by 2.00156.\n",
      "Iteration  8. Log joint probability =    349.811. Improved by 0.704687.\n",
      "Iteration  9. Log joint probability =    350.633. Improved by 0.821547.\n",
      "Iteration 10. Log joint probability =    351.025. Improved by 0.392086.\n",
      "Iteration 11. Log joint probability =    351.364. Improved by 0.339264.\n",
      "Iteration 12. Log joint probability =    351.522. Improved by 0.158094.\n",
      "Iteration 13. Log joint probability =     351.63. Improved by 0.107834.\n",
      "Iteration 14. Log joint probability =    351.684. Improved by 0.0535095.\n",
      "Iteration 15. Log joint probability =     351.81. Improved by 0.1268.\n",
      "Iteration 16. Log joint probability =    351.901. Improved by 0.0907982.\n",
      "Iteration 17. Log joint probability =    351.965. Improved by 0.0632961.\n",
      "Iteration 18. Log joint probability =    351.996. Improved by 0.0312907.\n",
      "Iteration 19. Log joint probability =    352.013. Improved by 0.0173317.\n",
      "Iteration 20. Log joint probability =    352.016. Improved by 0.00290164.\n",
      "Iteration 21. Log joint probability =    352.042. Improved by 0.0262617.\n",
      "Iteration 22. Log joint probability =     352.07. Improved by 0.0277022.\n",
      "Iteration 23. Log joint probability =    352.081. Improved by 0.0104538.\n",
      "Iteration 24. Log joint probability =    352.124. Improved by 0.043473.\n",
      "Iteration 25. Log joint probability =    352.149. Improved by 0.0246052.\n",
      "Iteration 26. Log joint probability =    352.168. Improved by 0.0198601.\n",
      "Iteration 27. Log joint probability =    352.177. Improved by 0.0084372.\n",
      "Iteration 28. Log joint probability =     352.19. Improved by 0.0126429.\n",
      "Iteration 29. Log joint probability =    352.206. Improved by 0.0164413.\n",
      "Iteration 30. Log joint probability =    352.214. Improved by 0.00769705.\n",
      "Iteration 31. Log joint probability =    352.218. Improved by 0.00454996.\n",
      "Iteration 32. Log joint probability =    352.231. Improved by 0.0125821.\n",
      "Iteration 33. Log joint probability =    352.234. Improved by 0.00276483.\n",
      "Iteration 34. Log joint probability =    352.235. Improved by 0.00124975.\n",
      "Iteration 35. Log joint probability =    352.236. Improved by 0.00140589.\n",
      "Iteration 36. Log joint probability =    352.238. Improved by 0.00164424.\n",
      "Iteration 37. Log joint probability =     352.24. Improved by 0.00186533.\n",
      "Iteration 38. Log joint probability =     352.24. Improved by 0.000565017.\n",
      "Iteration 39. Log joint probability =    352.241. Improved by 0.00055664.\n",
      "Iteration 40. Log joint probability =    352.241. Improved by 0.000181024.\n",
      "Iteration 41. Log joint probability =    352.241. Improved by 0.000417333.\n",
      "Iteration 42. Log joint probability =    352.242. Improved by 0.000382692.\n",
      "Iteration 43. Log joint probability =    352.242. Improved by 8.54827e-05.\n",
      "Iteration 44. Log joint probability =    352.242. Improved by 0.000380406.\n",
      "Iteration 45. Log joint probability =    352.243. Improved by 0.000244046.\n",
      "Iteration 46. Log joint probability =    352.243. Improved by 3.81932e-05.\n",
      "Iteration 47. Log joint probability =    352.243. Improved by 0.000479877.\n",
      "Iteration 48. Log joint probability =    352.243. Improved by 0.000293509.\n",
      "Iteration 49. Log joint probability =    352.244. Improved by 0.000344446.\n",
      "Iteration 50. Log joint probability =    352.244. Improved by 0.000140835.\n",
      "Iteration 51. Log joint probability =    352.244. Improved by 0.000155782.\n",
      "Iteration 52. Log joint probability =    352.244. Improved by 3.10608e-05.\n",
      "Iteration 53. Log joint probability =    352.244. Improved by 4.03265e-05.\n",
      "Iteration 54. Log joint probability =    352.244. Improved by 0.000107926.\n",
      "Iteration 55. Log joint probability =    352.244. Improved by 1.1583e-05.\n",
      "Iteration 56. Log joint probability =    352.244. Improved by 0.000127787.\n",
      "Iteration 57. Log joint probability =    352.244. Improved by 4.2231e-05.\n",
      "Iteration 58. Log joint probability =    352.244. Improved by 7.42234e-05.\n",
      "Iteration 59. Log joint probability =    352.244. Improved by 5.1158e-05.\n",
      "Iteration 60. Log joint probability =    352.245. Improved by 3.77315e-05.\n",
      "Iteration 61. Log joint probability =    352.245. Improved by 1.25186e-05.\n",
      "Iteration 62. Log joint probability =    352.245. Improved by 3.61259e-05.\n",
      "Iteration 63. Log joint probability =    352.245. Improved by 1.39112e-05.\n",
      "Iteration 64. Log joint probability =    352.245. Improved by 1.68173e-05.\n",
      "Iteration 65. Log joint probability =    352.245. Improved by 2.15199e-05.\n",
      "Iteration 66. Log joint probability =    352.245. Improved by 2.18925e-05.\n",
      "Iteration 67. Log joint probability =    352.245. Improved by 8.70823e-06.\n",
      "Iteration 68. Log joint probability =    352.245. Improved by 7.44911e-06.\n",
      "Iteration 69. Log joint probability =    352.245. Improved by 4.24302e-07.\n",
      "Iteration 70. Log joint probability =    352.245. Improved by 1.19398e-05.\n",
      "Iteration 71. Log joint probability =    352.245. Improved by 6.60302e-06.\n",
      "Iteration 72. Log joint probability =    352.245. Improved by 4.37399e-06.\n",
      "Iteration 73. Log joint probability =    352.245. Improved by 4.22685e-06.\n",
      "Iteration 74. Log joint probability =    352.245. Improved by 3.59898e-06.\n",
      "Iteration 75. Log joint probability =    352.245. Improved by 4.3335e-06.\n",
      "Iteration 76. Log joint probability =    352.245. Improved by 6.39255e-06.\n",
      "Iteration 77. Log joint probability =    352.245. Improved by 4.24466e-06.\n",
      "Iteration 78. Log joint probability =    352.245. Improved by 5.41377e-06.\n",
      "Iteration 79. Log joint probability =    352.245. Improved by 2.4345e-06.\n",
      "Iteration 80. Log joint probability =    352.245. Improved by 1.03287e-06.\n",
      "Iteration 81. Log joint probability =    352.245. Improved by 1.76175e-06.\n",
      "Iteration 82. Log joint probability =    352.245. Improved by 2.64482e-07.\n",
      "Iteration 83. Log joint probability =    352.245. Improved by 1.10184e-06.\n",
      "Iteration 84. Log joint probability =    352.245. Improved by 1.67286e-06.\n",
      "Iteration 85. Log joint probability =    352.245. Improved by 7.72995e-08.\n",
      "Iteration 86. Log joint probability =    352.245. Improved by 5.77699e-07.\n",
      "Iteration 87. Log joint probability =    352.245. Improved by 9.82108e-07.\n",
      "Iteration 88. Log joint probability =    352.245. Improved by 1.83575e-06.\n",
      "Iteration 89. Log joint probability =    352.245. Improved by 3.70148e-07.\n",
      "Iteration 90. Log joint probability =    352.245. Improved by 6.18971e-07.\n",
      "Iteration 91. Log joint probability =    352.245. Improved by 2.03459e-07.\n",
      "Iteration 92. Log joint probability =    352.245. Improved by 3.15279e-06.\n",
      "Iteration 93. Log joint probability =    352.245. Improved by 4.1835e-07.\n",
      "Iteration 94. Log joint probability =    352.245. Improved by 5.61279e-07.\n",
      "Iteration 95. Log joint probability =    352.245. Improved by 9.45509e-07.\n",
      "Iteration 96. Log joint probability =    352.245. Improved by 9.98613e-08.\n",
      "Iteration 97. Log joint probability =    352.245. Improved by 5.46748e-07.\n",
      "Iteration 98. Log joint probability =    352.245. Improved by 6.91808e-07.\n",
      "Iteration 99. Log joint probability =    352.245. Improved by 1.82262e-07.\n",
      "Iteration 100. Log joint probability =    352.245. Improved by 9.8292e-08.\n",
      "Iteration 101. Log joint probability =    352.245. Improved by 5.49952e-07.\n",
      "Iteration 102. Log joint probability =    352.245. Improved by 2.2425e-07.\n",
      "Iteration 103. Log joint probability =    352.245. Improved by 8.56286e-07.\n",
      "Iteration 104. Log joint probability =    352.245. Improved by 1.17292e-07.\n",
      "Iteration 105. Log joint probability =    352.245. Improved by 5.67459e-07.\n",
      "Iteration 106. Log joint probability =    352.245. Improved by 7.43505e-07.\n",
      "Iteration 107. Log joint probability =    352.245. Improved by 8.45987e-07.\n",
      "Iteration 108. Log joint probability =    352.245. Improved by 3.00702e-07.\n",
      "Iteration 109. Log joint probability =    352.245. Improved by 2.52811e-07.\n",
      "Iteration 110. Log joint probability =    352.245. Improved by 2.41366e-07.\n",
      "Iteration 111. Log joint probability =    352.245. Improved by 1.71921e-07.\n",
      "Iteration 112. Log joint probability =    352.245. Improved by 4.31005e-08.\n",
      "Iteration 113. Log joint probability =    352.245. Improved by 1.27556e-07.\n",
      "Iteration 114. Log joint probability =    352.245. Improved by 1.1175e-07.\n",
      "Iteration 115. Log joint probability =    352.245. Improved by 3.77346e-08.\n",
      "Iteration 116. Log joint probability =    352.245. Improved by 4.22938e-08.\n",
      "Iteration 117. Log joint probability =    352.245. Improved by 2.13208e-08.\n",
      "Iteration 118. Log joint probability =    352.245. Improved by 3.69037e-08.\n",
      "Iteration 119. Log joint probability =    352.245. Improved by 6.36044e-09.\n"
     ]
    },
    {
     "name": "stdout",
     "output_type": "stream",
     "text": [
      "Initial log joint probability = -3.40261\n",
      "    Iter      log prob        ||dx||      ||grad||       alpha      alpha0  # evals  Notes \n",
      "      99       289.488    0.00879194       110.421      0.5436           1      128   \n",
      "    Iter      log prob        ||dx||      ||grad||       alpha      alpha0  # evals  Notes \n",
      "     189       291.199    0.00017594       49.5392   8.858e-07       0.001      264  LS failed, Hessian reset \n",
      "     199       291.406   0.000492258       59.0175           1           1      277   \n",
      "    Iter      log prob        ||dx||      ||grad||       alpha      alpha0  # evals  Notes \n",
      "     299       291.778   4.48659e-06       15.0059           1           1      413   \n",
      "    Iter      log prob        ||dx||      ||grad||       alpha      alpha0  # evals  Notes \n",
      "     399       291.993   0.000819002       20.3071           1           1      539   \n",
      "    Iter      log prob        ||dx||      ||grad||       alpha      alpha0  # evals  Notes \n",
      "     499       292.024   0.000269608       24.1207           1           1      668   \n",
      "    Iter      log prob        ||dx||      ||grad||       alpha      alpha0  # evals  Notes \n",
      "     599       292.103   8.51825e-06        14.754           1           1      790   \n",
      "    Iter      log prob        ||dx||      ||grad||       alpha      alpha0  # evals  Notes \n",
      "     617       292.117   0.000118639       51.1681   5.099e-06       0.001      849  LS failed, Hessian reset \n",
      "     678       292.127   6.75717e-06       16.0904   4.275e-07       0.001      966  LS failed, Hessian reset \n",
      "     699       292.128   1.22603e-07       16.0341           1           1      993   \n",
      "    Iter      log prob        ||dx||      ||grad||       alpha      alpha0  # evals  Notes \n",
      "     701       292.128   8.24158e-08       14.8592           1           1      995   \n",
      "Optimization terminated normally: \n",
      "  Convergence detected: relative gradient magnitude is below tolerance\n",
      "Initial log joint probability = -3.40261\n",
      "    Iter      log prob        ||dx||      ||grad||       alpha      alpha0  # evals  Notes \n",
      "      73       323.403    0.00328902       213.768   3.048e-05       0.001      121  LS failed, Hessian reset \n",
      "      99       324.704   0.000147074        81.411      0.2842           1      153   \n",
      "    Iter      log prob        ||dx||      ||grad||       alpha      alpha0  # evals  Notes \n",
      "     111       324.911    0.00237016       109.054   2.627e-05       0.001      195  LS failed, Hessian reset \n",
      "     197       325.255   3.28432e-05       61.6551   4.941e-07       0.001      343  LS failed, Hessian reset \n",
      "     199       325.256   2.48964e-05       59.5636           1           1      345   \n",
      "    Iter      log prob        ||dx||      ||grad||       alpha      alpha0  # evals  Notes \n",
      "     299       325.314   7.39019e-06       68.3976      0.5464      0.5464      478   \n",
      "    Iter      log prob        ||dx||      ||grad||       alpha      alpha0  # evals  Notes \n",
      "     361       325.346   2.46516e-06       84.6349   3.708e-08       0.001      597  LS failed, Hessian reset \n",
      "     368       325.346   1.54955e-06       75.6576   2.739e-08       0.001      642  LS failed, Hessian reset \n",
      "     382       325.346   1.03096e-08       65.0038      0.2665           1      662   \n",
      "Optimization terminated normally: \n",
      "  Convergence detected: relative gradient magnitude is below tolerance\n",
      "Initial log joint probability = -3.40261\n",
      "    Iter      log prob        ||dx||      ||grad||       alpha      alpha0  # evals  Notes \n",
      "      99       247.311      0.016155       25.4643      0.2085           1      138   \n",
      "    Iter      log prob        ||dx||      ||grad||       alpha      alpha0  # evals  Notes \n",
      "     171       247.449   7.70655e-08       6.75384      0.3522      0.3522      240   \n",
      "Optimization terminated normally: \n",
      "  Convergence detected: relative gradient magnitude is below tolerance\n",
      "Initial log joint probability = -3.40261\n",
      "    Iter      log prob        ||dx||      ||grad||       alpha      alpha0  # evals  Notes \n",
      "      99       334.149      0.011499       46.4687           1           1      123   \n",
      "    Iter      log prob        ||dx||      ||grad||       alpha      alpha0  # evals  Notes \n",
      "     199       336.437     0.0196474       57.3422           1           1      235   \n",
      "    Iter      log prob        ||dx||      ||grad||       alpha      alpha0  # evals  Notes \n",
      "     299       337.352    0.00348438       15.1599           1           1      349   \n",
      "    Iter      log prob        ||dx||      ||grad||       alpha      alpha0  # evals  Notes \n",
      "     399       337.682   0.000863141       8.00503      0.2884           1      469   \n",
      "    Iter      log prob        ||dx||      ||grad||       alpha      alpha0  # evals  Notes \n",
      "     400       337.683   0.000118393       11.3022   1.479e-05       0.001      503  LS failed, Hessian reset \n",
      "     499       337.763    0.00324715       10.8431           1           1      630   \n",
      "    Iter      log prob        ||dx||      ||grad||       alpha      alpha0  # evals  Notes \n",
      "     507       337.773   0.000102726       23.0703   6.449e-06       0.001      674  LS failed, Hessian reset \n",
      "     599       337.823   0.000249273       4.69218           1           1      787   \n",
      "    Iter      log prob        ||dx||      ||grad||       alpha      alpha0  # evals  Notes \n",
      "     625       337.832   1.25728e-05       4.90257   2.028e-06       0.001      863  LS failed, Hessian reset \n",
      "     699       337.848    0.00153362       13.6106           1           1      959   \n",
      "    Iter      log prob        ||dx||      ||grad||       alpha      alpha0  # evals  Notes \n",
      "     716       337.857   5.10233e-05       15.0087   4.866e-06       0.001     1015  LS failed, Hessian reset \n",
      "     799       337.896   4.88975e-05       7.81279      0.5055      0.5055     1128   \n",
      "    Iter      log prob        ||dx||      ||grad||       alpha      alpha0  # evals  Notes \n",
      "     899       337.916   0.000593923       6.59731      0.8283      0.8283     1253   \n",
      "    Iter      log prob        ||dx||      ||grad||       alpha      alpha0  # evals  Notes \n",
      "     918       337.964    3.0439e-05       11.1912   4.469e-06       0.001     1327  LS failed, Hessian reset \n",
      "     960       337.989    2.0352e-05       6.02885   6.818e-06       0.001     1417  LS failed, Hessian reset \n",
      "     999       338.008   0.000561523       11.3829           1           1     1469   \n",
      "    Iter      log prob        ||dx||      ||grad||       alpha      alpha0  # evals  Notes \n",
      "    1099       338.063     0.0322754       15.8293       4.391      0.4391     1593   \n",
      "    Iter      log prob        ||dx||      ||grad||       alpha      alpha0  # evals  Notes \n",
      "    1199        338.19   0.000319016       6.08403           1           1     1719   \n",
      "    Iter      log prob        ||dx||      ||grad||       alpha      alpha0  # evals  Notes \n",
      "    1292       338.236   1.07951e-05       3.55932   1.443e-06       0.001     1882  LS failed, Hessian reset \n",
      "    1299       338.237   0.000140857       10.5485      0.4404           1     1891   \n",
      "    Iter      log prob        ||dx||      ||grad||       alpha      alpha0  # evals  Notes \n",
      "    1319        338.24   2.00223e-05       7.42486   3.221e-06       0.001     1948  LS failed, Hessian reset \n",
      "    1368       338.245   1.40023e-05       5.59848   2.153e-06       0.001     2044  LS failed, Hessian reset \n",
      "    1399       338.249   6.75583e-05       3.61643      0.4355      0.4355     2079   \n",
      "    Iter      log prob        ||dx||      ||grad||       alpha      alpha0  # evals  Notes \n",
      "    1499       338.414    0.00425454       8.59072      0.6385      0.6385     2197   \n",
      "    Iter      log prob        ||dx||      ||grad||       alpha      alpha0  # evals  Notes \n",
      "    1512       338.448   0.000291764       24.0439   1.138e-05       0.001     2245  LS failed, Hessian reset \n",
      "    1599       338.645    0.00172896         10.27           1           1     2360   \n",
      "    Iter      log prob        ||dx||      ||grad||       alpha      alpha0  # evals  Notes \n",
      "    1620        338.66   7.38758e-05       6.06888   1.025e-05       0.001     2428  LS failed, Hessian reset \n",
      "    1699       338.685    0.00538922       13.1265           1           1     2532   \n",
      "    Iter      log prob        ||dx||      ||grad||       alpha      alpha0  # evals  Notes \n",
      "    1706       338.689   2.91247e-05       8.61724   5.427e-06       0.001     2586  LS failed, Hessian reset \n",
      "    1799        338.71   0.000186345       9.95647           1           1     2722   \n",
      "    Iter      log prob        ||dx||      ||grad||       alpha      alpha0  # evals  Notes \n",
      "    1899       338.723    0.00182583       5.42201           1           1     2841   \n",
      "    Iter      log prob        ||dx||      ||grad||       alpha      alpha0  # evals  Notes \n",
      "    1921       338.744   6.56034e-05       25.0595   1.693e-06       0.001     2913  LS failed, Hessian reset \n",
      "    1941       338.756   9.28765e-05        4.5376   1.815e-05       0.001     2973  LS failed, Hessian reset \n",
      "    1975       338.763   3.59615e-05       6.82718   1.204e-05       0.001     3043  LS failed, Hessian reset \n",
      "    1999       338.765   0.000160097        14.547      0.5736      0.5736     3071   \n",
      "    Iter      log prob        ||dx||      ||grad||       alpha      alpha0  # evals  Notes \n",
      "    2002       338.765   1.11223e-05       4.54419   1.585e-06       0.001     3111  LS failed, Hessian reset \n",
      "    2028       338.767   2.19944e-07       2.87561      0.1723      0.1723     3145   \n",
      "Optimization terminated normally: \n",
      "  Convergence detected: relative gradient magnitude is below tolerance\n"
     ]
    },
    {
     "name": "stderr",
     "output_type": "stream",
     "text": [
      "WARNING:fbprophet.models:Optimization terminated abnormally. Falling back to Newton.\n"
     ]
    },
    {
     "name": "stdout",
     "output_type": "stream",
     "text": [
      "Initial log joint probability = -3.40261\n",
      "    Iter      log prob        ||dx||      ||grad||       alpha      alpha0  # evals  Notes \n",
      "       1      -3.40261           nan       122.923       1e-12       0.001       24   \n",
      "Optimization terminated with error: \n",
      "  Line search failed to achieve a sufficient decrease, no more progress can be made\n",
      "\n",
      "Initial log joint probability = 49.6697\n",
      "Iteration  1. Log joint probability =    94.1411. Improved by 44.4714.\n",
      "Iteration  2. Log joint probability =    176.486. Improved by 82.3447.\n",
      "Iteration  3. Log joint probability =    257.216. Improved by 80.73.\n",
      "Iteration  4. Log joint probability =    310.246. Improved by 53.0306.\n",
      "Iteration  5. Log joint probability =    311.797. Improved by 1.55016.\n",
      "Iteration  6. Log joint probability =    312.867. Improved by 1.07015.\n",
      "Iteration  7. Log joint probability =    313.235. Improved by 0.368509.\n",
      "Iteration  8. Log joint probability =    313.511. Improved by 0.275684.\n",
      "Iteration  9. Log joint probability =    313.716. Improved by 0.204949.\n",
      "Iteration 10. Log joint probability =     313.74. Improved by 0.024135.\n",
      "Iteration 11. Log joint probability =    313.828. Improved by 0.0881208.\n",
      "Iteration 12. Log joint probability =    313.883. Improved by 0.055183.\n",
      "Iteration 13. Log joint probability =    313.897. Improved by 0.0137941.\n",
      "Iteration 14. Log joint probability =    313.927. Improved by 0.0300445.\n",
      "Iteration 15. Log joint probability =    313.943. Improved by 0.01546.\n",
      "Iteration 16. Log joint probability =    313.955. Improved by 0.0123528.\n",
      "Iteration 17. Log joint probability =     313.96. Improved by 0.00498879.\n",
      "Iteration 18. Log joint probability =     313.97. Improved by 0.00965784.\n",
      "Iteration 19. Log joint probability =    313.976. Improved by 0.00641059.\n",
      "Iteration 20. Log joint probability =    313.978. Improved by 0.00165427.\n",
      "Iteration 21. Log joint probability =    313.982. Improved by 0.00428001.\n",
      "Iteration 22. Log joint probability =    313.982. Improved by 0.000399671.\n",
      "Iteration 23. Log joint probability =    313.983. Improved by 0.000386897.\n",
      "Iteration 24. Log joint probability =    313.983. Improved by 0.000501384.\n",
      "Iteration 25. Log joint probability =    313.984. Improved by 0.000658971.\n",
      "Iteration 26. Log joint probability =    313.984. Improved by 0.000100867.\n",
      "Iteration 27. Log joint probability =    313.984. Improved by 0.000277935.\n",
      "Iteration 28. Log joint probability =    313.985. Improved by 0.000288662.\n",
      "Iteration 29. Log joint probability =    313.985. Improved by 0.000220338.\n",
      "Iteration 30. Log joint probability =    313.985. Improved by 0.000110804.\n",
      "Iteration 31. Log joint probability =    313.985. Improved by 6.42679e-05.\n",
      "Iteration 32. Log joint probability =    313.985. Improved by 7.19421e-05.\n",
      "Iteration 33. Log joint probability =    313.985. Improved by 9.21194e-05.\n",
      "Iteration 34. Log joint probability =    313.985. Improved by 5.22145e-05.\n",
      "Iteration 35. Log joint probability =    313.985. Improved by 1.89805e-05.\n",
      "Iteration 36. Log joint probability =    313.985. Improved by 1.52265e-05.\n",
      "Iteration 37. Log joint probability =    313.985. Improved by 8.96239e-06.\n",
      "Iteration 38. Log joint probability =    313.985. Improved by 2.80495e-06.\n",
      "Iteration 39. Log joint probability =    313.985. Improved by 4.08493e-06.\n",
      "Iteration 40. Log joint probability =    313.985. Improved by 1.34074e-06.\n",
      "Iteration 41. Log joint probability =    313.985. Improved by 3.43127e-06.\n",
      "Iteration 42. Log joint probability =    313.985. Improved by 5.8791e-06.\n",
      "Iteration 43. Log joint probability =    313.985. Improved by 2.58822e-06.\n",
      "Iteration 44. Log joint probability =    313.985. Improved by 2.78611e-06.\n",
      "Iteration 45. Log joint probability =    313.985. Improved by 7.98615e-07.\n",
      "Iteration 46. Log joint probability =    313.985. Improved by 5.37615e-07.\n",
      "Iteration 47. Log joint probability =    313.985. Improved by 8.11681e-07.\n",
      "Iteration 48. Log joint probability =    313.985. Improved by 4.72881e-07.\n",
      "Iteration 49. Log joint probability =    313.985. Improved by 5.13954e-07.\n",
      "Iteration 50. Log joint probability =    313.985. Improved by 9.42898e-07.\n",
      "Iteration 51. Log joint probability =    313.985. Improved by 2.0087e-07.\n",
      "Iteration 52. Log joint probability =    313.985. Improved by 4.37998e-07.\n",
      "Iteration 53. Log joint probability =    313.985. Improved by 1.34612e-06.\n",
      "Iteration 54. Log joint probability =    313.985. Improved by 1.48696e-06.\n",
      "Iteration 55. Log joint probability =    313.985. Improved by 5.08692e-07.\n",
      "Iteration 56. Log joint probability =    313.985. Improved by 2.8764e-07.\n",
      "Iteration 57. Log joint probability =    313.985. Improved by 9.96202e-08.\n",
      "Iteration 58. Log joint probability =    313.985. Improved by 1.76606e-07.\n",
      "Iteration 59. Log joint probability =    313.985. Improved by 4.82734e-07.\n",
      "Iteration 60. Log joint probability =    313.985. Improved by 1.07042e-07.\n",
      "Iteration 61. Log joint probability =    313.985. Improved by 9.91591e-08.\n",
      "Iteration 62. Log joint probability =    313.985. Improved by 7.63989e-08.\n",
      "Iteration 63. Log joint probability =    313.985. Improved by 2.57902e-08.\n",
      "Iteration 64. Log joint probability =    313.985. Improved by 4.18697e-08.\n",
      "Iteration 65. Log joint probability =    313.985. Improved by 4.38886e-08.\n",
      "Iteration 66. Log joint probability =    313.985. Improved by 9.04862e-09.\n",
      "Initial log joint probability = -3.40261\n",
      "    Iter      log prob        ||dx||      ||grad||       alpha      alpha0  # evals  Notes \n",
      "      99       246.929    0.00710588       11.0952           1           1      127   \n",
      "    Iter      log prob        ||dx||      ||grad||       alpha      alpha0  # evals  Notes \n",
      "     199       247.305     0.0128922       3.95452       1.177      0.1177      257   \n",
      "    Iter      log prob        ||dx||      ||grad||       alpha      alpha0  # evals  Notes \n",
      "     299        247.34    0.00115234       4.59458           1           1      390   \n",
      "    Iter      log prob        ||dx||      ||grad||       alpha      alpha0  # evals  Notes \n",
      "     324       247.353   9.12868e-05       4.88887    1.46e-05       0.001      484  LS failed, Hessian reset \n",
      "     374       247.357   5.38789e-07       3.44824   1.421e-07       0.001      587  LS failed, Hessian reset \n",
      "     375       247.357   3.11224e-07       2.53388           1           1      588   \n",
      "Optimization terminated normally: \n",
      "  Convergence detected: relative gradient magnitude is below tolerance\n"
     ]
    },
    {
     "name": "stderr",
     "output_type": "stream",
     "text": [
      "WARNING:fbprophet.models:Optimization terminated abnormally. Falling back to Newton.\n"
     ]
    },
    {
     "name": "stdout",
     "output_type": "stream",
     "text": [
      "Initial log joint probability = -3.40261\n",
      "    Iter      log prob        ||dx||      ||grad||       alpha      alpha0  # evals  Notes \n",
      "       1      -3.40261           nan       119.685       1e-12       0.001       21   \n",
      "Optimization terminated with error: \n",
      "  Line search failed to achieve a sufficient decrease, no more progress can be made\n",
      "\n",
      "Initial log joint probability = 20.895\n",
      "Iteration  1. Log joint probability =    85.5607. Improved by 64.6657.\n",
      "Iteration  2. Log joint probability =    184.978. Improved by 99.4172.\n",
      "Iteration  3. Log joint probability =     230.24. Improved by 45.2625.\n",
      "Iteration  4. Log joint probability =    234.984. Improved by 4.74334.\n",
      "Iteration  5. Log joint probability =    239.631. Improved by 4.64735.\n",
      "Iteration  6. Log joint probability =    239.975. Improved by 0.343857.\n",
      "Iteration  7. Log joint probability =    240.122. Improved by 0.14712.\n",
      "Iteration  8. Log joint probability =    241.673. Improved by 1.55104.\n",
      "Iteration  9. Log joint probability =    241.783. Improved by 0.11042.\n",
      "Iteration 10. Log joint probability =    241.963. Improved by 0.17937.\n",
      "Iteration 11. Log joint probability =    242.065. Improved by 0.102444.\n",
      "Iteration 12. Log joint probability =    242.147. Improved by 0.0819259.\n",
      "Iteration 13. Log joint probability =    242.169. Improved by 0.0215124.\n",
      "Iteration 14. Log joint probability =    242.229. Improved by 0.0601599.\n",
      "Iteration 15. Log joint probability =    242.237. Improved by 0.00777747.\n",
      "Iteration 16. Log joint probability =    242.272. Improved by 0.0355324.\n",
      "Iteration 17. Log joint probability =     242.29. Improved by 0.0177329.\n",
      "Iteration 18. Log joint probability =    242.299. Improved by 0.00861355.\n",
      "Iteration 19. Log joint probability =    242.303. Improved by 0.0045204.\n",
      "Iteration 20. Log joint probability =    242.305. Improved by 0.00217143.\n",
      "Iteration 21. Log joint probability =    242.306. Improved by 0.00115019.\n",
      "Iteration 22. Log joint probability =    242.306. Improved by 6.10883e-05.\n",
      "Iteration 23. Log joint probability =    242.306. Improved by 4.9494e-05.\n",
      "Iteration 24. Log joint probability =    242.307. Improved by 0.00053148.\n",
      "Iteration 25. Log joint probability =    242.307. Improved by 4.16154e-05.\n",
      "Iteration 26. Log joint probability =    242.307. Improved by 0.000252234.\n",
      "Iteration 27. Log joint probability =    242.307. Improved by 4.39938e-05.\n",
      "Iteration 28. Log joint probability =    242.308. Improved by 0.000138629.\n",
      "Iteration 29. Log joint probability =    242.308. Improved by 5.08858e-05.\n",
      "Iteration 30. Log joint probability =    242.308. Improved by 4.16379e-06.\n",
      "Iteration 31. Log joint probability =    242.308. Improved by 3.79932e-05.\n",
      "Iteration 32. Log joint probability =    242.308. Improved by 1.6493e-05.\n",
      "Iteration 33. Log joint probability =    242.308. Improved by 8.20987e-06.\n",
      "Iteration 34. Log joint probability =    242.308. Improved by 1.18749e-06.\n",
      "Iteration 35. Log joint probability =    242.308. Improved by 4.58586e-06.\n",
      "Iteration 36. Log joint probability =    242.308. Improved by 1.51105e-06.\n",
      "Iteration 37. Log joint probability =    242.308. Improved by 4.3162e-08.\n",
      "Iteration 38. Log joint probability =    242.308. Improved by 1.11995e-06.\n",
      "Iteration 39. Log joint probability =    242.308. Improved by 5.1174e-07.\n",
      "Iteration 40. Log joint probability =    242.308. Improved by 1.15276e-08.\n",
      "Iteration 41. Log joint probability =    242.308. Improved by 3.90918e-08.\n",
      "Iteration 42. Log joint probability =    242.308. Improved by 2.62615e-07.\n",
      "Iteration 43. Log joint probability =    242.308. Improved by 1.39645e-07.\n",
      "Iteration 44. Log joint probability =    242.308. Improved by 6.31257e-08.\n",
      "Iteration 45. Log joint probability =    242.308. Improved by 7.34931e-09.\n",
      "Initial log joint probability = -3.40261\n",
      "    Iter      log prob        ||dx||      ||grad||       alpha      alpha0  # evals  Notes \n",
      "      99       244.324   0.000718019        45.209      0.4972      0.4972      131   \n",
      "    Iter      log prob        ||dx||      ||grad||       alpha      alpha0  # evals  Notes \n",
      "     119       244.464    0.00132894       47.1817   3.194e-05       0.001      194  LS failed, Hessian reset \n",
      "     199       244.519   1.12607e-08       37.2241      0.1103      0.1103      301   \n",
      "    Iter      log prob        ||dx||      ||grad||       alpha      alpha0  # evals  Notes \n",
      "     211       244.519    4.3869e-08       34.6939      0.7032      0.7032      314   \n",
      "Optimization terminated normally: \n",
      "  Convergence detected: relative gradient magnitude is below tolerance\n",
      "Initial log joint probability = -3.40261\n",
      "    Iter      log prob        ||dx||      ||grad||       alpha      alpha0  # evals  Notes \n",
      "      99       394.498    0.00135889       183.929           1           1      122   \n",
      "    Iter      log prob        ||dx||      ||grad||       alpha      alpha0  # evals  Notes \n",
      "     199       400.569    0.00192492       76.0459       3.273      0.3273      243   \n",
      "    Iter      log prob        ||dx||      ||grad||       alpha      alpha0  # evals  Notes \n",
      "     248       401.188   0.000106276       77.3547   1.767e-06       0.001      353  LS failed, Hessian reset \n",
      "     299        401.53   1.93346e-05       32.3663      0.4311      0.4311      415   \n",
      "    Iter      log prob        ||dx||      ||grad||       alpha      alpha0  # evals  Notes \n",
      "     309       401.562   9.56492e-05       74.3866   2.095e-06       0.001      469  LS failed, Hessian reset \n",
      "     358       401.584   4.45547e-05       33.6882   1.506e-06       0.001      565  LS failed, Hessian reset \n",
      "     399       401.597   3.48907e-06       29.9268      0.4563      0.4563      622   \n",
      "    Iter      log prob        ||dx||      ||grad||       alpha      alpha0  # evals  Notes \n",
      "     449       401.608   5.03521e-05       37.6302   1.291e-06       0.001      723  LS failed, Hessian reset \n",
      "     499       401.618   1.20005e-06       23.5865           1           1      790   \n",
      "    Iter      log prob        ||dx||      ||grad||       alpha      alpha0  # evals  Notes \n",
      "     509       401.618      2.79e-09       32.1263    0.006394    0.006394      810   \n",
      "Optimization terminated normally: \n",
      "  Convergence detected: absolute parameter change was below tolerance\n"
     ]
    },
    {
     "name": "stderr",
     "output_type": "stream",
     "text": [
      "INFO:fbprophet:Disabling weekly seasonality. Run prophet with weekly_seasonality=True to override this.\n",
      "INFO:fbprophet:Disabling daily seasonality. Run prophet with daily_seasonality=True to override this.\n"
     ]
    },
    {
     "name": "stdout",
     "output_type": "stream",
     "text": [
      "Initial log joint probability = -2.16854\n",
      "    Iter      log prob        ||dx||      ||grad||       alpha      alpha0  # evals  Notes \n",
      "      99       390.798    0.00102171        148.23           1           1      122   \n",
      "    Iter      log prob        ||dx||      ||grad||       alpha      alpha0  # evals  Notes \n",
      "     184       393.433   0.000113917       88.5011   1.042e-06       0.001      269  LS failed, Hessian reset \n",
      "     199       393.453   1.18395e-05        67.101      0.6432      0.6432      292   \n",
      "    Iter      log prob        ||dx||      ||grad||       alpha      alpha0  # evals  Notes \n",
      "     230       393.827   0.000171812       123.183   9.136e-07       0.001      369  LS failed, Hessian reset \n",
      "     299       394.415   0.000700583       124.644     0.02966      0.6732      460   \n",
      "    Iter      log prob        ||dx||      ||grad||       alpha      alpha0  # evals  Notes \n",
      "     314       394.627   0.000401414       175.303   5.225e-06       0.001      521  LS failed, Hessian reset \n",
      "     349       394.734   2.39132e-05       65.7669   3.299e-07       0.001      610  LS failed, Hessian reset \n",
      "     399       394.788    0.00804224       158.002           1           1      683   \n",
      "    Iter      log prob        ||dx||      ||grad||       alpha      alpha0  # evals  Notes \n",
      "     499       395.419   0.000218643       75.6851      0.3414           1      814   \n",
      "    Iter      log prob        ||dx||      ||grad||       alpha      alpha0  # evals  Notes \n",
      "     586       395.466   6.33453e-07        80.638    8.95e-09       0.001      957  LS failed, Hessian reset \n",
      "     596       395.466   2.27618e-07       75.5758   3.324e-09       0.001     1007  LS failed, Hessian reset \n",
      "     599       395.466   3.97653e-08       64.8912      0.6547      0.6547     1010   \n",
      "    Iter      log prob        ||dx||      ||grad||       alpha      alpha0  # evals  Notes \n",
      "     610       395.466   1.48003e-08       63.7037      0.2257      0.2257     1025   \n",
      "Optimization terminated normally: \n",
      "  Convergence detected: relative gradient magnitude is below tolerance\n"
     ]
    },
    {
     "name": "stderr",
     "output_type": "stream",
     "text": [
      "INFO:fbprophet:Disabling weekly seasonality. Run prophet with weekly_seasonality=True to override this.\n",
      "INFO:fbprophet:Disabling daily seasonality. Run prophet with daily_seasonality=True to override this.\n"
     ]
    },
    {
     "name": "stdout",
     "output_type": "stream",
     "text": [
      "Initial log joint probability = -2.16854\n",
      "    Iter      log prob        ||dx||      ||grad||       alpha      alpha0  # evals  Notes \n",
      "      99       390.798    0.00102171        148.23           1           1      122   \n",
      "    Iter      log prob        ||dx||      ||grad||       alpha      alpha0  # evals  Notes \n",
      "     184       393.433   0.000113917       88.5011   1.042e-06       0.001      269  LS failed, Hessian reset \n",
      "     199       393.453   1.18395e-05        67.101      0.6432      0.6432      292   \n",
      "    Iter      log prob        ||dx||      ||grad||       alpha      alpha0  # evals  Notes \n",
      "     230       393.827   0.000171812       123.183   9.136e-07       0.001      369  LS failed, Hessian reset \n",
      "     299       394.415   0.000700583       124.644     0.02966      0.6732      460   \n",
      "    Iter      log prob        ||dx||      ||grad||       alpha      alpha0  # evals  Notes \n",
      "     314       394.627   0.000401414       175.303   5.225e-06       0.001      521  LS failed, Hessian reset \n",
      "     349       394.734   2.39132e-05       65.7669   3.299e-07       0.001      610  LS failed, Hessian reset \n",
      "     399       394.788    0.00804224       158.002           1           1      683   \n",
      "    Iter      log prob        ||dx||      ||grad||       alpha      alpha0  # evals  Notes \n",
      "     499       395.419   0.000218643       75.6851      0.3414           1      814   \n",
      "    Iter      log prob        ||dx||      ||grad||       alpha      alpha0  # evals  Notes \n",
      "     586       395.466   6.33453e-07        80.638    8.95e-09       0.001      957  LS failed, Hessian reset \n",
      "     596       395.466   2.27618e-07       75.5758   3.324e-09       0.001     1007  LS failed, Hessian reset \n",
      "     599       395.466   3.97653e-08       64.8912      0.6547      0.6547     1010   \n",
      "    Iter      log prob        ||dx||      ||grad||       alpha      alpha0  # evals  Notes \n",
      "     610       395.466   1.48003e-08       63.7037      0.2257      0.2257     1025   \n",
      "Optimization terminated normally: \n",
      "  Convergence detected: relative gradient magnitude is below tolerance\n"
     ]
    },
    {
     "name": "stderr",
     "output_type": "stream",
     "text": [
      "INFO:fbprophet:Disabling weekly seasonality. Run prophet with weekly_seasonality=True to override this.\n",
      "INFO:fbprophet:Disabling daily seasonality. Run prophet with daily_seasonality=True to override this.\n"
     ]
    },
    {
     "name": "stdout",
     "output_type": "stream",
     "text": [
      "Initial log joint probability = -2.16854\n",
      "    Iter      log prob        ||dx||      ||grad||       alpha      alpha0  # evals  Notes \n",
      "      99       390.798    0.00102171        148.23           1           1      122   \n",
      "    Iter      log prob        ||dx||      ||grad||       alpha      alpha0  # evals  Notes \n",
      "     184       393.433   0.000113917       88.5011   1.042e-06       0.001      269  LS failed, Hessian reset \n",
      "     199       393.453   1.18395e-05        67.101      0.6432      0.6432      292   \n",
      "    Iter      log prob        ||dx||      ||grad||       alpha      alpha0  # evals  Notes \n",
      "     230       393.827   0.000171812       123.183   9.136e-07       0.001      369  LS failed, Hessian reset \n",
      "     299       394.415   0.000700583       124.644     0.02966      0.6732      460   \n",
      "    Iter      log prob        ||dx||      ||grad||       alpha      alpha0  # evals  Notes \n",
      "     314       394.627   0.000401414       175.303   5.225e-06       0.001      521  LS failed, Hessian reset \n",
      "     349       394.734   2.39132e-05       65.7669   3.299e-07       0.001      610  LS failed, Hessian reset \n",
      "     399       394.788    0.00804224       158.002           1           1      683   \n",
      "    Iter      log prob        ||dx||      ||grad||       alpha      alpha0  # evals  Notes \n",
      "     499       395.419   0.000218643       75.6851      0.3414           1      814   \n",
      "    Iter      log prob        ||dx||      ||grad||       alpha      alpha0  # evals  Notes \n",
      "     586       395.466   6.33453e-07        80.638    8.95e-09       0.001      957  LS failed, Hessian reset \n",
      "     596       395.466   2.27618e-07       75.5758   3.324e-09       0.001     1007  LS failed, Hessian reset \n",
      "     599       395.466   3.97653e-08       64.8912      0.6547      0.6547     1010   \n",
      "    Iter      log prob        ||dx||      ||grad||       alpha      alpha0  # evals  Notes \n",
      "     610       395.466   1.48003e-08       63.7037      0.2257      0.2257     1025   \n",
      "Optimization terminated normally: \n",
      "  Convergence detected: relative gradient magnitude is below tolerance\n"
     ]
    },
    {
     "name": "stderr",
     "output_type": "stream",
     "text": [
      "INFO:fbprophet:Disabling weekly seasonality. Run prophet with weekly_seasonality=True to override this.\n",
      "INFO:fbprophet:Disabling daily seasonality. Run prophet with daily_seasonality=True to override this.\n"
     ]
    },
    {
     "name": "stdout",
     "output_type": "stream",
     "text": [
      "Initial log joint probability = -2.16854\n",
      "    Iter      log prob        ||dx||      ||grad||       alpha      alpha0  # evals  Notes \n",
      "      99       390.798    0.00102171        148.23           1           1      122   \n",
      "    Iter      log prob        ||dx||      ||grad||       alpha      alpha0  # evals  Notes \n",
      "     184       393.433   0.000113917       88.5011   1.042e-06       0.001      269  LS failed, Hessian reset \n",
      "     199       393.453   1.18395e-05        67.101      0.6432      0.6432      292   \n",
      "    Iter      log prob        ||dx||      ||grad||       alpha      alpha0  # evals  Notes \n",
      "     230       393.827   0.000171812       123.183   9.136e-07       0.001      369  LS failed, Hessian reset \n",
      "     299       394.415   0.000700583       124.644     0.02966      0.6732      460   \n",
      "    Iter      log prob        ||dx||      ||grad||       alpha      alpha0  # evals  Notes \n",
      "     314       394.627   0.000401414       175.303   5.225e-06       0.001      521  LS failed, Hessian reset \n",
      "     349       394.734   2.39132e-05       65.7669   3.299e-07       0.001      610  LS failed, Hessian reset \n",
      "     399       394.788    0.00804224       158.002           1           1      683   \n",
      "    Iter      log prob        ||dx||      ||grad||       alpha      alpha0  # evals  Notes \n",
      "     499       395.419   0.000218643       75.6851      0.3414           1      814   \n",
      "    Iter      log prob        ||dx||      ||grad||       alpha      alpha0  # evals  Notes \n",
      "     586       395.466   6.33453e-07        80.638    8.95e-09       0.001      957  LS failed, Hessian reset \n",
      "     596       395.466   2.27618e-07       75.5758   3.324e-09       0.001     1007  LS failed, Hessian reset \n",
      "     599       395.466   3.97653e-08       64.8912      0.6547      0.6547     1010   \n",
      "    Iter      log prob        ||dx||      ||grad||       alpha      alpha0  # evals  Notes \n",
      "     610       395.466   1.48003e-08       63.7037      0.2257      0.2257     1025   \n",
      "Optimization terminated normally: \n",
      "  Convergence detected: relative gradient magnitude is below tolerance\n"
     ]
    },
    {
     "name": "stderr",
     "output_type": "stream",
     "text": [
      "INFO:fbprophet:Disabling weekly seasonality. Run prophet with weekly_seasonality=True to override this.\n",
      "INFO:fbprophet:Disabling daily seasonality. Run prophet with daily_seasonality=True to override this.\n"
     ]
    },
    {
     "name": "stdout",
     "output_type": "stream",
     "text": [
      "Initial log joint probability = -2.16854\n",
      "    Iter      log prob        ||dx||      ||grad||       alpha      alpha0  # evals  Notes \n",
      "      99       390.798    0.00102171        148.23           1           1      122   \n",
      "    Iter      log prob        ||dx||      ||grad||       alpha      alpha0  # evals  Notes \n",
      "     184       393.433   0.000113917       88.5011   1.042e-06       0.001      269  LS failed, Hessian reset \n",
      "     199       393.453   1.18395e-05        67.101      0.6432      0.6432      292   \n",
      "    Iter      log prob        ||dx||      ||grad||       alpha      alpha0  # evals  Notes \n",
      "     230       393.827   0.000171812       123.183   9.136e-07       0.001      369  LS failed, Hessian reset \n",
      "     299       394.415   0.000700583       124.644     0.02966      0.6732      460   \n",
      "    Iter      log prob        ||dx||      ||grad||       alpha      alpha0  # evals  Notes \n",
      "     314       394.627   0.000401414       175.303   5.225e-06       0.001      521  LS failed, Hessian reset \n",
      "     349       394.734   2.39132e-05       65.7669   3.299e-07       0.001      610  LS failed, Hessian reset \n",
      "     399       394.788    0.00804224       158.002           1           1      683   \n",
      "    Iter      log prob        ||dx||      ||grad||       alpha      alpha0  # evals  Notes \n",
      "     499       395.419   0.000218643       75.6851      0.3414           1      814   \n",
      "    Iter      log prob        ||dx||      ||grad||       alpha      alpha0  # evals  Notes \n",
      "     586       395.466   6.33453e-07        80.638    8.95e-09       0.001      957  LS failed, Hessian reset \n",
      "     596       395.466   2.27618e-07       75.5758   3.324e-09       0.001     1007  LS failed, Hessian reset \n",
      "     599       395.466   3.97653e-08       64.8912      0.6547      0.6547     1010   \n",
      "    Iter      log prob        ||dx||      ||grad||       alpha      alpha0  # evals  Notes \n",
      "     610       395.466   1.48003e-08       63.7037      0.2257      0.2257     1025   \n",
      "Optimization terminated normally: \n",
      "  Convergence detected: relative gradient magnitude is below tolerance\n"
     ]
    }
   ],
   "source": [
    "# get meta data as a dictionary\n",
    "air_passengers_metadata = MD.get_meta_data()"
   ]
  },
  {
   "cell_type": "markdown",
   "metadata": {},
   "source": [
    "Let's take a look at the keys of the metadata dictionary."
   ]
  },
  {
   "cell_type": "code",
   "execution_count": 10,
   "metadata": {},
   "outputs": [
    {
     "data": {
      "text/plain": [
       "dict_keys(['hpt_res', 'features', 'best_model', 'search_method', 'error_method'])"
      ]
     },
     "execution_count": 10,
     "metadata": {},
     "output_type": "execute_result"
    }
   ],
   "source": [
    "air_passengers_metadata.keys()"
   ]
  },
  {
   "cell_type": "markdown",
   "metadata": {},
   "source": [
    "We explained what `features`, `hpt_res` and `best_model` are above.  This dictionary also includes the `search_method` and `error_method`, which will just be the default values in this case.  We can see these as follows."
   ]
  },
  {
   "cell_type": "code",
   "execution_count": 11,
   "metadata": {},
   "outputs": [
    {
     "name": "stdout",
     "output_type": "stream",
     "text": [
      "search_method: RandomSearch\n",
      "error_method: mape\n"
     ]
    }
   ],
   "source": [
    "print(f\"search_method: {air_passengers_metadata['search_method']}\")\n",
    "print(f\"error_method: {air_passengers_metadata['error_method']}\")"
   ]
  },
  {
   "cell_type": "markdown",
   "metadata": {},
   "source": [
    "The keys of the `hpt_res` dictionary are name of the candidate model families; they should be the same as the keys for the `all_models` and `all_parameters` dictionaries. "
   ]
  },
  {
   "cell_type": "code",
   "execution_count": 12,
   "metadata": {},
   "outputs": [
    {
     "data": {
      "text/plain": [
       "dict_keys(['arima', 'holtwinters', 'prophet', 'theta', 'stlf', 'sarima'])"
      ]
     },
     "execution_count": 12,
     "metadata": {},
     "output_type": "execute_result"
    }
   ],
   "source": [
    "air_passengers_metadata['hpt_res'].keys()"
   ]
  },
  {
   "cell_type": "markdown",
   "metadata": {},
   "source": [
    "The values of the `hpt_res` dictionary are two-element tuples.  The first element is gives the hyperparameters that minimize the error metric.  The second element gives the corresponding minimum error metric.  Let's take a look at these values for ARIMA:"
   ]
  },
  {
   "cell_type": "code",
   "execution_count": 13,
   "metadata": {},
   "outputs": [
    {
     "data": {
      "text/plain": [
       "({'p': 4, 'd': 1, 'q': 3}, 0.10616511652054089)"
      ]
     },
     "execution_count": 13,
     "metadata": {},
     "output_type": "execute_result"
    }
   ],
   "source": [
    "air_passengers_metadata['hpt_res']['arima']"
   ]
  },
  {
   "cell_type": "markdown",
   "metadata": {},
   "source": [
    "We can sort the different methods by their error metric as follows:"
   ]
  },
  {
   "cell_type": "code",
   "execution_count": 14,
   "metadata": {},
   "outputs": [
    {
     "data": {
      "text/plain": [
       "['prophet', 'stlf', 'holtwinters', 'theta', 'arima', 'sarima']"
      ]
     },
     "execution_count": 14,
     "metadata": {},
     "output_type": "execute_result"
    }
   ],
   "source": [
    "methods = list(air_passengers_metadata['hpt_res'].keys())\n",
    "sorted(methods, key = lambda m: air_passengers_metadata['hpt_res'][m][1])"
   ]
  },
  {
   "cell_type": "markdown",
   "metadata": {},
   "source": [
    "This suggests that Prophet has the lowest error metric.  Let's confirm that this is what `best_model` indicates:"
   ]
  },
  {
   "cell_type": "code",
   "execution_count": 15,
   "metadata": {},
   "outputs": [
    {
     "data": {
      "text/plain": [
       "'prophet'"
      ]
     },
     "execution_count": 15,
     "metadata": {},
     "output_type": "execute_result"
    }
   ],
   "source": [
    "air_passengers_metadata['best_model']"
   ]
  },
  {
   "cell_type": "markdown",
   "metadata": {},
   "source": [
    "We constructed the `GetMetaData` object for the `air_passengers` data set with all of the default settings.  Let's take a look at the full set of attributes that can be used to initialize `GetMetadata`.\n",
    "\n",
    "This is the only required attributed: \n",
    "* **data**: TimeSeriesData, the time series for which we calculate the metadata\n",
    "\n",
    "The following attributes are all optional:\n",
    "* **all_models**: `Dict[str, m.Model]`, a dictionary for the candidate model classes.  The key is a string naming the model and each value is a corresponding model class (i.e. a class that extends the abstract class `kats.models.Model`).\n",
    "* **all_params**: `Dict[str, Params]`, a dictionary for the candidate model parameter classes.  The keys are the same as the keys for `all_models` and each value is a corresponding parameter class (i.e. a class that extends the class `kats.const.Params`).\n",
    "* **min_length**: int, the minimal length of time series. We raise a value error if the length of `data` is smaller than `min_length`.  The default value of `min_length` is 30.\n",
    "* **scale**: bool, Whether to rescale the time series by its maximum value; default is true.\n",
    "* **method**: SearchMethodEnum, Search method for hyper-parameters tuning; default is random search in the default parameter space\n",
    "* **executor**: Callable, A parallel executor for parallel processing.  By default, we use Python's native multiprocessing implementation.\n",
    "* **error_method**: str, Type of error metric.  Options are `'mape`', `'smape`',`'mae`', `'mase`', `'mse`', `'rmse`';  default is `'mae'`.\n",
    "* **num_trials**: int, Number of trials for hyperparameter search; default is 5\n",
    "* **num_arm**: optional Number of arms in hyperparameter search; default is 4."
   ]
  },
  {
   "cell_type": "markdown",
   "metadata": {},
   "source": [
    "For the remaining examples, we use the sample data in `m3_meta_data.csv` to show how to build meta-learning models.  This sample data set contains the metadata for 78 time series, meaning it has that we need to construct 78 metadata dictionaries like the one we constructed for the `air_passengers` data set.  While 78 metadata objects is certainly too few to develop an accurate meta-learning model and you should use more examples for your own meta-learning models to get high accuracy, these examples will help familiarize you with our meta-learning framework.\n",
    "\n",
    "Loading this data is straightforward is straightforward.  After loading it into a `DataFrame`, we have to do some pre-processing with the `eval` function to ensure that the dictionaries are represented as dictionaries and not as strings.  We demonstrate this as follows:"
   ]
  },
  {
   "cell_type": "code",
   "execution_count": 17,
   "metadata": {},
   "outputs": [],
   "source": [
    "# load the metadata into a DataFrame\n",
    "try: # If running on Jupyter\n",
    "    metadata_df = pd.read_csv(\"../data/m3_meta_data.csv\")\n",
    "except FileNotFoundError: # If running on colab\n",
    "    metadata_df = pd.read_csv(\"m3_meta_data.csv\")\n",
    "\n",
    "# We need to do a little pre-processing to make sure the dictionaries are represented as dictionaries\n",
    "# rather than as strings.  This function will do that pre-processing.\n",
    "def change_format(tmp):\n",
    "    tmp['hpt_res']=eval(tmp['hpt_res'])\n",
    "    tmp['hpt_res']['sarima'][0]['seasonal_order'] = eval(tmp['hpt_res']['sarima'][0]['seasonal_order'])\n",
    "    tmp['features']=eval(tmp['features'])\n",
    "    return tmp\n",
    "\n",
    "metadata_df = metadata_df.apply(change_format, axis=1)"
   ]
  },
  {
   "cell_type": "markdown",
   "metadata": {},
   "source": [
    "Let's preview the metadata `DataFrame` we just loaded."
   ]
  },
  {
   "cell_type": "code",
   "execution_count": 18,
   "metadata": {},
   "outputs": [
    {
     "data": {
      "text/html": [
       "<div>\n",
       "<style scoped>\n",
       "    .dataframe tbody tr th:only-of-type {\n",
       "        vertical-align: middle;\n",
       "    }\n",
       "\n",
       "    .dataframe tbody tr th {\n",
       "        vertical-align: top;\n",
       "    }\n",
       "\n",
       "    .dataframe thead th {\n",
       "        text-align: right;\n",
       "    }\n",
       "</style>\n",
       "<table border=\"1\" class=\"dataframe\">\n",
       "  <thead>\n",
       "    <tr style=\"text-align: right;\">\n",
       "      <th></th>\n",
       "      <th>hpt_res</th>\n",
       "      <th>features</th>\n",
       "      <th>best_model</th>\n",
       "      <th>search_method</th>\n",
       "      <th>error_method</th>\n",
       "      <th>idx</th>\n",
       "    </tr>\n",
       "  </thead>\n",
       "  <tbody>\n",
       "    <tr>\n",
       "      <th>0</th>\n",
       "      <td>{'arima': ({'p': 5, 'd': 2, 'q': 5}, 0.8932924...</td>\n",
       "      <td>{'length': 68, 'mean': 0.35392156862745106, 'v...</td>\n",
       "      <td>stlf</td>\n",
       "      <td>RandomSearch</td>\n",
       "      <td>mape</td>\n",
       "      <td>N1402</td>\n",
       "    </tr>\n",
       "    <tr>\n",
       "      <th>1</th>\n",
       "      <td>{'arima': ({'p': 5, 'd': 2, 'q': 1}, 0.3989958...</td>\n",
       "      <td>{'length': 68, 'mean': 0.19995256166982928, 'v...</td>\n",
       "      <td>arima</td>\n",
       "      <td>RandomSearch</td>\n",
       "      <td>mape</td>\n",
       "      <td>N1403</td>\n",
       "    </tr>\n",
       "    <tr>\n",
       "      <th>2</th>\n",
       "      <td>{'arima': ({'p': 1, 'd': 2, 'q': 3}, 0.2519500...</td>\n",
       "      <td>{'length': 68, 'mean': 0.48962530217566486, 'v...</td>\n",
       "      <td>holtwinters</td>\n",
       "      <td>RandomSearch</td>\n",
       "      <td>mape</td>\n",
       "      <td>N1404</td>\n",
       "    </tr>\n",
       "    <tr>\n",
       "      <th>3</th>\n",
       "      <td>{'arima': ({'p': 2, 'd': 1, 'q': 3}, 0.3146896...</td>\n",
       "      <td>{'length': 68, 'mean': 0.2980870396939263, 'va...</td>\n",
       "      <td>stlf</td>\n",
       "      <td>RandomSearch</td>\n",
       "      <td>mape</td>\n",
       "      <td>N1405</td>\n",
       "    </tr>\n",
       "    <tr>\n",
       "      <th>4</th>\n",
       "      <td>{'arima': ({'p': 3, 'd': 1, 'q': 1}, 0.1448053...</td>\n",
       "      <td>{'length': 68, 'mean': 0.5336050082683677, 'va...</td>\n",
       "      <td>arima</td>\n",
       "      <td>RandomSearch</td>\n",
       "      <td>mape</td>\n",
       "      <td>N1406</td>\n",
       "    </tr>\n",
       "  </tbody>\n",
       "</table>\n",
       "</div>"
      ],
      "text/plain": [
       "                                             hpt_res  \\\n",
       "0  {'arima': ({'p': 5, 'd': 2, 'q': 5}, 0.8932924...   \n",
       "1  {'arima': ({'p': 5, 'd': 2, 'q': 1}, 0.3989958...   \n",
       "2  {'arima': ({'p': 1, 'd': 2, 'q': 3}, 0.2519500...   \n",
       "3  {'arima': ({'p': 2, 'd': 1, 'q': 3}, 0.3146896...   \n",
       "4  {'arima': ({'p': 3, 'd': 1, 'q': 1}, 0.1448053...   \n",
       "\n",
       "                                            features   best_model  \\\n",
       "0  {'length': 68, 'mean': 0.35392156862745106, 'v...         stlf   \n",
       "1  {'length': 68, 'mean': 0.19995256166982928, 'v...        arima   \n",
       "2  {'length': 68, 'mean': 0.48962530217566486, 'v...  holtwinters   \n",
       "3  {'length': 68, 'mean': 0.2980870396939263, 'va...         stlf   \n",
       "4  {'length': 68, 'mean': 0.5336050082683677, 'va...        arima   \n",
       "\n",
       "  search_method error_method    idx  \n",
       "0  RandomSearch         mape  N1402  \n",
       "1  RandomSearch         mape  N1403  \n",
       "2  RandomSearch         mape  N1404  \n",
       "3  RandomSearch         mape  N1405  \n",
       "4  RandomSearch         mape  N1406  "
      ]
     },
     "execution_count": 18,
     "metadata": {},
     "output_type": "execute_result"
    }
   ],
   "source": [
    "metadata_df.head()"
   ]
  },
  {
   "cell_type": "markdown",
   "metadata": {},
   "source": [
    "Let's convert this metadata `DataFrame` into a list of metadata dictionaries."
   ]
  },
  {
   "cell_type": "code",
   "execution_count": 19,
   "metadata": {},
   "outputs": [],
   "source": [
    "metadata_list = metadata_df.to_dict(orient='records')"
   ]
  },
  {
   "cell_type": "markdown",
   "metadata": {},
   "source": [
    "## 3. Determining Predictability with `MetaLearnPredictability`"
   ]
  },
  {
   "cell_type": "markdown",
   "metadata": {},
   "source": [
    "Before using meta-learning models for model selection and hyper-parameter forecasting, we would like to know if our target time series is predictable.  The `MetaLearnPredictability` module allows us to treat this like a binary classification problem and build a model for it.  We train this model using a list of a metadata and a threshold for the error metric.  We use the threshold to label each metadata dictionary as predictable if and only if the error of it's `best_model` is smaller than the input threshold.  The arguments for `MetaLearnPredictability` are as follows:\n",
    "\n",
    "\n",
    "* **metadata**: A list of dictionaries representing the meta-data of time series (e.g., the meta-data generated by GetMetaData object).  Required unless `load_model=True`.\n",
    "\n",
    "* **threshold**: Float; the threshold for the forecasting error. A time series whose forecasting error of the best forecasting model is higher than the threshold is considered as unpredictable. Default is 0.2.\n",
    "\n",
    "* **load_model**: Boolean; whether or not to load a trained model. Default is False.\n",
    "\n",
    "\n",
    "If we want to train a new predictability model from a list of metadata dictionaries, we should include that list in the `metadata` argument.  If we want to load a trained model, we set `load_data=True` and do ignore the `metadata` argument.  We will provide examples of both below."
   ]
  },
  {
   "cell_type": "markdown",
   "metadata": {},
   "source": [
    "For our example, we are going to use the sample metadata from the `m3_meta_data.csv` file to train a predictability model with `MetaLearnPredictability`.  Then we will use this to predict whether or not `air_passenger` time series can be forecasted (with MAPE at most 0.2).\n",
    "\n",
    "We initialize model using the `metadata_list` we previously generated from `m3_meta_data.csv` as follows:"
   ]
  },
  {
   "cell_type": "code",
   "execution_count": 20,
   "metadata": {},
   "outputs": [],
   "source": [
    "from kats.models.metalearner.metalearner_predictability import MetaLearnPredictability\n",
    "\n",
    "# take the time series with MAPE>=0.2 as unpreditable time series and initial the object\n",
    "mlp=MetaLearnPredictability(metadata_list, threshold=0.2)"
   ]
  },
  {
   "cell_type": "markdown",
   "metadata": {},
   "source": [
    "When we train the model, we see a dictionary with performance metrics calculated on the test data set."
   ]
  },
  {
   "cell_type": "code",
   "execution_count": 21,
   "metadata": {},
   "outputs": [
    {
     "name": "stderr",
     "output_type": "stream",
     "text": [
      "WARNING:root:Fail to get a proper threshold for recall 0.7, use 0.5 as threshold instead. Exception message is: index 7 is out of bounds for axis 0 with size 7\n"
     ]
    },
    {
     "data": {
      "text/plain": [
       "{'accuracy': 0.8571428571428571,\n",
       " 'precision': 0.8571428571428571,\n",
       " 'recall': 1.0,\n",
       " 'f1': 0.923076923076923}"
      ]
     },
     "execution_count": 21,
     "metadata": {},
     "output_type": "execute_result"
    }
   ],
   "source": [
    "mlp.train()"
   ]
  },
  {
   "cell_type": "markdown",
   "metadata": {},
   "source": [
    "Now we can use this model to predict if the `air_passenger` time series is predictable."
   ]
  },
  {
   "cell_type": "code",
   "execution_count": 22,
   "metadata": {},
   "outputs": [
    {
     "data": {
      "text/plain": [
       "True"
      ]
     },
     "execution_count": 22,
     "metadata": {},
     "output_type": "execute_result"
    }
   ],
   "source": [
    "mlp.pred(air_passengers_ts) "
   ]
  },
  {
   "cell_type": "markdown",
   "metadata": {},
   "source": [
    "This suggests that this model can be forecast with MAPE at most 0.2."
   ]
  },
  {
   "cell_type": "markdown",
   "metadata": {},
   "source": [
    "Let's save the model we trained to a file."
   ]
  },
  {
   "cell_type": "code",
   "execution_count": 23,
   "metadata": {},
   "outputs": [],
   "source": [
    "mlp.save_model(\"mlp.pkl\")"
   ]
  },
  {
   "cell_type": "markdown",
   "metadata": {},
   "source": [
    "Now let's re-load our saved model into a new `MetaLearnPredictability` object."
   ]
  },
  {
   "cell_type": "code",
   "execution_count": 24,
   "metadata": {},
   "outputs": [],
   "source": [
    "#initiate a new object and load the trained model\n",
    "mlp2 = MetaLearnPredictability(load_model=True)\n",
    "mlp2.load_model(\"mlp.pkl\")"
   ]
  },
  {
   "cell_type": "markdown",
   "metadata": {},
   "source": [
    "Finally, let's use our newly loaded model to repeat the prediction we did on the `air_passenger` data set."
   ]
  },
  {
   "cell_type": "code",
   "execution_count": 25,
   "metadata": {},
   "outputs": [
    {
     "data": {
      "text/plain": [
       "True"
      ]
     },
     "execution_count": 25,
     "metadata": {},
     "output_type": "execute_result"
    }
   ],
   "source": [
    "mlp2.pred(air_passengers_ts) "
   ]
  },
  {
   "cell_type": "markdown",
   "metadata": {},
   "source": [
    "## 4. **Model Selection with `MetaLearnModelSelect`**\n",
    "\n",
    "The `MetaLearnModelSelect` object allows you to build a predictive model to determine the best forecasting model for a time series.  It is trained using a list of metadata dictionaries.  The arguments for `MetaLearnModelSelect` are as follows:\n",
    "\n",
    "* **metadata**: A list of dictionaries representing the meta-data of time series (e.g., the meta-data generated by GetMetaData object).  Required unless `load_model=True`.\n",
    "\n",
    "* **load_model**: Boolean; whether or not to load a trained model. Default is False.\n",
    "\n",
    "If we want to train a new predictability model from a list of metadata dictionaries, we should include that list in the `metadata` argument.  If we want to load a trained model, we set `load_data=True` and do ignore the `metadata` argument.  We will provide examples of both below."
   ]
  },
  {
   "cell_type": "markdown",
   "metadata": {},
   "source": [
    "For our example, we are going to use the sample metadata from the `m3_meta_data.csv` file to train a selection model with `MetaLearnModelSelect`.  Then we will use this to predict the best forecasting model for the `air_passenger` time series.\n",
    "\n",
    "We initialize model using the `metadata_list` we previously generated from `m3_meta_data.csv` as follows:"
   ]
  },
  {
   "cell_type": "code",
   "execution_count": 26,
   "metadata": {},
   "outputs": [],
   "source": [
    "from kats.models.metalearner.metalearner_modelselect import MetaLearnModelSelect\n",
    "\n",
    "#Initialize the MetaLearnModelSelect object\n",
    "mlms = MetaLearnModelSelect(metadata_list)"
   ]
  },
  {
   "cell_type": "markdown",
   "metadata": {},
   "source": [
    "Each metadata dictionary includes a `best_model`, and we can take a look at the frquencies of these models using the `count_category` function."
   ]
  },
  {
   "cell_type": "code",
   "execution_count": 27,
   "metadata": {},
   "outputs": [
    {
     "data": {
      "text/plain": [
       "Counter({'stlf': 22,\n",
       "         'arima': 11,\n",
       "         'holtwinters': 16,\n",
       "         'prophet': 7,\n",
       "         'sarima': 17,\n",
       "         'theta': 5})"
      ]
     },
     "execution_count": 27,
     "metadata": {},
     "output_type": "execute_result"
    }
   ],
   "source": [
    "mlms.count_category()"
   ]
  },
  {
   "cell_type": "markdown",
   "metadata": {},
   "source": [
    "Before we visualize the data and train the model, it is helpful do some preprocessing.  We can do this with the `preprocess` function."
   ]
  },
  {
   "cell_type": "code",
   "execution_count": 28,
   "metadata": {},
   "outputs": [],
   "source": [
    "# pre-process the metadata\n",
    "# don't down-sample it to balance the classes\n",
    "# standardize the TsFeatures to have zero mean and unit variance\n",
    "mlms.preprocess(downsample=False, scale=True)"
   ]
  },
  {
   "cell_type": "markdown",
   "metadata": {},
   "source": [
    "We can see how the different `TsFeatures` in our metadata objects are correlated with each other by plotting a heatmap, which can be generated using the `plot_corr_heatmap` function."
   ]
  },
  {
   "cell_type": "code",
   "execution_count": 29,
   "metadata": {},
   "outputs": [
    {
     "data": {
      "text/plain": [
       "<AxesSubplot: >"
      ]
     },
     "execution_count": 29,
     "metadata": {},
     "output_type": "execute_result"
    },
    {
     "data": {
      "image/png": "[encoded data removed]",
      "text/plain": [
       "<Figure size 800x600 with 2 Axes>"
      ]
     },
     "metadata": {},
     "output_type": "display_data"
    }
   ],
   "source": [
    "mlms.plot_corr_heatmap()"
   ]
  },
  {
   "cell_type": "markdown",
   "metadata": {},
   "source": [
    "Now, it is time to train our model.  By default, we will be fitting a random forest model, but other model types (including GBDT, SVT, KNN, Naive Bayes) can be supported using the `method` parameter in the `train` function.  When we run the `train` function, it outputs a dictionary with the training error and test error for each of the candidate models.  All of these error metrics are MAPE because that is the error metric our metadata is using for this example."
   ]
  },
  {
   "cell_type": "code",
   "execution_count": 30,
   "metadata": {},
   "outputs": [
    {
     "data": {
      "text/plain": [
       "{'fit_error': {'meta-learn': 0.2630881456984114,\n",
       "  'stlf': 0.30690519900916896,\n",
       "  'arima': 0.3742520212915004,\n",
       "  'holtwinters': 0.3517078269854244,\n",
       "  'prophet': 0.3306232654084563,\n",
       "  'sarima': 0.3048037675233225,\n",
       "  'theta': 0.36594408862769023},\n",
       " 'pred_error': {'meta-learn': 0.30667756270310476,\n",
       "  'stlf': 0.3120481354878931,\n",
       "  'arima': 0.28978215044320615,\n",
       "  'holtwinters': 0.28150850138844574,\n",
       "  'prophet': 0.3057369415470071,\n",
       "  'sarima': 0.3061854969694038,\n",
       "  'theta': 0.31310953885063697},\n",
       " 'clf_accuracy': 0.25}"
      ]
     },
     "execution_count": 30,
     "metadata": {},
     "output_type": "execute_result"
    }
   ],
   "source": [
    "# train a modelselect model using random forest algorithm   \n",
    "results=mlms.train()\n",
    "\n",
    "# preview the dictionary\n",
    "results"
   ]
  },
  {
   "cell_type": "markdown",
   "metadata": {},
   "source": [
    "Let's view this dictionary as a `DataFrame`."
   ]
  },
  {
   "cell_type": "code",
   "execution_count": 31,
   "metadata": {},
   "outputs": [
    {
     "data": {
      "text/html": [
       "<div>\n",
       "<style scoped>\n",
       "    .dataframe tbody tr th:only-of-type {\n",
       "        vertical-align: middle;\n",
       "    }\n",
       "\n",
       "    .dataframe tbody tr th {\n",
       "        vertical-align: top;\n",
       "    }\n",
       "\n",
       "    .dataframe thead th {\n",
       "        text-align: right;\n",
       "    }\n",
       "</style>\n",
       "<table border=\"1\" class=\"dataframe\">\n",
       "  <thead>\n",
       "    <tr style=\"text-align: right;\">\n",
       "      <th></th>\n",
       "      <th>meta-learn</th>\n",
       "      <th>stlf</th>\n",
       "      <th>arima</th>\n",
       "      <th>holtwinters</th>\n",
       "      <th>prophet</th>\n",
       "      <th>sarima</th>\n",
       "      <th>theta</th>\n",
       "      <th>error_type</th>\n",
       "      <th>error_metric</th>\n",
       "    </tr>\n",
       "  </thead>\n",
       "  <tbody>\n",
       "    <tr>\n",
       "      <th>0</th>\n",
       "      <td>0.263088</td>\n",
       "      <td>0.306905</td>\n",
       "      <td>0.374252</td>\n",
       "      <td>0.351708</td>\n",
       "      <td>0.330623</td>\n",
       "      <td>0.304804</td>\n",
       "      <td>0.365944</td>\n",
       "      <td>fit_error</td>\n",
       "      <td>MAPE</td>\n",
       "    </tr>\n",
       "    <tr>\n",
       "      <th>1</th>\n",
       "      <td>0.306678</td>\n",
       "      <td>0.312048</td>\n",
       "      <td>0.289782</td>\n",
       "      <td>0.281509</td>\n",
       "      <td>0.305737</td>\n",
       "      <td>0.306185</td>\n",
       "      <td>0.313110</td>\n",
       "      <td>pred_error</td>\n",
       "      <td>MAPE</td>\n",
       "    </tr>\n",
       "  </tbody>\n",
       "</table>\n",
       "</div>"
      ],
      "text/plain": [
       "   meta-learn      stlf     arima  holtwinters   prophet    sarima     theta  \\\n",
       "0    0.263088  0.306905  0.374252     0.351708  0.330623  0.304804  0.365944   \n",
       "1    0.306678  0.312048  0.289782     0.281509  0.305737  0.306185  0.313110   \n",
       "\n",
       "   error_type error_metric  \n",
       "0   fit_error         MAPE  \n",
       "1  pred_error         MAPE  "
      ]
     },
     "execution_count": 31,
     "metadata": {},
     "output_type": "execute_result"
    }
   ],
   "source": [
    "results_df=pd.DataFrame([results['fit_error'], results['pred_error']])\n",
    "results_df['error_type']=['fit_error', 'pred_error']\n",
    "results_df['error_metric']='MAPE'\n",
    "results_df"
   ]
  },
  {
   "cell_type": "markdown",
   "metadata": {},
   "source": [
    "Now, let's use our trained model to predict the best model for the `air_passengers` time series."
   ]
  },
  {
   "cell_type": "code",
   "execution_count": 32,
   "metadata": {},
   "outputs": [
    {
     "data": {
      "text/plain": [
       "'stlf'"
      ]
     },
     "execution_count": 32,
     "metadata": {},
     "output_type": "execute_result"
    }
   ],
   "source": [
    "mlms.pred(air_passengers_ts)"
   ]
  },
  {
   "cell_type": "markdown",
   "metadata": {},
   "source": [
    "Let's save the model we trained to a file."
   ]
  },
  {
   "cell_type": "code",
   "execution_count": 33,
   "metadata": {},
   "outputs": [],
   "source": [
    "mlms.save_model(\"mlms.pkl\")"
   ]
  },
  {
   "cell_type": "markdown",
   "metadata": {},
   "source": [
    "Now let's re-load our saved model into a new `MetaLearnModelSelect` object."
   ]
  },
  {
   "cell_type": "code",
   "execution_count": 34,
   "metadata": {},
   "outputs": [],
   "source": [
    "mlms2 = MetaLearnModelSelect(load_model=True)\n",
    "mlms2.load_model(\"mlms.pkl\")"
   ]
  },
  {
   "cell_type": "markdown",
   "metadata": {},
   "source": [
    "Finally, let's use our newly loaded model to repeat the prediction we did on the `air_passenger` data set."
   ]
  },
  {
   "cell_type": "code",
   "execution_count": 35,
   "metadata": {},
   "outputs": [
    {
     "data": {
      "text/plain": [
       "'stlf'"
      ]
     },
     "execution_count": 35,
     "metadata": {},
     "output_type": "execute_result"
    }
   ],
   "source": [
    "mlms2.pred(air_passengers_ts)"
   ]
  },
  {
   "cell_type": "markdown",
   "metadata": {},
   "source": [
    "## 5. **Hyperparameter Tuning with `MetaLearnHPT`**\n",
    "\n",
    "The `MetaLearnHPT` object allows you to build a model to predict the best hyperparameters for a time series given a designated forecasting model.  Specifically, `MetaLearnHPT` builds a neural network model that takes the `TsFeatures` for a time series as inputs and predicts the best hyperparameters for the forecasting model.\n",
    "\n",
    "Since a metadata dictionary contains both the `TsFeatures` and the best parameters (with keys `features` and `hpt_res`, respectively), we can use a list of metadata dictionaries to build this predictive model. "
   ]
  },
  {
   "cell_type": "markdown",
   "metadata": {},
   "source": [
    "For our example, we use `metadata_list`, which contains the metadata from the `m3_meta_data.csv` file, to build a  model for the Holt-Winters parameters for a time series.  We then use this model to predict the best Holt-Winters parameters for the `air_passengers` time series.  While this example is using the Holt-Winters model as the designated model, the same process can be used for any forecasting model supported by Kats as long as it is included in our metadata objects."
   ]
  },
  {
   "cell_type": "markdown",
   "metadata": {},
   "source": [
    "### 5.1 Initializing `MetaLearnHPT`"
   ]
  },
  {
   "cell_type": "markdown",
   "metadata": {},
   "source": [
    "To initialize the `MetaLearnHPT` model, we need to input the `TsFeatures` and hyperparameters for the Holt-Winters model as `DataFrame` objects.  To extract these from the metadata from `m3_meta_data.csv`, it is easiest use the `DataFrame` we loaded with this data, `metadata_df`.\n",
    "\n",
    "First, let's load the `TsFeatures` from `metadata_df` to a new `DataFrame` and preview it."
   ]
  },
  {
   "cell_type": "code",
   "execution_count": 36,
   "metadata": {},
   "outputs": [
    {
     "data": {
      "text/html": [
       "<div>\n",
       "<style scoped>\n",
       "    .dataframe tbody tr th:only-of-type {\n",
       "        vertical-align: middle;\n",
       "    }\n",
       "\n",
       "    .dataframe tbody tr th {\n",
       "        vertical-align: top;\n",
       "    }\n",
       "\n",
       "    .dataframe thead th {\n",
       "        text-align: right;\n",
       "    }\n",
       "</style>\n",
       "<table border=\"1\" class=\"dataframe\">\n",
       "  <thead>\n",
       "    <tr style=\"text-align: right;\">\n",
       "      <th></th>\n",
       "      <th>length</th>\n",
       "      <th>mean</th>\n",
       "      <th>var</th>\n",
       "      <th>entropy</th>\n",
       "      <th>lumpiness</th>\n",
       "      <th>stability</th>\n",
       "      <th>flat_spots</th>\n",
       "      <th>hurst</th>\n",
       "      <th>std1st_der</th>\n",
       "      <th>crossing_points</th>\n",
       "      <th>...</th>\n",
       "      <th>diff2y_pacf5</th>\n",
       "      <th>seas_acf1</th>\n",
       "      <th>seas_pacf1</th>\n",
       "      <th>firstmin_ac</th>\n",
       "      <th>firstzero_ac</th>\n",
       "      <th>holt_alpha</th>\n",
       "      <th>holt_beta</th>\n",
       "      <th>hw_alpha</th>\n",
       "      <th>hw_beta</th>\n",
       "      <th>hw_gamma</th>\n",
       "    </tr>\n",
       "  </thead>\n",
       "  <tbody>\n",
       "    <tr>\n",
       "      <th>0</th>\n",
       "      <td>68</td>\n",
       "      <td>0.353922</td>\n",
       "      <td>0.045430</td>\n",
       "      <td>0.833179</td>\n",
       "      <td>0.000461</td>\n",
       "      <td>0.011440</td>\n",
       "      <td>2</td>\n",
       "      <td>0.067969</td>\n",
       "      <td>0.138205</td>\n",
       "      <td>32</td>\n",
       "      <td>...</td>\n",
       "      <td>5.088309</td>\n",
       "      <td>0.212199</td>\n",
       "      <td>0.071177</td>\n",
       "      <td>1</td>\n",
       "      <td>12</td>\n",
       "      <td>0.126924</td>\n",
       "      <td>0.000000</td>\n",
       "      <td>2.328909e-01</td>\n",
       "      <td>0.000000e+00</td>\n",
       "      <td>0.186695</td>\n",
       "    </tr>\n",
       "    <tr>\n",
       "      <th>1</th>\n",
       "      <td>68</td>\n",
       "      <td>0.199953</td>\n",
       "      <td>0.027798</td>\n",
       "      <td>0.899969</td>\n",
       "      <td>0.000377</td>\n",
       "      <td>0.001403</td>\n",
       "      <td>3</td>\n",
       "      <td>0.031521</td>\n",
       "      <td>0.113224</td>\n",
       "      <td>33</td>\n",
       "      <td>...</td>\n",
       "      <td>1.407981</td>\n",
       "      <td>-0.085866</td>\n",
       "      <td>-0.060512</td>\n",
       "      <td>1</td>\n",
       "      <td>3</td>\n",
       "      <td>0.034220</td>\n",
       "      <td>0.032252</td>\n",
       "      <td>1.052632e-01</td>\n",
       "      <td>1.052632e-01</td>\n",
       "      <td>0.263158</td>\n",
       "    </tr>\n",
       "    <tr>\n",
       "      <th>2</th>\n",
       "      <td>68</td>\n",
       "      <td>0.489625</td>\n",
       "      <td>0.045509</td>\n",
       "      <td>0.806731</td>\n",
       "      <td>0.000044</td>\n",
       "      <td>0.014501</td>\n",
       "      <td>2</td>\n",
       "      <td>-0.040535</td>\n",
       "      <td>0.129866</td>\n",
       "      <td>24</td>\n",
       "      <td>...</td>\n",
       "      <td>1.342792</td>\n",
       "      <td>0.173154</td>\n",
       "      <td>-0.019452</td>\n",
       "      <td>2</td>\n",
       "      <td>18</td>\n",
       "      <td>0.044327</td>\n",
       "      <td>0.044327</td>\n",
       "      <td>1.052632e-01</td>\n",
       "      <td>1.052632e-01</td>\n",
       "      <td>0.210526</td>\n",
       "    </tr>\n",
       "    <tr>\n",
       "      <th>3</th>\n",
       "      <td>68</td>\n",
       "      <td>0.298087</td>\n",
       "      <td>0.049313</td>\n",
       "      <td>0.667211</td>\n",
       "      <td>0.000149</td>\n",
       "      <td>0.026464</td>\n",
       "      <td>1</td>\n",
       "      <td>0.021439</td>\n",
       "      <td>0.094965</td>\n",
       "      <td>25</td>\n",
       "      <td>...</td>\n",
       "      <td>1.676189</td>\n",
       "      <td>0.330326</td>\n",
       "      <td>-0.217522</td>\n",
       "      <td>3</td>\n",
       "      <td>23</td>\n",
       "      <td>0.000007</td>\n",
       "      <td>0.000000</td>\n",
       "      <td>5.263158e-02</td>\n",
       "      <td>5.263158e-02</td>\n",
       "      <td>0.157895</td>\n",
       "    </tr>\n",
       "    <tr>\n",
       "      <th>4</th>\n",
       "      <td>68</td>\n",
       "      <td>0.533605</td>\n",
       "      <td>0.065904</td>\n",
       "      <td>0.823098</td>\n",
       "      <td>0.000124</td>\n",
       "      <td>0.021781</td>\n",
       "      <td>2</td>\n",
       "      <td>-0.045258</td>\n",
       "      <td>0.152166</td>\n",
       "      <td>21</td>\n",
       "      <td>...</td>\n",
       "      <td>1.469424</td>\n",
       "      <td>0.207897</td>\n",
       "      <td>0.014251</td>\n",
       "      <td>2</td>\n",
       "      <td>22</td>\n",
       "      <td>0.000064</td>\n",
       "      <td>0.000000</td>\n",
       "      <td>7.091354e-10</td>\n",
       "      <td>9.692337e-12</td>\n",
       "      <td>0.000000</td>\n",
       "    </tr>\n",
       "  </tbody>\n",
       "</table>\n",
       "<p>5 rows × 40 columns</p>\n",
       "</div>"
      ],
      "text/plain": [
       "   length      mean       var   entropy  lumpiness  stability  flat_spots  \\\n",
       "0      68  0.353922  0.045430  0.833179   0.000461   0.011440           2   \n",
       "1      68  0.199953  0.027798  0.899969   0.000377   0.001403           3   \n",
       "2      68  0.489625  0.045509  0.806731   0.000044   0.014501           2   \n",
       "3      68  0.298087  0.049313  0.667211   0.000149   0.026464           1   \n",
       "4      68  0.533605  0.065904  0.823098   0.000124   0.021781           2   \n",
       "\n",
       "      hurst  std1st_der  crossing_points  ...  diff2y_pacf5  seas_acf1  \\\n",
       "0  0.067969    0.138205               32  ...      5.088309   0.212199   \n",
       "1  0.031521    0.113224               33  ...      1.407981  -0.085866   \n",
       "2 -0.040535    0.129866               24  ...      1.342792   0.173154   \n",
       "3  0.021439    0.094965               25  ...      1.676189   0.330326   \n",
       "4 -0.045258    0.152166               21  ...      1.469424   0.207897   \n",
       "\n",
       "   seas_pacf1  firstmin_ac  firstzero_ac  holt_alpha  holt_beta      hw_alpha  \\\n",
       "0    0.071177            1            12    0.126924   0.000000  2.328909e-01   \n",
       "1   -0.060512            1             3    0.034220   0.032252  1.052632e-01   \n",
       "2   -0.019452            2            18    0.044327   0.044327  1.052632e-01   \n",
       "3   -0.217522            3            23    0.000007   0.000000  5.263158e-02   \n",
       "4    0.014251            2            22    0.000064   0.000000  7.091354e-10   \n",
       "\n",
       "        hw_beta  hw_gamma  \n",
       "0  0.000000e+00  0.186695  \n",
       "1  1.052632e-01  0.263158  \n",
       "2  1.052632e-01  0.210526  \n",
       "3  5.263158e-02  0.157895  \n",
       "4  9.692337e-12  0.000000  \n",
       "\n",
       "[5 rows x 40 columns]"
      ]
     },
     "execution_count": 36,
     "metadata": {},
     "output_type": "execute_result"
    }
   ],
   "source": [
    "metadata_features_df = pd.DataFrame(metadata_df['features'].tolist())\n",
    "metadata_features_df.head()"
   ]
  },
  {
   "cell_type": "markdown",
   "metadata": {},
   "source": [
    "Now, let's do the same for the the Holt-Winters hyperparameters."
   ]
  },
  {
   "cell_type": "code",
   "execution_count": 37,
   "metadata": {},
   "outputs": [
    {
     "data": {
      "text/html": [
       "<div>\n",
       "<style scoped>\n",
       "    .dataframe tbody tr th:only-of-type {\n",
       "        vertical-align: middle;\n",
       "    }\n",
       "\n",
       "    .dataframe tbody tr th {\n",
       "        vertical-align: top;\n",
       "    }\n",
       "\n",
       "    .dataframe thead th {\n",
       "        text-align: right;\n",
       "    }\n",
       "</style>\n",
       "<table border=\"1\" class=\"dataframe\">\n",
       "  <thead>\n",
       "    <tr style=\"text-align: right;\">\n",
       "      <th></th>\n",
       "      <th>seasonal_periods</th>\n",
       "      <th>trend</th>\n",
       "      <th>damped</th>\n",
       "      <th>seasonal</th>\n",
       "    </tr>\n",
       "  </thead>\n",
       "  <tbody>\n",
       "    <tr>\n",
       "      <th>0</th>\n",
       "      <td>7</td>\n",
       "      <td>additive</td>\n",
       "      <td>True</td>\n",
       "      <td>multiplicative</td>\n",
       "    </tr>\n",
       "    <tr>\n",
       "      <th>1</th>\n",
       "      <td>7</td>\n",
       "      <td>multiplicative</td>\n",
       "      <td>True</td>\n",
       "      <td>multiplicative</td>\n",
       "    </tr>\n",
       "    <tr>\n",
       "      <th>2</th>\n",
       "      <td>14</td>\n",
       "      <td>additive</td>\n",
       "      <td>True</td>\n",
       "      <td>additive</td>\n",
       "    </tr>\n",
       "    <tr>\n",
       "      <th>3</th>\n",
       "      <td>4</td>\n",
       "      <td>multiplicative</td>\n",
       "      <td>False</td>\n",
       "      <td>multiplicative</td>\n",
       "    </tr>\n",
       "    <tr>\n",
       "      <th>4</th>\n",
       "      <td>10</td>\n",
       "      <td>multiplicative</td>\n",
       "      <td>False</td>\n",
       "      <td>additive</td>\n",
       "    </tr>\n",
       "  </tbody>\n",
       "</table>\n",
       "</div>"
      ],
      "text/plain": [
       "   seasonal_periods           trend  damped        seasonal\n",
       "0                 7        additive    True  multiplicative\n",
       "1                 7  multiplicative    True  multiplicative\n",
       "2                14        additive    True        additive\n",
       "3                 4  multiplicative   False  multiplicative\n",
       "4                10  multiplicative   False        additive"
      ]
     },
     "execution_count": 37,
     "metadata": {},
     "output_type": "execute_result"
    }
   ],
   "source": [
    "metadata_hpt_df = pd.DataFrame(metadata_df['hpt_res'].map(lambda x: x['holtwinters'][0]).tolist())\n",
    "metadata_hpt_df.head()"
   ]
  },
  {
   "cell_type": "markdown",
   "metadata": {},
   "source": [
    "The arguments for `MetaLearnHPT` are:\n",
    "* **data_x**: pd.DataFrame; A DataFrame with the TsFeatures.  Required unless `load_model=True`.\n",
    "* **data_y**: pd.DataFrame; A DataFrame with the best hyperparameters.  Required unless `load_model=True`.\n",
    "* **default_model**: string; The name of the forecast model whose default settings will be used. Supported options are 'arima', 'sarima', 'theta', 'prophet', 'holtwinters', 'stlf' and None.  Default is None, in which case we instantiate a custom model and use `categorical_idx` and `numerical_idx` to get the names of the hyperparameters.\n",
    "* **categorical_idx**: A list of strings of the names of the categorical hyper-parameters.  Required only when `default_model` is `None` and there are categorical hyper-parameters.\n",
    "* **numerical_idx**: Optional; A list of strings of the names of the numerical hyper-parameters.  Required only when `default_model` is `None` and there are numerical hyper-parameters.\n",
    "    If None, then a customized model will be initiated.\n",
    "* **load_model**: Boolean; whether or not to load a trained model. Default is False.\n",
    "\n",
    "\n",
    "We can initialize the `MetaLearnHPT` model using a `default_model` as follows."
   ]
  },
  {
   "cell_type": "code",
   "execution_count": 38,
   "metadata": {},
   "outputs": [],
   "source": [
    "from kats.models.metalearner.metalearner_hpt import MetaLearnHPT\n",
    "\n",
    "mlhpt_holtwinters = MetaLearnHPT(\n",
    "    data_x=metadata_features_df,\n",
    "    data_y=metadata_hpt_df,\n",
    "    default_model='holtwinters'\n",
    ")"
   ]
  },
  {
   "cell_type": "raw",
   "metadata": {},
   "source": [
    "We can also initialize this as a custom model by specifying the names of the parameters rather than the name of the model.  The main difference between these formulations is as follows:\n",
    "\n",
    "* When using a default model, you need to use the default neural network structure \n",
    "* When using a custom model, you need to specify the neural network parameters.\n",
    "\n",
    "We will show an example of each of these"
   ]
  },
  {
   "cell_type": "code",
   "execution_count": 39,
   "metadata": {},
   "outputs": [],
   "source": [
    "mlhpt_holtwinters2=MetaLearnHPT(\n",
    "    data_x=metadata_features_df,\n",
    "    data_y=metadata_hpt_df,\t\n",
    "    categorical_idx = [\"trend\",\"damped\",\"seasonal\"],\n",
    "    numerical_idx = [\"seasonal_periods\"]\n",
    ")"
   ]
  },
  {
   "cell_type": "markdown",
   "metadata": {},
   "source": [
    "### 5.2 `MetaLearnHPT` with Default Neural Network Model Structure\n",
    "\n",
    "When using a default model like we did when initializing `mlhpt_holtwinters`, `MetaLearnHPT` builds a neural network with the default neural network model structure.  This means we call the `build_network` function with no parameters."
   ]
  },
  {
   "cell_type": "code",
   "execution_count": 40,
   "metadata": {},
   "outputs": [
    {
     "name": "stdout",
     "output_type": "stream",
     "text": [
      "Multi-task neural network structure:\n",
      "MultitaskNet(\n",
      "  (shared_layer): ModuleList(\n",
      "    (0): Linear(in_features=40, out_features=20, bias=True)\n",
      "  )\n",
      "  (cat_layer_combo): ModuleList(\n",
      "    (0): ModuleList(\n",
      "      (0): Linear(in_features=20, out_features=2, bias=True)\n",
      "      (1): Linear(in_features=2, out_features=2, bias=True)\n",
      "    )\n",
      "    (1): ModuleList(\n",
      "      (0): Linear(in_features=20, out_features=3, bias=True)\n",
      "      (1): Linear(in_features=3, out_features=2, bias=True)\n",
      "    )\n",
      "    (2): ModuleList(\n",
      "      (0): Linear(in_features=20, out_features=5, bias=True)\n",
      "      (1): Linear(in_features=5, out_features=2, bias=True)\n",
      "    )\n",
      "    (3): ModuleList(\n",
      "      (0): Linear(in_features=20, out_features=3, bias=True)\n",
      "      (1): Linear(in_features=3, out_features=6, bias=True)\n",
      "    )\n",
      "  )\n",
      "  (num_layer): ModuleList()\n",
      ")\n"
     ]
    }
   ],
   "source": [
    "mlhpt_holtwinters.build_network()"
   ]
  },
  {
   "cell_type": "markdown",
   "metadata": {},
   "source": [
    "We use the `train` function to train the neural network."
   ]
  },
  {
   "cell_type": "code",
   "execution_count": 41,
   "metadata": {},
   "outputs": [],
   "source": [
    "mlhpt_holtwinters.train(lr=0.001, batch_size=20)"
   ]
  },
  {
   "cell_type": "markdown",
   "metadata": {},
   "source": [
    "Let's look at the training curves for this model."
   ]
  },
  {
   "cell_type": "code",
   "execution_count": 42,
   "metadata": {},
   "outputs": [
    {
     "data": {
      "text/plain": [
       "array([<AxesSubplot: title={'center': 'Loss path of classification tasks'}, ylabel='Cross-entropy'>,\n",
       "       <AxesSubplot: title={'center': 'Loss path of regression task'}, xlabel='Epoch', ylabel='MSE'>],\n",
       "      dtype=object)"
      ]
     },
     "execution_count": 42,
     "metadata": {},
     "output_type": "execute_result"
    },
    {
     "data": {
      "image/png": "[encoded data removed]",
      "text/plain": [
       "<Figure size 1500x700 with 2 Axes>"
      ]
     },
     "metadata": {},
     "output_type": "display_data"
    }
   ],
   "source": [
    "mlhpt_holtwinters.plot()"
   ]
  },
  {
   "cell_type": "markdown",
   "metadata": {},
   "source": [
    "Now let's use our trained model to predict the best Holt-Winters parameters for the `air_passengers` time series.  The `pred` function returns a `DataFrame` and the predicted parameters are in the `parameters` column."
   ]
  },
  {
   "cell_type": "code",
   "execution_count": 43,
   "metadata": {},
   "outputs": [
    {
     "data": {
      "text/plain": [
       "{'trend': 'additive',\n",
       " 'damped': False,\n",
       " 'seasonal': 'multiplicative',\n",
       " 'seasonal_periods': 10}"
      ]
     },
     "execution_count": 43,
     "metadata": {},
     "output_type": "execute_result"
    }
   ],
   "source": [
    "pred=mlhpt_holtwinters.pred(air_passengers_ts)\n",
    "pred['parameters'].iloc[0]"
   ]
  },
  {
   "cell_type": "markdown",
   "metadata": {},
   "source": [
    "Let's save the model we trained to a file."
   ]
  },
  {
   "cell_type": "code",
   "execution_count": 44,
   "metadata": {},
   "outputs": [],
   "source": [
    "mlhpt_holtwinters.save_model(\"mlhpt_hw.pkl\")"
   ]
  },
  {
   "cell_type": "markdown",
   "metadata": {},
   "source": [
    "Now let's re-load our saved model into a new `MetaLearnHPT` object."
   ]
  },
  {
   "cell_type": "code",
   "execution_count": 45,
   "metadata": {},
   "outputs": [],
   "source": [
    "mlhpt_holtwinters3=MetaLearnHPT(load_model=True)\n",
    "mlhpt_holtwinters3.load_model(\"mlhpt_hw.pkl\")"
   ]
  },
  {
   "cell_type": "markdown",
   "metadata": {},
   "source": [
    "Let's use our newly loaded model to repeat the prediction we did on the `air_passenger` data set."
   ]
  },
  {
   "cell_type": "code",
   "execution_count": 46,
   "metadata": {},
   "outputs": [
    {
     "data": {
      "text/plain": [
       "{'trend': 'additive',\n",
       " 'damped': False,\n",
       " 'seasonal': 'multiplicative',\n",
       " 'seasonal_periods': 10}"
      ]
     },
     "execution_count": 46,
     "metadata": {},
     "output_type": "execute_result"
    }
   ],
   "source": [
    "pred=mlhpt_holtwinters3.pred(air_passengers_ts)\n",
    "pred['parameters'].iloc[0]"
   ]
  },
  {
   "cell_type": "markdown",
   "metadata": {},
   "source": [
    "### 5.3 `MetaLearnHPT` with Custom Neural Network Model Structure\n",
    "\n",
    "When using a custom model like we did when initializing `mlhpt_holtwinters2`, you need to specify the model structure by providing the parameters for the neural network to the `build_network` function. \n",
    "\n",
    "Here's how we can do that."
   ]
  },
  {
   "cell_type": "code",
   "execution_count": 47,
   "metadata": {},
   "outputs": [
    {
     "name": "stdout",
     "output_type": "stream",
     "text": [
      "Multi-task neural network structure:\n",
      "MultitaskNet(\n",
      "  (shared_layer): ModuleList(\n",
      "    (0): Linear(in_features=40, out_features=50, bias=True)\n",
      "  )\n",
      "  (cat_layer_combo): ModuleList(\n",
      "    (0): ModuleList(\n",
      "      (0): Linear(in_features=50, out_features=20, bias=True)\n",
      "      (1): Linear(in_features=20, out_features=10, bias=True)\n",
      "      (2): Linear(in_features=10, out_features=2, bias=True)\n",
      "    )\n",
      "    (1): ModuleList(\n",
      "      (0): Linear(in_features=50, out_features=20, bias=True)\n",
      "      (1): Linear(in_features=20, out_features=10, bias=True)\n",
      "      (2): Linear(in_features=10, out_features=2, bias=True)\n",
      "    )\n",
      "    (2): ModuleList(\n",
      "      (0): Linear(in_features=50, out_features=20, bias=True)\n",
      "      (1): Linear(in_features=20, out_features=2, bias=True)\n",
      "    )\n",
      "  )\n",
      "  (num_layer): ModuleList(\n",
      "    (0): Linear(in_features=50, out_features=30, bias=True)\n",
      "    (1): Linear(in_features=30, out_features=1, bias=True)\n",
      "  )\n",
      ")\n"
     ]
    }
   ],
   "source": [
    "mlhpt_holtwinters2.build_network(\n",
    "    #One shared one-layer NN with 50 neurons.\n",
    "    n_hidden_shared=[50],\n",
    "    #Each classification task has its own task-specific NN. In this example, \"trend\" and \"dampled\" both have a two-layer NN respectively\n",
    "    #and \"seasonal\" has a one-layer NN.\n",
    "    n_hidden_cat_combo=[[20, 10], [20, 10], [20]], \n",
    "    #One task-specific one-layer NN with 30 neurons for regression task.\n",
    "    n_hidden_num=[30]\n",
    ")"
   ]
  },
  {
   "cell_type": "markdown",
   "metadata": {},
   "source": [
    "Now let's use the `train` function to train the model.  We include some of the extra parameters here to specify how to train the neural network model."
   ]
  },
  {
   "cell_type": "code",
   "execution_count": 48,
   "metadata": {},
   "outputs": [],
   "source": [
    "#train the customized NN\n",
    "mlhpt_holtwinters2.train(    \n",
    "    #loss_scale is used to balance 2 types of losses: cross-entropy for classification tasks and MSE for regression tasks\n",
    "    loss_scale=30,\n",
    "    #learning rate\n",
    "    lr=0.005,\n",
    "    n_epochs=2000,\n",
    "    batch_size=16,\n",
    "    #supports ADAM and SGD\n",
    "    method='SGD',\n",
    "    #momentum in SGD.\n",
    "    momentum=0,\n",
    "    #early stop option.\n",
    "    n_epochs_stop=50,)"
   ]
  },
  {
   "cell_type": "markdown",
   "metadata": {},
   "source": [
    "Let's look at the training curves for this model."
   ]
  },
  {
   "cell_type": "code",
   "execution_count": 49,
   "metadata": {},
   "outputs": [
    {
     "data": {
      "text/plain": [
       "array([<AxesSubplot: title={'center': 'Loss path of classification tasks'}, ylabel='Cross-entropy'>,\n",
       "       <AxesSubplot: title={'center': 'Loss path of regression task'}, xlabel='Epoch', ylabel='MSE'>],\n",
       "      dtype=object)"
      ]
     },
     "execution_count": 49,
     "metadata": {},
     "output_type": "execute_result"
    },
    {
     "data": {
      "image/png": "[encoded data removed]",
      "text/plain": [
       "<Figure size 1500x700 with 2 Axes>"
      ]
     },
     "metadata": {},
     "output_type": "display_data"
    }
   ],
   "source": [
    "mlhpt_holtwinters2.plot()"
   ]
  },
  {
   "cell_type": "markdown",
   "metadata": {},
   "source": [
    "Let's use our trained model to predict the best parameters for the `air_passengers` time series. "
   ]
  },
  {
   "cell_type": "code",
   "execution_count": 50,
   "metadata": {},
   "outputs": [
    {
     "data": {
      "text/plain": [
       "{'trend': 'multiplicative',\n",
       " 'damped': False,\n",
       " 'seasonal': 'multiplicative',\n",
       " 'seasonal_periods': 454.34265}"
      ]
     },
     "execution_count": 50,
     "metadata": {},
     "output_type": "execute_result"
    }
   ],
   "source": [
    "pred=mlhpt_holtwinters2.pred(air_passengers_ts)\n",
    "pred['parameters'].iloc[0]"
   ]
  }
 ],
 "metadata": {
  "kernelspec": {
   "display_name": "Python 3 (ipykernel)",
   "language": "python",
   "name": "python3"
  },
  "language_info": {
   "codemirror_mode": {
    "name": "ipython",
    "version": 3
   },
   "file_extension": ".py",
   "mimetype": "text/x-python",
   "name": "python",
   "nbconvert_exporter": "python",
   "pygments_lexer": "ipython3",
   "version": "3.8.9"
  },
  "metadata": {
   "interpreter": {
    "hash": "5b6e8fba36db23bc4d54e0302cd75fdd75c29d9edcbab68d6cfc74e7e4b30305"
   }
  }
 },
 "nbformat": 4,
 "nbformat_minor": 2
}
